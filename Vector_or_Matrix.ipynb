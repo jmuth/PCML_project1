{
 "cells": [
  {
   "cell_type": "code",
   "execution_count": 3,
   "metadata": {
    "collapsed": true
   },
   "outputs": [],
   "source": [
    "import numpy as np"
   ]
  },
  {
   "cell_type": "code",
   "execution_count": 4,
   "metadata": {
    "collapsed": false
   },
   "outputs": [
    {
     "name": "stdout",
     "output_type": "stream",
     "text": [
      "y =  [1 2 3 4]\n",
      "z =  [[5]\n",
      " [6]\n",
      " [7]\n",
      " [8]]\n",
      "y @ z =  [70]\n",
      "z @ y throw an error!\n"
     ]
    },
    {
     "ename": "ValueError",
     "evalue": "shapes (4,1) and (4,) not aligned: 1 (dim 1) != 4 (dim 0)",
     "output_type": "error",
     "traceback": [
      "\u001b[0;31m---------------------------------------------------------------------------\u001b[0m",
      "\u001b[0;31mValueError\u001b[0m                                Traceback (most recent call last)",
      "\u001b[0;32m<ipython-input-4-800a41212c9e>\u001b[0m in \u001b[0;36m<module>\u001b[0;34m()\u001b[0m\n\u001b[1;32m      6\u001b[0m \u001b[0mprint\u001b[0m\u001b[0;34m(\u001b[0m\u001b[0;34m\"y @ z = \"\u001b[0m\u001b[0;34m,\u001b[0m \u001b[0my\u001b[0m \u001b[0;34m@\u001b[0m \u001b[0mz\u001b[0m\u001b[0;34m)\u001b[0m\u001b[0;34m\u001b[0m\u001b[0m\n\u001b[1;32m      7\u001b[0m \u001b[0mprint\u001b[0m\u001b[0;34m(\u001b[0m\u001b[0;34m\"z @ y throw an error!\"\u001b[0m\u001b[0;34m)\u001b[0m\u001b[0;34m\u001b[0m\u001b[0m\n\u001b[0;32m----> 8\u001b[0;31m \u001b[0mprint\u001b[0m\u001b[0;34m(\u001b[0m\u001b[0mz\u001b[0m \u001b[0;34m@\u001b[0m \u001b[0my\u001b[0m\u001b[0;34m)\u001b[0m\u001b[0;34m\u001b[0m\u001b[0m\n\u001b[0m",
      "\u001b[0;31mValueError\u001b[0m: shapes (4,1) and (4,) not aligned: 1 (dim 1) != 4 (dim 0)"
     ]
    }
   ],
   "source": [
    "y = np.array([1, 2, 3, 4])\n",
    "\n",
    "print(\"y = \", y)\n",
    "z = np.array([[5], [6], [7], [8]])\n",
    "print(\"z = \", z)\n",
    "print(\"y @ z = \", y @ z)\n",
    "print(\"z @ y throw an error!\")\n",
    "print(z @ y)"
   ]
  },
  {
   "cell_type": "code",
   "execution_count": 5,
   "metadata": {
    "collapsed": false
   },
   "outputs": [
    {
     "name": "stdout",
     "output_type": "stream",
     "text": [
      "y shape =  (4,)\n",
      "y.T shape =  (4,)\n",
      "new y =  [[1 2 3 4]]\n",
      "new y shape =  (1, 4)\n",
      "new y.T shape =  (4, 1)\n",
      "y shape =  (1, 4)\n",
      "z shape =  (4, 1)\n",
      "y @ z =  [[70]]\n",
      "z @ y =  [[ 5 10 15 20]\n",
      " [ 6 12 18 24]\n",
      " [ 7 14 21 28]\n",
      " [ 8 16 24 32]]\n"
     ]
    }
   ],
   "source": [
    "y = np.array([1, 2, 3, 4])\n",
    "z = np.array([[5], [6], [7], [8]])\n",
    "\n",
    "# why that ? because if we look at the shape of y, \n",
    "#it's a vector, not a 2D matrix with one row, as we would like to have\n",
    "print(\"y shape = \", y.shape)\n",
    "# then if you transpose it... it stay a vector!\n",
    "print(\"y.T shape = \", y.T.shape)\n",
    "# so if you want to make it a matrix, you need to add it a new axis with dimension 1\n",
    "y = y[np.newaxis, :]\n",
    "# now look at the new y and its shape\n",
    "print(\"new y = \", y)\n",
    "# we see that it contains new 2 brackets instead of one, meaning that we add the whished dimension\n",
    "print(\"new y shape = \", y.shape)\n",
    "print(\"new y.T shape = \", y.T.shape)\n",
    "\n",
    "# then we can do all the multiplication we want:\n",
    "print(\"y shape = \", y.shape)\n",
    "print(\"z shape = \", z.shape)\n",
    "print(\"y @ z = \", y @ z)\n",
    "print(\"z @ y = \", z @ y)"
   ]
  },
  {
   "cell_type": "code",
   "execution_count": 6,
   "metadata": {
    "collapsed": true
   },
   "outputs": [],
   "source": [
    "# the trick comes from the fact that you can multiply a vector with a matrix, so you think everything is ok, \n",
    "# but actually... it's not"
   ]
  },
  {
   "cell_type": "code",
   "execution_count": null,
   "metadata": {
    "collapsed": true
   },
   "outputs": [],
   "source": []
  }
 ],
 "metadata": {
  "kernelspec": {
   "display_name": "Python [Root]",
   "language": "python",
   "name": "Python [Root]"
  },
  "language_info": {
   "codemirror_mode": {
    "name": "ipython",
    "version": 3
   },
   "file_extension": ".py",
   "mimetype": "text/x-python",
   "name": "python",
   "nbconvert_exporter": "python",
   "pygments_lexer": "ipython3",
   "version": "3.5.2"
  }
 },
 "nbformat": 4,
 "nbformat_minor": 0
}
