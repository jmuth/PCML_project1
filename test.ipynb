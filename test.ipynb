{
 "cells": [
  {
   "cell_type": "code",
   "execution_count": 1,
   "metadata": {
    "collapsed": false
   },
   "outputs": [],
   "source": [
    "%matplotlib inline\n",
    "import api\n",
    "import helpers\n",
    "import evaluation\n",
    "import implementations\n",
    "import split\n",
    "\n",
    "import numpy as np\n",
    "import pandas as pd\n",
    "import matplotlib.pyplot as plt\n",
    "%load_ext autoreload\n",
    "%autoreload 2"
   ]
  },
  {
   "cell_type": "code",
   "execution_count": null,
   "metadata": {
    "collapsed": true
   },
   "outputs": [],
   "source": []
  },
  {
   "cell_type": "code",
   "execution_count": null,
   "metadata": {
    "collapsed": true
   },
   "outputs": [],
   "source": []
  },
  {
   "cell_type": "code",
   "execution_count": null,
   "metadata": {
    "collapsed": true
   },
   "outputs": [],
   "source": []
  },
  {
   "cell_type": "code",
   "execution_count": null,
   "metadata": {
    "collapsed": true
   },
   "outputs": [],
   "source": []
  },
  {
   "cell_type": "code",
   "execution_count": null,
   "metadata": {
    "collapsed": true
   },
   "outputs": [],
   "source": []
  },
  {
   "cell_type": "code",
   "execution_count": null,
   "metadata": {
    "collapsed": true
   },
   "outputs": [],
   "source": []
  },
  {
   "cell_type": "code",
   "execution_count": null,
   "metadata": {
    "collapsed": true
   },
   "outputs": [],
   "source": []
  },
  {
   "cell_type": "code",
   "execution_count": null,
   "metadata": {
    "collapsed": true
   },
   "outputs": [],
   "source": []
  },
  {
   "cell_type": "code",
   "execution_count": null,
   "metadata": {
    "collapsed": true
   },
   "outputs": [],
   "source": []
  },
  {
   "cell_type": "code",
   "execution_count": null,
   "metadata": {
    "collapsed": true
   },
   "outputs": [],
   "source": []
  },
  {
   "cell_type": "code",
   "execution_count": null,
   "metadata": {
    "collapsed": true
   },
   "outputs": [],
   "source": []
  },
  {
   "cell_type": "code",
   "execution_count": 5,
   "metadata": {
    "collapsed": false
   },
   "outputs": [],
   "source": [
    "y, x, _ = helpers.load_csv_data('data/train.csv', sub_sample = True, background_value = -1)"
   ]
  },
  {
   "cell_type": "code",
   "execution_count": 12,
   "metadata": {
    "collapsed": false,
    "scrolled": false
   },
   "outputs": [
    {
     "name": "stdout",
     "output_type": "stream",
     "text": [
      "(0.21542002782323416, 0.71912440055397508, 6.141219680832668, 0.78459999999999996)\n",
      "lambda:  1e-10\n",
      "accuracy:  0.7846\n",
      "(0.21766330149787369, 0.71951681900543463, 6.0061092590142096, 0.78420000000000001)\n",
      "lambda:  1.14895100019e-10\n",
      "accuracy:  0.7842\n",
      "(0.21781730166263563, 0.71990152868456281, 5.8525821499046922, 0.78380000000000005)\n",
      "lambda:  1.32008840083e-10\n",
      "accuracy:  0.7838\n",
      "(0.21612226182842439, 0.72027774881752016, 5.6842105663567333, 0.78359999999999996)\n",
      "lambda:  1.51671688847e-10\n",
      "accuracy:  0.7836\n",
      "(0.21281276860715884, 0.72064487684958745, 5.5043949988068501, 0.78379999999999994)\n",
      "lambda:  1.74263338601e-10\n",
      "accuracy:  0.7838\n",
      "(-0.034296916759229377, 0.73080365289877536, 0.93645085938376615, 0.78339999999999999)\n",
      "lambda:  3.40928506975e-08\n",
      "accuracy:  0.7834\n",
      "(-0.036668538318790793, 0.73103500693617884, 0.92143742595806333, 0.78400000000000003)\n",
      "lambda:  3.91710149081e-08\n",
      "accuracy:  0.784\n",
      "(-0.03876202187538029, 0.73127699455750417, 0.91129841096656117, 0.78359999999999996)\n",
      "lambda:  4.5005576757e-08\n",
      "accuracy:  0.7836\n",
      "(-0.040583838065751159, 0.73153186941238224, 0.90498140278941031, 0.78380000000000005)\n",
      "lambda:  5.1709202429e-08\n",
      "accuracy:  0.7838\n",
      "(-0.042140190749711433, 0.73180180987845156, 0.90148635245381081, 0.78360000000000007)\n",
      "lambda:  5.94113398497e-08\n",
      "accuracy:  0.7836\n",
      "(-0.043436852338391889, 0.73208883299023886, 0.89994588049378954, 0.78360000000000007)\n",
      "lambda:  6.82607183427e-08\n",
      "accuracy:  0.7836\n",
      "(-0.044479165933828627, 0.73239470581060906, 0.8996529249192895, 0.78360000000000007)\n",
      "lambda:  7.84282206134e-08\n",
      "accuracy:  0.7836\n",
      "(-0.045272181098659499, 0.73272086095475608, 0.90005371403731194, 0.78360000000000007)\n",
      "lambda:  9.01101825167e-08\n",
      "accuracy:  0.7836\n",
      "(-0.045820877013589348, 0.7330683236223019, 0.90072533049709957, 0.78380000000000005)\n",
      "lambda:  1.0353218433e-07\n",
      "accuracy:  0.7838\n"
     ]
    }
   ],
   "source": [
    "# check accuracy\n",
    "for i in np.logspace(-10, 2, 200):\n",
    "    w_cv = api.train(y, x, poly=12, split_method=None, replace='mean', cv=True, cut=0., \n",
    "                   model_func=implementations.ridge_regression, lambda_ = i)\n",
    "    \n",
    "    if w_cv[3] > 0.783:\n",
    "        print(w_cv)\n",
    "        print(\"lambda: \", i)\n",
    "        print(\"accuracy: \", w_cv[3])"
   ]
  },
  {
   "cell_type": "code",
   "execution_count": 2,
   "metadata": {
    "collapsed": true
   },
   "outputs": [],
   "source": [
    "# load full dataset\n",
    "y_full, x_full, _ = helpers.load_csv_data('data/train.csv', sub_sample = False, background_value = -1)"
   ]
  },
  {
   "cell_type": "code",
   "execution_count": null,
   "metadata": {
    "collapsed": true
   },
   "outputs": [],
   "source": []
  },
  {
   "cell_type": "code",
   "execution_count": 3,
   "metadata": {
    "collapsed": false
   },
   "outputs": [
    {
     "name": "stdout",
     "output_type": "stream",
     "text": [
      "Kaggle summary\n",
      "method: mass, replace: None, method: RR\n",
      "lambdas:  [1.59985871961e-05, 3.23745754282e-05, 0.152641796718, 3.23745754282e-05, 0.0184206996933, 7.90604321091e-06, 0.625055192527, 0.00910298177992]\n",
      "degrees:  [2, 2, 13, 2, 2, 3, 3, 3]\n"
     ]
    },
    {
     "ename": "IndexError",
     "evalue": "too many indices for array",
     "output_type": "error",
     "traceback": [
      "\u001b[0;31m-------------------------------------------------------------------\u001b[0m",
      "\u001b[0;31mIndexError\u001b[0m                        Traceback (most recent call last)",
      "\u001b[0;32m<ipython-input-3-3331ead8051a>\u001b[0m in \u001b[0;36m<module>\u001b[0;34m()\u001b[0m\n\u001b[1;32m     16\u001b[0m                model_func=implementations.ridge_regression, lambda_ = 5)\n\u001b[1;32m     17\u001b[0m \u001b[0;34m\u001b[0m\u001b[0m\n\u001b[0;32m---> 18\u001b[0;31m \u001b[0mprint\u001b[0m\u001b[0;34m(\u001b[0m\u001b[0;34m\"accuracy mean :\"\u001b[0m \u001b[0;34m,\u001b[0m\u001b[0mnp\u001b[0m\u001b[0;34m.\u001b[0m\u001b[0mmean\u001b[0m\u001b[0;34m(\u001b[0m\u001b[0mnp\u001b[0m\u001b[0;34m.\u001b[0m\u001b[0marray\u001b[0m\u001b[0;34m(\u001b[0m\u001b[0mw_cv\u001b[0m\u001b[0;34m)\u001b[0m\u001b[0;34m[\u001b[0m\u001b[0;34m:\u001b[0m\u001b[0;34m,\u001b[0m\u001b[0;36m3\u001b[0m\u001b[0;34m]\u001b[0m\u001b[0;34m)\u001b[0m\u001b[0;34m)\u001b[0m\u001b[0;34m\u001b[0m\u001b[0m\n\u001b[0m\u001b[1;32m     19\u001b[0m \u001b[0mprint\u001b[0m\u001b[0;34m(\u001b[0m\u001b[0;34m\"details: \"\u001b[0m\u001b[0;34m,\u001b[0m \u001b[0mnp\u001b[0m\u001b[0;34m.\u001b[0m\u001b[0marray\u001b[0m\u001b[0;34m(\u001b[0m\u001b[0mw_cv\u001b[0m\u001b[0;34m)\u001b[0m\u001b[0;34m[\u001b[0m\u001b[0;34m:\u001b[0m\u001b[0;34m,\u001b[0m\u001b[0;36m3\u001b[0m\u001b[0;34m]\u001b[0m\u001b[0;34m)\u001b[0m\u001b[0;34m\u001b[0m\u001b[0m\n\u001b[1;32m     20\u001b[0m \u001b[0;34m\u001b[0m\u001b[0m\n",
      "\u001b[0;31mIndexError\u001b[0m: too many indices for array"
     ]
    }
   ],
   "source": [
    "# train the model with chosen parameters\n",
    "\n",
    "#LAMBDAS = lambdas_star\n",
    "#DEGREES = degrees_star\n",
    "\n",
    "LAMBDAS = [1.59985871961e-05, 3.23745754282e-05, 0.152641796718, 3.23745754282e-05, 0.0184206996933, 7.90604321091e-06, 0.625055192527, 0.00910298177992] \n",
    "DEGREES = [2, 2, 13, 2, 2, 3, 3, 3]\n",
    "\n",
    "print(\"Kaggle summary\")\n",
    "print(\"method: mass, replace: None, method: RR\")\n",
    "print(\"lambdas: \", LAMBDAS)\n",
    "print(\"degrees: \", DEGREES)\n",
    "\n",
    "# check accuracy\n",
    "w_cv = api.train(y_full, x_full, poly=12, split_method=None, replace='mean', cv=True, cut=0., \n",
    "               model_func=implementations.ridge_regression, lambda_ = 5)\n",
    "\n",
    "# train de model\n",
    "w = api.train(y_full, x_full, poly=12, split_method=None, replace='mean', cv=False, cut=0., \n",
    "               model_func=implementations.ridge_regression, lambda_ = 5)\n",
    "\n"
   ]
  },
  {
   "cell_type": "code",
   "execution_count": 4,
   "metadata": {
    "collapsed": false
   },
   "outputs": [
    {
     "data": {
      "text/plain": [
       "(-0.0011536385227850117,\n",
       " 0.95261869150706791,\n",
       " 0.95262721876535383,\n",
       " 0.65733200000000003)"
      ]
     },
     "execution_count": 4,
     "metadata": {},
     "output_type": "execute_result"
    }
   ],
   "source": [
    "w_cv"
   ]
  },
  {
   "cell_type": "code",
   "execution_count": 18,
   "metadata": {
    "collapsed": false
   },
   "outputs": [],
   "source": [
    "# load test set\n",
    "test_y, test_x, test_ids = helpers.load_csv_data('data/test.csv')"
   ]
  },
  {
   "cell_type": "code",
   "execution_count": 19,
   "metadata": {
    "collapsed": false
   },
   "outputs": [
    {
     "name": "stdout",
     "output_type": "stream",
     "text": [
      "your done bro\n"
     ]
    }
   ],
   "source": [
    "# do the final prediction\n",
    "\n",
    "final_pred = api.predict(test_y, test_x, test_ids, 0., w, poly=DEGREES, split_method='mass', \\\n",
    "            replace=None, loss_method='ls', res_to_file=True)\n",
    "\n",
    "print(\"your done bro\")"
   ]
  },
  {
   "cell_type": "code",
   "execution_count": 17,
   "metadata": {
    "collapsed": false
   },
   "outputs": [
    {
     "name": "stdout",
     "output_type": "stream",
     "text": [
      "26123\n",
      "73790\n",
      "7562\n",
      "69982\n",
      "2952\n",
      "47427\n",
      "1477\n",
      "20687\n"
     ]
    }
   ],
   "source": [
    "# just to show how many Higgs there are in each dataset\n",
    "# split data into 8 group\n",
    "split_train = split.split(y_full, x_full, method='mass')\n",
    "for i in split_train:\n",
    "    y, x, id_ = i\n",
    "    n = np.count_nonzero(y == 1)\n",
    "    #print(float(n) / float(len(y)))\n",
    "    print(len(y))"
   ]
  },
  {
   "cell_type": "code",
   "execution_count": 13,
   "metadata": {
    "collapsed": false
   },
   "outputs": [],
   "source": [
    "a, b, c = split_train[0]"
   ]
  },
  {
   "cell_type": "code",
   "execution_count": null,
   "metadata": {
    "collapsed": true
   },
   "outputs": [],
   "source": []
  }
 ],
 "metadata": {
  "anaconda-cloud": {},
  "kernelspec": {
   "display_name": "Python [Root]",
   "language": "python",
   "name": "Python [Root]"
  },
  "language_info": {
   "codemirror_mode": {
    "name": "ipython",
    "version": 3
   },
   "file_extension": ".py",
   "mimetype": "text/x-python",
   "name": "python",
   "nbconvert_exporter": "python",
   "pygments_lexer": "ipython3",
   "version": "3.5.2"
  }
 },
 "nbformat": 4,
 "nbformat_minor": 1
}
