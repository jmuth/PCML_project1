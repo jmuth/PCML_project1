{
 "cells": [
  {
   "cell_type": "code",
   "execution_count": 1,
   "metadata": {
    "collapsed": false
   },
   "outputs": [],
   "source": [
    "%matplotlib inline\n",
    "import api\n",
    "import helpers\n",
    "import evaluation\n",
    "import implementations\n",
    "import split\n",
    "\n",
    "import numpy as np\n",
    "import pandas as pd\n",
    "import matplotlib.pyplot as plt\n",
    "%load_ext autoreload\n",
    "%autoreload 2"
   ]
  },
  {
   "cell_type": "code",
   "execution_count": null,
   "metadata": {
    "collapsed": true
   },
   "outputs": [],
   "source": []
  },
  {
   "cell_type": "code",
   "execution_count": null,
   "metadata": {
    "collapsed": true
   },
   "outputs": [],
   "source": []
  },
  {
   "cell_type": "code",
   "execution_count": null,
   "metadata": {
    "collapsed": true
   },
   "outputs": [],
   "source": []
  },
  {
   "cell_type": "code",
   "execution_count": null,
   "metadata": {
    "collapsed": true
   },
   "outputs": [],
   "source": []
  },
  {
   "cell_type": "code",
   "execution_count": null,
   "metadata": {
    "collapsed": true
   },
   "outputs": [],
   "source": []
  },
  {
   "cell_type": "code",
   "execution_count": null,
   "metadata": {
    "collapsed": true
   },
   "outputs": [],
   "source": []
  },
  {
   "cell_type": "code",
   "execution_count": null,
   "metadata": {
    "collapsed": true
   },
   "outputs": [],
   "source": []
  },
  {
   "cell_type": "code",
   "execution_count": null,
   "metadata": {
    "collapsed": true
   },
   "outputs": [],
   "source": []
  },
  {
   "cell_type": "code",
   "execution_count": null,
   "metadata": {
    "collapsed": true
   },
   "outputs": [],
   "source": []
  },
  {
   "cell_type": "code",
   "execution_count": null,
   "metadata": {
    "collapsed": true
   },
   "outputs": [],
   "source": []
  },
  {
   "cell_type": "code",
   "execution_count": null,
   "metadata": {
    "collapsed": true
   },
   "outputs": [],
   "source": []
  },
  {
   "cell_type": "code",
   "execution_count": 5,
   "metadata": {
    "collapsed": false
   },
   "outputs": [],
   "source": [
    "y, x, _ = helpers.load_csv_data('data/train.csv', sub_sample = True, background_value = -1)"
   ]
  },
  {
   "cell_type": "code",
   "execution_count": 21,
   "metadata": {
    "collapsed": false,
    "scrolled": false
   },
   "outputs": [],
   "source": [
    "# check accuracy\n",
    "for i in np.logspace(-10, 2, 200):\n",
    "    w_cv = api.train(y, x, poly=6, split_method=None, replace='median', cv=True, cut=0., \n",
    "                   model_func=implementations.ridge_regression, lambda_ = i)\n",
    "    \n",
    "    if w_cv[3] > 0.8:\n",
    "        print(w_cv)\n",
    "        print(\"lambda: \", i)\n",
    "        print(\"accuracy: \", w_cv[3])"
   ]
  },
  {
   "cell_type": "code",
   "execution_count": 2,
   "metadata": {
    "collapsed": true
   },
   "outputs": [],
   "source": [
    "# load full dataset\n",
    "y_full, x_full, _ = helpers.load_csv_data('data/train.csv', sub_sample = False, background_value = -1)"
   ]
  },
  {
   "cell_type": "code",
   "execution_count": null,
   "metadata": {
    "collapsed": true
   },
   "outputs": [],
   "source": []
  },
  {
   "cell_type": "code",
   "execution_count": 14,
   "metadata": {
    "collapsed": false
   },
   "outputs": [
    {
     "name": "stdout",
     "output_type": "stream",
     "text": [
      "Kaggle summary\n",
      "method: mass, replace: None, method: RR\n",
      "lambdas:  [1.59985871961e-05, 3.23745754282e-05, 0.152641796718, 3.23745754282e-05, 0.0184206996933, 7.90604321091e-06, 0.625055192527, 0.00910298177992]\n",
      "degrees:  [2, 2, 13, 2, 2, 3, 3, 3]\n",
      "(-0.38099309193195946, 0.76717572718751781, 1.0836589717670924, 0.79665199999999992)\n"
     ]
    }
   ],
   "source": [
    "# train the model with chosen parameters\n",
    "\n",
    "#LAMBDAS = lambdas_star\n",
    "#DEGREES = degrees_star\n",
    "\n",
    "LAMBDAS = [1.59985871961e-05, 3.23745754282e-05, 0.152641796718, 3.23745754282e-05, 0.0184206996933, 7.90604321091e-06, 0.625055192527, 0.00910298177992] \n",
    "DEGREES = [2, 2, 13, 2, 2, 3, 3, 3]\n",
    "\n",
    "print(\"Kaggle summary\")\n",
    "print(\"method: mass, replace: None, method: RR\")\n",
    "print(\"lambdas: \", LAMBDAS)\n",
    "print(\"degrees: \", DEGREES)\n",
    "\n",
    "# check accuracy\n",
    "w_cv = api.train(y_full, x_full, poly=12, split_method=None, replace='median', cv=True, cut=0., \n",
    "               model_func=implementations.ridge_regression, lambda_ = 1.14895100019e-10)\n",
    "\n",
    "print(w_cv)\n",
    "\n",
    "# train de model\n",
    "w = api.train(y_full, x_full, poly=12, split_method=None, replace='median', cv=False, cut=0., \n",
    "               model_func=implementations.ridge_regression, lambda_ = 1.14895100019e-10)\n",
    "\n"
   ]
  },
  {
   "cell_type": "code",
   "execution_count": 15,
   "metadata": {
    "collapsed": false
   },
   "outputs": [
    {
     "data": {
      "text/plain": [
       "(-0.38099309193195946,\n",
       " 0.76717572718751781,\n",
       " 1.0836589717670924,\n",
       " 0.79665199999999992)"
      ]
     },
     "execution_count": 15,
     "metadata": {},
     "output_type": "execute_result"
    }
   ],
   "source": [
    "w_cv"
   ]
  },
  {
   "cell_type": "code",
   "execution_count": 17,
   "metadata": {
    "collapsed": false
   },
   "outputs": [],
   "source": [
    "# load test set\n",
    "test_y, test_x, test_ids = helpers.load_csv_data('data/test.csv')"
   ]
  },
  {
   "cell_type": "code",
   "execution_count": 19,
   "metadata": {
    "collapsed": false
   },
   "outputs": [
    {
     "name": "stdout",
     "output_type": "stream",
     "text": [
      "your done bro\n"
     ]
    }
   ],
   "source": [
    "# do the final prediction\n",
    "\n",
    "final_pred = api.predict(test_y, test_x, test_ids, 0., w, poly=12, split_method=None, \\\n",
    "            replace='median', loss_method='ls', res_to_file=True)\n",
    "\n",
    "print(\"your done bro\")"
   ]
  },
  {
   "cell_type": "code",
   "execution_count": 17,
   "metadata": {
    "collapsed": false
   },
   "outputs": [
    {
     "name": "stdout",
     "output_type": "stream",
     "text": [
      "26123\n",
      "73790\n",
      "7562\n",
      "69982\n",
      "2952\n",
      "47427\n",
      "1477\n",
      "20687\n"
     ]
    }
   ],
   "source": [
    "# just to show how many Higgs there are in each dataset\n",
    "# split data into 8 group\n",
    "split_train = split.split(y_full, x_full, method='mass')\n",
    "for i in split_train:\n",
    "    y, x, id_ = i\n",
    "    n = np.count_nonzero(y == 1)\n",
    "    #print(float(n) / float(len(y)))\n",
    "    print(len(y))"
   ]
  },
  {
   "cell_type": "code",
   "execution_count": 13,
   "metadata": {
    "collapsed": false
   },
   "outputs": [],
   "source": [
    "a, b, c = split_train[0]"
   ]
  },
  {
   "cell_type": "code",
   "execution_count": null,
   "metadata": {
    "collapsed": true
   },
   "outputs": [],
   "source": []
  }
 ],
 "metadata": {
  "anaconda-cloud": {},
  "kernelspec": {
   "display_name": "Python [Root]",
   "language": "python",
   "name": "Python [Root]"
  },
  "language_info": {
   "codemirror_mode": {
    "name": "ipython",
    "version": 3
   },
   "file_extension": ".py",
   "mimetype": "text/x-python",
   "name": "python",
   "nbconvert_exporter": "python",
   "pygments_lexer": "ipython3",
   "version": "3.5.2"
  }
 },
 "nbformat": 4,
 "nbformat_minor": 1
}
