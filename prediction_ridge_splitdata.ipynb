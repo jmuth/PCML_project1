{
 "cells": [
  {
   "cell_type": "markdown",
   "metadata": {},
   "source": [
    "## Import necessary libraries"
   ]
  },
  {
   "cell_type": "code",
   "execution_count": 1,
   "metadata": {
    "collapsed": false
   },
   "outputs": [],
   "source": [
    "# Useful starting lines\n",
    "%matplotlib inline\n",
    "import numpy as np\n",
    "import matplotlib.pyplot as plt\n",
    "%load_ext autoreload\n",
    "%autoreload 2\n",
    "import math"
   ]
  },
  {
   "cell_type": "code",
   "execution_count": 2,
   "metadata": {
    "collapsed": false
   },
   "outputs": [],
   "source": [
    "from costs import *\n",
    "from models import *\n",
    "from helpers import * \n",
    "from evaluation import *\n",
    "from split_data import *"
   ]
  },
  {
   "cell_type": "markdown",
   "metadata": {},
   "source": [
    "## Preprocessing\n",
    "** Load the training data into feature matrix, class labels, and record ids**\n",
    "\n",
    "We write our own `load_csv_data` function to import csv data, which gives us prediction column, feature matrix and each record ID."
   ]
  },
  {
   "cell_type": "code",
   "execution_count": 3,
   "metadata": {
    "collapsed": false
   },
   "outputs": [],
   "source": [
    "from proj1_helpers import *\n",
    "DATA_TRAIN_PATH = 'data/train.csv' # TODO: download train data and supply path here \n",
    "y, tx, ids = load_csv_data(DATA_TRAIN_PATH, sub_sample=False)"
   ]
  },
  {
   "cell_type": "markdown",
   "metadata": {},
   "source": [
    "** Split into 6 distinct datasets**\n",
    "According to our exploration, we can distinct 3 different dataset based on number of jets each experiments contains. Then each of them can be split again into 2 different datasets based on whether they have a measurable mass or not."
   ]
  },
  {
   "cell_type": "code",
   "execution_count": 4,
   "metadata": {
    "collapsed": false
   },
   "outputs": [],
   "source": [
    "jet0, jet1, jet23, y0, y1, y23 = split_on_jets(y, tx)\n",
    "jet0_nomass, jet0, y0_nomass, y0 = split_on_mass(y0, jet0)\n",
    "jet1_nomass, jet1, y1_nomass, y1 = split_on_mass(y1, jet1)\n",
    "jet23_nomass, jet23, y23_nomass, y23 = split_on_mass(y23, jet23)"
   ]
  },
  {
   "cell_type": "markdown",
   "metadata": {},
   "source": [
    "### Only keep the features without NaN in each subset"
   ]
  },
  {
   "cell_type": "code",
   "execution_count": 5,
   "metadata": {
    "collapsed": false
   },
   "outputs": [],
   "source": [
    "jet0_nomass, selected_jet0_nomass = select_features_without_nan(jet0_nomass)\n",
    "jet0, selected_jet0 = select_features_without_nan(jet0)\n",
    "jet1_nomass, selected_jet1_nomass = select_features_without_nan(jet1_nomass)\n",
    "jet1, selected_jet1 = select_features_without_nan(jet1)\n",
    "jet23_nomass, selected_jet23_nomass = select_features_without_nan(jet23_nomass)\n",
    "jet23, selected_jet23 = select_features_without_nan(jet23)\n"
   ]
  },
  {
   "cell_type": "markdown",
   "metadata": {},
   "source": [
    "## to do: remove more features ! some are flat, some are even unique !!"
   ]
  },
  {
   "cell_type": "markdown",
   "metadata": {},
   "source": [
    "** Standardization of values**\n",
    "We use [feature scaling](https://en.wikipedia.org/wiki/Feature_scaling) method to standardize our feature matrix, i.e. to rescale tx down to [0, 1], so as to avoid complicated computation caused by large numbers."
   ]
  },
  {
   "cell_type": "code",
   "execution_count": 6,
   "metadata": {
    "collapsed": false
   },
   "outputs": [],
   "source": [
    "tx = standardize(tx)\n",
    "sdt_jet0_nomass, min0_nomass, range0_nomass = standardize(jet0_nomass)\n",
    "sdt_jet0, min0, range0 = standardize(jet0)\n",
    "sdt_jet1_nomass, min1_nomass, range1_nomass = standardize(jet1_nomass)\n",
    "sdt_jet1, min1, range1 = standardize(jet1)\n",
    "sdt_jet23_nomass, min23_nomass, range23_nomass = standardize(jet23_nomass)\n",
    "sdt_jet23, min23, range23 = standardize(jet23)"
   ]
  },
  {
   "cell_type": "markdown",
   "metadata": {},
   "source": [
    "## Model Selection"
   ]
  },
  {
   "cell_type": "markdown",
   "metadata": {},
   "source": [
    "Let's begin with a simple linear regression with least_square using **normal equations**. Here we don't consider using least squares with gradient descent or stochastic gradient descent for the fact that **optimal w could be derived thoeritically**. We therefore don't bother to estimate the w."
   ]
  },
  {
   "cell_type": "markdown",
   "metadata": {},
   "source": [
    "We run cross validation 4 times on our train_data to see LS performance"
   ]
  },
  {
   "cell_type": "markdown",
   "metadata": {},
   "source": [
    "### Logistic Regression"
   ]
  },
  {
   "cell_type": "markdown",
   "metadata": {},
   "source": [
    "Choose intial parameters"
   ]
  },
  {
   "cell_type": "code",
   "execution_count": 7,
   "metadata": {
    "collapsed": true
   },
   "outputs": [],
   "source": [
    "n_iters = 10000\n",
    "gamma = 0.000003\n",
    "lambda_ = 0.001"
   ]
  },
  {
   "cell_type": "markdown",
   "metadata": {},
   "source": [
    "Train with logistic regression"
   ]
  },
  {
   "cell_type": "code",
   "execution_count": 9,
   "metadata": {
    "collapsed": false
   },
   "outputs": [
    {
     "name": "stdout",
     "output_type": "stream",
     "text": [
      "w0_nomass\n",
      "w0\n",
      "w1_nomass\n",
      "w1\n",
      "w23_nomass\n",
      "w23\n"
     ]
    }
   ],
   "source": [
    "print(\"w0_nomass\")\n",
    "loss0_nomass, w0_nomass = ridge_regression(y0_nomass, jet0_nomass, lambda_)\n",
    "print(\"w0\")\n",
    "loss0, w0 = ridge_regression(y0, jet0, lambda_)\n",
    "\n",
    "print(\"w1_nomass\")\n",
    "loss1_nomass, w1_nomass = ridge_regression(y1_nomass, jet1_nomass, lambda_)\n",
    "print(\"w1\")\n",
    "loss1_nomass, w1 = ridge_regression(y1, jet1, lambda_)\n",
    "\n",
    "print(\"w23_nomass\")\n",
    "loss23_nomass, w23_nomass = ridge_regression(y23_nomass, jet23_nomass, lambda_)\n",
    "print(\"w23\")\n",
    "loss23, w23 = ridge_regression(y23, jet23, lambda_)\n"
   ]
  },
  {
   "cell_type": "markdown",
   "metadata": {},
   "source": [
    "## Prediction"
   ]
  },
  {
   "cell_type": "code",
   "execution_count": 10,
   "metadata": {
    "collapsed": true
   },
   "outputs": [],
   "source": [
    "test_x = np.genfromtxt('data/test.csv', delimiter=',', skip_header=1)"
   ]
  },
  {
   "cell_type": "code",
   "execution_count": 11,
   "metadata": {
    "collapsed": false
   },
   "outputs": [],
   "source": [
    "ids = test_x[:, 0]\n",
    "testset = test_x[:, 2:] # remove id and prediction columns\n",
    "\n",
    "y = []\n",
    "\n",
    "for x_t in testset:\n",
    "    x = np.array([x_t])\n",
    "    if isJet0_nomass(x):\n",
    "        pred = x[:,selected_jet0_nomass]\n",
    "        pred, _ , _ = standardize(pred, min0_nomass, range0_nomass)\n",
    "        y.append(predict(pred, w0_nomass))\n",
    "    elif isJet0(x):\n",
    "        pred = x[:, selected_jet0]\n",
    "        pred, _ , _  = standardize(pred, min0, range0)\n",
    "        y.append(predict(pred, w0))\n",
    "    elif isJet1_nomass(x):\n",
    "        pred = x[:, selected_jet1_nomass]\n",
    "        pred, _ , _  = standardize(pred,min1_nomass, range1_nomass)\n",
    "        y.append(predict(pred, w1_nomass))\n",
    "    elif isJet1(x):\n",
    "        pred = x[:, selected_jet1]\n",
    "        pred, _ , _  = standardize(pred, min1, range1)\n",
    "        y.append(predict(pred, w1))\n",
    "    elif isJet23_nomass(x):\n",
    "        pred= x[:, selected_jet23_nomass]\n",
    "        pred, _ , _  = standardize(pred, min23_nomass, range23_nomass)\n",
    "        y.append(predict(pred, w23_nomass))\n",
    "    else:\n",
    "        pred= x[:, selected_jet23]\n",
    "        pred, _ , _  = standardize(pred, min23, range23)\n",
    "        y.append(predict(pred, w23))\n"
   ]
  },
  {
   "cell_type": "code",
   "execution_count": 12,
   "metadata": {
    "collapsed": false,
    "scrolled": true
   },
   "outputs": [],
   "source": [
    "create_csv_submission(ids, y, 'data/split_data_ridge.csv')"
   ]
  },
  {
   "cell_type": "markdown",
   "metadata": {},
   "source": [
    "## Feature Engineering\n",
    "TODO"
   ]
  },
  {
   "cell_type": "markdown",
   "metadata": {},
   "source": [
    "## Prediction\n",
    "\n",
    "**Generate predictions and save ouput in csv format for submission**"
   ]
  }
 ],
 "metadata": {
  "anaconda-cloud": {},
  "kernelspec": {
   "display_name": "Python [Root]",
   "language": "python",
   "name": "Python [Root]"
  },
  "language_info": {
   "codemirror_mode": {
    "name": "ipython",
    "version": 3
   },
   "file_extension": ".py",
   "mimetype": "text/x-python",
   "name": "python",
   "nbconvert_exporter": "python",
   "pygments_lexer": "ipython3",
   "version": "3.5.2"
  }
 },
 "nbformat": 4,
 "nbformat_minor": 0
}
