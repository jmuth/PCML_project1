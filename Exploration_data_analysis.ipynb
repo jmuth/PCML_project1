{
 "cells": [
  {
   "cell_type": "code",
   "execution_count": 1,
   "metadata": {
    "collapsed": true
   },
   "outputs": [],
   "source": [
    "# Useful starting lines\n",
    "%matplotlib inline\n",
    "import numpy as np\n",
    "import matplotlib.pyplot as plt\n",
    "%load_ext autoreload\n",
    "%autoreload 2\n",
    "\n",
    "from costs import *\n",
    "from functions import *\n",
    "from helpers import *\n",
    "from build_polynomial import *"
   ]
  },
  {
   "cell_type": "code",
   "execution_count": 2,
   "metadata": {
    "collapsed": true
   },
   "outputs": [],
   "source": [
    "from proj1_helpers import *\n",
    "DATA_TRAIN_PATH = 'train.csv' # TODO: download train data and supply path here \n",
    "y, tX, ids = load_csv_data(DATA_TRAIN_PATH, sub_sample=True)"
   ]
  },
  {
   "cell_type": "markdown",
   "metadata": {},
   "source": [
    "# Exploratory Data Analysis\n",
    "\n",
    "Here in this notebook, we will try to explore the data, following wikipedia page and some other web help (that we will listed below) to understand better what represent each feature and how we can use it.\n",
    "\n",
    "https://en.wikipedia.org/wiki/Exploratory_data_analysis"
   ]
  },
  {
   "cell_type": "code",
   "execution_count": 19,
   "metadata": {
    "collapsed": false
   },
   "outputs": [
    {
     "data": {
      "text/plain": [
       "array([[  1.38470000e+02,   5.16550000e+01,   9.78270000e+01,\n",
       "          2.79800000e+01,   9.10000000e-01,   1.24711000e+02,\n",
       "          2.66600000e+00,   3.06400000e+00,   4.19280000e+01,\n",
       "          1.97760000e+02,   1.58200000e+00,   1.39600000e+00,\n",
       "          2.00000000e-01,   3.26380000e+01,   1.01700000e+00,\n",
       "          3.81000000e-01,   5.16260000e+01,   2.27300000e+00,\n",
       "         -2.41400000e+00,   1.68240000e+01,  -2.77000000e-01,\n",
       "          2.58733000e+02,   2.00000000e+00,   6.74350000e+01,\n",
       "          2.15000000e+00,   4.44000000e-01,   4.60620000e+01,\n",
       "          1.24000000e+00,  -2.47500000e+00,   1.13497000e+02],\n",
       "       [  2.19057000e+02,   7.24610000e+01,   1.24835000e+02,\n",
       "          5.50600000e+00,  -9.99000000e+02,  -9.99000000e+02,\n",
       "         -9.99000000e+02,   3.77100000e+00,   4.69360000e+01,\n",
       "          1.22986000e+02,   1.93200000e+00,  -1.38200000e+00,\n",
       "         -9.99000000e+02,   2.47590000e+01,  -1.06300000e+00,\n",
       "          3.32000000e-01,   4.78300000e+01,   1.34700000e+00,\n",
       "         -2.56900000e+00,   2.84990000e+01,   9.60000000e-01,\n",
       "          9.03550000e+01,   1.00000000e+00,   5.03960000e+01,\n",
       "         -7.08000000e-01,  -6.42000000e-01,  -9.99000000e+02,\n",
       "         -9.99000000e+02,  -9.99000000e+02,   5.03960000e+01]])"
      ]
     },
     "execution_count": 19,
     "metadata": {},
     "output_type": "execute_result"
    }
   ],
   "source": [
    "tX[ range(2) ]"
   ]
  },
  {
   "cell_type": "code",
   "execution_count": 14,
   "metadata": {
    "collapsed": true
   },
   "outputs": [],
   "source": [
    "def pretty_print(matrix):\n",
    "    s = [[str(e) for e in row] for row in matrix]\n",
    "    lens = [max(map(len, col)) for col in zip(*s)]\n",
    "    fmt = '\\t'.join('{{:{}}}'.format(x) for x in lens)\n",
    "    table = [fmt.format(*row) for row in s]\n",
    "    print('\\n'.join(table))\n",
    "    \n",
    "def transpose(matrix):\n",
    "    return zip(*matrix)"
   ]
  },
  {
   "cell_type": "code",
   "execution_count": 30,
   "metadata": {
    "collapsed": false
   },
   "outputs": [
    {
     "name": "stdout",
     "output_type": "stream",
     "text": [
      "Id                         \t977.515 \t-999.0\t103.483 \n",
      "Prediction                 \t256.371 \t0.011 \t48.3055 \n",
      "DER_mass_MMC               \t658.494 \t9.463 \t73.3785 \n",
      "DER_mass_transverse_met_lep\t585.661 \t0.0   \t38.0865 \n",
      "DER_mass_vis               \t7.544   \t-999.0\t-999.0  \n",
      "DER_pt_h                   \t3056.908\t-999.0\t-999.0  \n",
      "DER_deltaeta_jet_jet       \t15.228  \t-999.0\t-999.0  \n",
      "DER_mass_jet_jet           \t5.423   \t0.256 \t2.4935  \n",
      "DER_prodeta_jet_jet        \t257.324 \t0.0   \t12.175  \n",
      "DER_deltar_tau_lep         \t1279.985\t46.227\t121.7135\n",
      "DER_pt_tot                 \t9.955   \t0.136 \t1.291   \n",
      "DER_sum_pt                 \t1.414   \t-1.414\t-0.4395 \n",
      "DER_pt_ratio_lep_tau       \t1.0     \t-999.0\t-999.0  \n",
      "DER_met_phi_centrality     \t301.229 \t20.001\t31.246  \n",
      "DER_lep_eta_centrality     \t2.463   \t-2.468\t0.0125  \n",
      "PRI_tau_pt                 \t3.141   \t-3.141\t-0.0595 \n",
      "PRI_tau_eta                \t263.69  \t26.005\t40.06   \n",
      "PRI_tau_phi                \t2.48    \t-2.482\t-0.009  \n",
      "PRI_lep_pt                 \t3.141   \t-3.141\t0.151   \n",
      "PRI_lep_eta                \t404.422 \t0.537 \t35.404  \n",
      "PRI_lep_phi                \t3.141   \t-3.139\t0.013   \n",
      "PRI_met                    \t1391.891\t24.416\t181.396 \n",
      "PRI_met_phi                \t3.0     \t0.0   \t1.0     \n",
      "PRI_met_sumet              \t738.235 \t-999.0\t39.044  \n",
      "PRI_jet_num                \t4.464   \t-999.0\t-1.9135 \n",
      "PRI_jet_leading_pt         \t3.141   \t-999.0\t-2.0445 \n",
      "PRI_jet_leading_eta        \t358.433 \t-999.0\t-999.0  \n",
      "PRI_jet_leading_phi        \t4.496   \t-999.0\t-999.0  \n",
      "PRI_jet_subleading_pt      \t3.14    \t-999.0\t-999.0  \n",
      "PRI_jet_subleading_eta     \t1104.776\t0.0   \t41.2675 \n"
     ]
    },
    {
     "data": {
      "text/plain": [
       "(array([[ 1.        ,  0.48528033,  0.03965436, ...,  1.54863904,\n",
       "          1.5407369 ,  0.39818214],\n",
       "        [ 1.        ,  0.67601018,  0.63344061, ..., -0.64686729,\n",
       "         -0.64686766, -0.23179611],\n",
       "        [ 1.        ,  0.3724594 , -0.64151886, ..., -0.64686729,\n",
       "         -0.64686766, -0.10829837],\n",
       "        ..., \n",
       "        [ 1.        ,  0.49445625, -1.22366112, ..., -0.64686729,\n",
       "         -0.64686766,  0.23416077],\n",
       "        [ 1.        ,  0.34254595, -0.11217409, ..., -0.64686729,\n",
       "         -0.64686766, -0.41106251],\n",
       "        [ 1.        ,  0.46533331, -1.31829705, ..., -0.64686729,\n",
       "         -0.64686766, -0.22539659]]),\n",
       " array([ -6.65702052e+01,   5.02655292e+01,   8.10068096e+01,\n",
       "          5.72432294e+01,  -7.03584253e+02,  -5.96237100e+02,\n",
       "         -7.04529779e+02,   2.37571420e+00,   1.89751598e+01,\n",
       "          1.57925417e+02,   1.44750460e+00,  -1.58575000e-01,\n",
       "         -7.04154751e+02,   3.79714208e+01,  -7.52940000e-03,\n",
       "         -7.32000000e-05,   4.63404222e+01,  -1.99772000e-02,\n",
       "          1.15077200e-01,   4.22103976e+01,   2.86580000e-02,\n",
       "          2.09378977e+02,   9.84400000e-01,  -3.45453367e+02,\n",
       "         -3.96614008e+02,  -3.96605099e+02,  -6.87271262e+02,\n",
       "         -7.04296892e+02,  -7.04330749e+02,   7.36135732e+01]),\n",
       " array([ 422.51909017,   35.03954517,   41.37642776,   62.81120199,\n",
       "         456.68643172,  657.5679135 ,  455.22801298,    0.79191886,\n",
       "          22.26183485,  116.76268999,    0.83961033,    1.18450364,\n",
       "         455.80358235,   20.90433446,    1.21923538,    1.79256831,\n",
       "          21.13296456,    1.2700422 ,    1.83270166,   32.15517943,\n",
       "           1.80671314,  129.21734944,    0.97517006,  532.44226509,\n",
       "         488.77977542,  488.78703473,  482.24471319,  455.5851127 ,\n",
       "         455.53251031,  100.16377546]))"
      ]
     },
     "execution_count": 30,
     "metadata": {},
     "output_type": "execute_result"
    }
   ],
   "source": [
    "def summarize_data(tX):\n",
    "    \"\"\" get the label and the five number summary of each features \"\"\"\n",
    "    # label names\n",
    "    labels = load_header(DATA_TRAIN_PATH)\n",
    "    # maximum\n",
    "    maximums = np.amax(tX, axis=0)\n",
    "    # minimum\n",
    "    minimums = np.amin(tX, axis=0)\n",
    "    # median\n",
    "    median = np.median(tX, axis = 0)\n",
    "    # upper quartile\n",
    "    \n",
    "    # lower quartile\n",
    "    \n",
    "    # transpose matrix and add label\n",
    "    matrix = transpose([labels, maximums, minimums, median])\n",
    "    return matrix\n",
    "\n",
    "a = summarize_data(tX)\n",
    "\n",
    "pretty_print(a)\n",
    "\n",
    "std_tx = standardize(tX)\n",
    "summarize_data(tX)"
   ]
  },
  {
   "cell_type": "code",
   "execution_count": 14,
   "metadata": {
    "collapsed": false
   },
   "outputs": [
    {
     "name": "stdout",
     "output_type": "stream",
     "text": [
      "<csv.DictReader object at 0x10eb04518>\n"
     ]
    }
   ],
   "source": [
    "\n",
    "print(reader)"
   ]
  },
  {
   "cell_type": "code",
   "execution_count": 26,
   "metadata": {
    "collapsed": false
   },
   "outputs": [
    {
     "name": "stdout",
     "output_type": "stream",
     "text": [
      "['Id' 'Prediction' 'DER_mass_MMC' 'DER_mass_transverse_met_lep'\n",
      " 'DER_mass_vis' 'DER_pt_h' 'DER_deltaeta_jet_jet' 'DER_mass_jet_jet'\n",
      " 'DER_prodeta_jet_jet' 'DER_deltar_tau_lep' 'DER_pt_tot' 'DER_sum_pt'\n",
      " 'DER_pt_ratio_lep_tau' 'DER_met_phi_centrality' 'DER_lep_eta_centrality'\n",
      " 'PRI_tau_pt' 'PRI_tau_eta' 'PRI_tau_phi' 'PRI_lep_pt' 'PRI_lep_eta'\n",
      " 'PRI_lep_phi' 'PRI_met' 'PRI_met_phi' 'PRI_met_sumet' 'PRI_jet_num'\n",
      " 'PRI_jet_leading_pt' 'PRI_jet_leading_eta' 'PRI_jet_leading_phi'\n",
      " 'PRI_jet_subleading_pt' 'PRI_jet_subleading_eta' 'PRI_jet_subleading_phi'\n",
      " 'PRI_jet_all_pt']\n"
     ]
    }
   ],
   "source": [
    "labels = load_header(DATA_TRAIN_PATH)\n",
    "print(labels)"
   ]
  },
  {
   "cell_type": "code",
   "execution_count": null,
   "metadata": {
    "collapsed": true
   },
   "outputs": [],
   "source": []
  }
 ],
 "metadata": {
  "anaconda-cloud": {},
  "kernelspec": {
   "display_name": "Python [Root]",
   "language": "python",
   "name": "Python [Root]"
  },
  "language_info": {
   "codemirror_mode": {
    "name": "ipython",
    "version": 3
   },
   "file_extension": ".py",
   "mimetype": "text/x-python",
   "name": "python",
   "nbconvert_exporter": "python",
   "pygments_lexer": "ipython3",
   "version": "3.5.2"
  }
 },
 "nbformat": 4,
 "nbformat_minor": 0
}
