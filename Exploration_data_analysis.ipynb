{
 "cells": [
  {
   "cell_type": "code",
   "execution_count": 1,
   "metadata": {
    "collapsed": true
   },
   "outputs": [],
   "source": [
    "# Useful starting lines\n",
    "%matplotlib inline\n",
    "import numpy as np\n",
    "import matplotlib.pyplot as plt\n",
    "%load_ext autoreload\n",
    "%autoreload 2\n",
    "\n",
    "from costs import *\n",
    "from functions import *\n",
    "from helpers import *\n",
    "from build_polynomial import *"
   ]
  },
  {
   "cell_type": "code",
   "execution_count": 12,
   "metadata": {
    "collapsed": true
   },
   "outputs": [],
   "source": [
    "from proj1_helpers import *\n",
    "DATA_TRAIN_PATH = 'train.csv' # TODO: download train data and supply path here \n",
    "y, tX, ids = load_csv_data(DATA_TRAIN_PATH, sub_sample=True)"
   ]
  },
  {
   "cell_type": "markdown",
   "metadata": {},
   "source": [
    "# Exploratory Data Analysis\n",
    "\n",
    "Here in this notebook, we will try to explore the data, following wikipedia page and some other web help (that we will listed below) to understand better what represent each feature and how we can use it."
   ]
  },
  {
   "cell_type": "code",
   "execution_count": 19,
   "metadata": {
    "collapsed": false
   },
   "outputs": [
    {
     "data": {
      "text/plain": [
       "array([[  1.38470000e+02,   5.16550000e+01,   9.78270000e+01,\n",
       "          2.79800000e+01,   9.10000000e-01,   1.24711000e+02,\n",
       "          2.66600000e+00,   3.06400000e+00,   4.19280000e+01,\n",
       "          1.97760000e+02,   1.58200000e+00,   1.39600000e+00,\n",
       "          2.00000000e-01,   3.26380000e+01,   1.01700000e+00,\n",
       "          3.81000000e-01,   5.16260000e+01,   2.27300000e+00,\n",
       "         -2.41400000e+00,   1.68240000e+01,  -2.77000000e-01,\n",
       "          2.58733000e+02,   2.00000000e+00,   6.74350000e+01,\n",
       "          2.15000000e+00,   4.44000000e-01,   4.60620000e+01,\n",
       "          1.24000000e+00,  -2.47500000e+00,   1.13497000e+02],\n",
       "       [  2.19057000e+02,   7.24610000e+01,   1.24835000e+02,\n",
       "          5.50600000e+00,  -9.99000000e+02,  -9.99000000e+02,\n",
       "         -9.99000000e+02,   3.77100000e+00,   4.69360000e+01,\n",
       "          1.22986000e+02,   1.93200000e+00,  -1.38200000e+00,\n",
       "         -9.99000000e+02,   2.47590000e+01,  -1.06300000e+00,\n",
       "          3.32000000e-01,   4.78300000e+01,   1.34700000e+00,\n",
       "         -2.56900000e+00,   2.84990000e+01,   9.60000000e-01,\n",
       "          9.03550000e+01,   1.00000000e+00,   5.03960000e+01,\n",
       "         -7.08000000e-01,  -6.42000000e-01,  -9.99000000e+02,\n",
       "         -9.99000000e+02,  -9.99000000e+02,   5.03960000e+01]])"
      ]
     },
     "execution_count": 19,
     "metadata": {},
     "output_type": "execute_result"
    }
   ],
   "source": [
    "tX[ range(2) ]"
   ]
  },
  {
   "cell_type": "code",
   "execution_count": 24,
   "metadata": {
    "collapsed": false
   },
   "outputs": [
    {
     "data": {
      "text/plain": [
       "array([  9.77515000e+02,   2.56371000e+02,   6.58494000e+02,\n",
       "         5.85661000e+02,   7.54400000e+00,   3.05690800e+03,\n",
       "         1.52280000e+01,   5.42300000e+00,   2.57324000e+02,\n",
       "         1.27998500e+03,   9.95500000e+00,   1.41400000e+00,\n",
       "         1.00000000e+00,   3.01229000e+02,   2.46300000e+00,\n",
       "         3.14100000e+00,   2.63690000e+02,   2.48000000e+00,\n",
       "         3.14100000e+00,   4.04422000e+02,   3.14100000e+00,\n",
       "         1.39189100e+03,   3.00000000e+00,   7.38235000e+02,\n",
       "         4.46400000e+00,   3.14100000e+00,   3.58433000e+02,\n",
       "         4.49600000e+00,   3.14000000e+00,   1.10477600e+03])"
      ]
     },
     "execution_count": 24,
     "metadata": {},
     "output_type": "execute_result"
    }
   ],
   "source": [
    "def summarize_data(tX):\n",
    "    \"\"\" get the label and the five number summary of each features \"\"\"\n",
    "    # label names\n",
    "    labels = load_header(DATA_TRAIN_PATH)\n",
    "    # maximum\n",
    "    maximums = np.amax(tX, axis=0)\n",
    "    # minimum\n",
    "    minimums = np.amin(tX, axis=0)\n",
    "    # median\n",
    "    median = np.median\n",
    "    # upper quartile\n",
    "    \n",
    "    # lower quartile\n",
    "    return maximums\n",
    " \n",
    "summarize_data(tX)"
   ]
  },
  {
   "cell_type": "code",
   "execution_count": 14,
   "metadata": {
    "collapsed": false
   },
   "outputs": [
    {
     "name": "stdout",
     "output_type": "stream",
     "text": [
      "<csv.DictReader object at 0x10eb04518>\n"
     ]
    }
   ],
   "source": [
    "\n",
    "print(reader)"
   ]
  },
  {
   "cell_type": "raw",
   "metadata": {},
   "source": []
  }
 ],
 "metadata": {
  "kernelspec": {
   "display_name": "Python [Root]",
   "language": "python",
   "name": "Python [Root]"
  },
  "language_info": {
   "codemirror_mode": {
    "name": "ipython",
    "version": 3
   },
   "file_extension": ".py",
   "mimetype": "text/x-python",
   "name": "python",
   "nbconvert_exporter": "python",
   "pygments_lexer": "ipython3",
   "version": "3.5.2"
  }
 },
 "nbformat": 4,
 "nbformat_minor": 0
}
