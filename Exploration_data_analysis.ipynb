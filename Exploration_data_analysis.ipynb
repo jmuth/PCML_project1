{
 "cells": [
  {
   "cell_type": "code",
   "execution_count": 1,
   "metadata": {
    "collapsed": false
   },
   "outputs": [],
   "source": [
    "# Useful starting lines\n",
    "%matplotlib inline\n",
    "import numpy as np\n",
    "import matplotlib.pyplot as plt\n",
    "%load_ext autoreload\n",
    "%autoreload 2\n",
    "\n",
    "from costs import *\n",
    "from models import *\n",
    "from helpers import *\n",
    "from split import *"
   ]
  },
  {
   "cell_type": "code",
   "execution_count": 2,
   "metadata": {
    "collapsed": false
   },
   "outputs": [],
   "source": [
    "from proj1_helpers import *\n",
    "DATA_TRAIN_PATH = 'data/train.csv' # TODO: download train data and supply path here \n",
    "y, tX, ids = load_csv_data(DATA_TRAIN_PATH, sub_sample=True)"
   ]
  },
  {
   "cell_type": "markdown",
   "metadata": {},
   "source": [
    "# Exploratory Data Analysis\n",
    "\n",
    "Here in this notebook, we will try to explore the data, following wikipedia page and some other web help (that we will listed below) to understand better what represent each feature and how we can use it.\n",
    "\n",
    "https://en.wikipedia.org/wiki/Exploratory_data_analysis"
   ]
  },
  {
   "cell_type": "code",
   "execution_count": 3,
   "metadata": {
    "collapsed": false,
    "scrolled": true
   },
   "outputs": [
    {
     "data": {
      "text/plain": [
       "array([[ 0.53958914,  0.20722949,  0.38399283, ...,  0.01422238,\n",
       "         0.        ,  0.44398334],\n",
       "       [ 1.        ,  0.87964767,  0.92264566, ...,  0.        ,\n",
       "         0.        ,  0.86153275],\n",
       "       [ 0.89449734,  0.84277611,  0.87362631, ...,  0.        ,\n",
       "         0.        ,  0.87148651],\n",
       "       ..., \n",
       "       [ 0.92767399,  0.81798165,  0.89261435, ...,  0.        ,\n",
       "         0.        ,  0.89087173],\n",
       "       [ 0.93477842,  0.90715844,  0.91913517, ...,  0.        ,\n",
       "         0.        ,  0.89510014],\n",
       "       [ 0.99138084,  0.88077091,  0.93674453, ...,  0.        ,\n",
       "         0.        ,  0.92200871]])"
      ]
     },
     "execution_count": 3,
     "metadata": {},
     "output_type": "execute_result"
    }
   ],
   "source": [
    "stX = standardize(tX)\n",
    "stX = np.delete(stX, [0], axis=1)# i don't know why, standardize add a first row of ones...\n",
    "stX"
   ]
  },
  {
   "cell_type": "code",
   "execution_count": 4,
   "metadata": {
    "collapsed": false
   },
   "outputs": [
    {
     "name": "stdout",
     "output_type": "stream",
     "text": [
      "DER_mass_MMC               \t-999.0\t74.24025           \t103.483           \t129.30149999999998\t977.515 \n",
      "DER_mass_transverse_met_lep\t0.011 \t20.1585            \t48.305499999999995\t74.391            \t256.371 \n",
      "DER_mass_vis               \t9.463 \t58.8105            \t73.3785           \t92.2875           \t658.494 \n",
      "DER_pt_h                   \t0.0   \t12.557749999999999 \t38.0865           \t79.83425          \t585.661 \n",
      "DER_deltaeta_jet_jet       \t-999.0\t-999.0             \t-999.0            \t0.53975           \t7.544   \n",
      "DER_mass_jet_jet           \t-999.0\t-999.0             \t-999.0            \t84.7635           \t3056.908\n",
      "DER_prodeta_jet_jet        \t-999.0\t-999.0             \t-999.0            \t-4.199249999999999\t15.228  \n",
      "DER_deltar_tau_lep         \t0.256 \t1.8087499999999999 \t2.4935            \t2.976             \t5.423   \n",
      "DER_pt_tot                 \t0.0   \t2.797              \t12.175            \t27.37975          \t257.324 \n",
      "DER_sum_pt                 \t46.227\t77.18125           \t121.71350000000001\t197.20749999999998\t1279.985\n",
      "DER_pt_ratio_lep_tau       \t0.136 \t0.888              \t1.291             \t1.78725           \t9.955   \n",
      "DER_met_phi_centrality     \t-1.414\t-1.372             \t-0.4395           \t1.205             \t1.414   \n",
      "DER_lep_eta_centrality     \t-999.0\t-999.0             \t-999.0            \t0.0               \t1.0     \n",
      "PRI_tau_pt                 \t20.001\t24.32625           \t31.246000000000002\t44.2665           \t301.229 \n",
      "PRI_tau_eta                \t-2.468\t-0.943             \t0.0125            \t0.9085000000000001\t2.463   \n",
      "PRI_tau_phi                \t-3.141\t-1.51              \t-0.0595           \t1.57              \t3.141   \n",
      "PRI_lep_pt                 \t26.005\t32.184             \t40.06             \t53.536249999999995\t263.69  \n",
      "PRI_lep_eta                \t-2.482\t-1.029             \t-0.009            \t0.968             \t2.48    \n",
      "PRI_lep_phi                \t-3.141\t-1.47425           \t0.151             \t1.7135            \t3.141   \n",
      "PRI_met                    \t0.537 \t22.10425           \t35.403999999999996\t52.199            \t404.422 \n",
      "PRI_met_phi                \t-3.139\t-1.5114999999999998\t0.013             \t1.593             \t3.141   \n",
      "PRI_met_sumet              \t24.416\t122.557            \t181.39600000000002\t261.7925          \t1391.891\n",
      "PRI_jet_num                \t0.0   \t0.0                \t1.0               \t2.0               \t3.0     \n",
      "PRI_jet_leading_pt         \t-999.0\t-999.0             \t39.044            \t74.26875          \t738.235 \n",
      "PRI_jet_leading_eta        \t-999.0\t-999.0             \t-1.9135           \t0.4145            \t4.464   \n",
      "PRI_jet_leading_phi        \t-999.0\t-999.0             \t-2.0445           \t0.53525           \t3.141   \n",
      "PRI_jet_subleading_pt      \t-999.0\t-999.0             \t-999.0            \t33.933            \t358.433 \n",
      "PRI_jet_subleading_eta     \t-999.0\t-999.0             \t-999.0            \t-2.311            \t4.496   \n",
      "PRI_jet_subleading_phi     \t-999.0\t-999.0             \t-999.0            \t-2.2635           \t3.14    \n",
      "PRI_jet_all_pt             \t0.0   \t0.0                \t41.2675           \t110.35449999999999\t1104.776\n",
      "-------------\n",
      "DER_mass_MMC               \t0.0                  \t0.20501718831716184 \t0.8830671740070521   \t0.9724142567989573   \t1.0               \n",
      "DER_mass_transverse_met_lep\t0.002425275436128595 \t0.26556130128899785 \t0.8734266097898569   \t0.9308939659311106   \t1.0               \n",
      "DER_mass_vis               \t0.021451735128870913 \t0.42147415146795975 \t0.9037251657504903   \t0.9510656894188887   \t1.0               \n",
      "DER_pt_h                   \t0.010812671715922536 \t0.4770490905779741  \t0.8699907410390286   \t0.9041051752119056   \t0.9692786703025953\n",
      "DER_deltaeta_jet_jet       \t0.0                  \t0.0                 \t0.0                  \t0.0073641358954962   \t0.8853373823046379\n",
      "DER_mass_jet_jet           \t0.0                  \t0.0                 \t0.0                  \t0.3063768954483422   \t1.0               \n",
      "DER_prodeta_jet_jet        \t0.0                  \t0.0                 \t0.0                  \t0.0                  \t0.8881580869495929\n",
      "DER_deltar_tau_lep         \t0.0014010487768815465\t0.023358409332052875\t0.8362399933125688   \t0.8828059503989916   \t0.9511246488143745\n",
      "DER_pt_tot                 \t0.004116857583201894 \t0.17502930266773314 \t0.8483806421763843   \t0.8914994025191794   \t0.9663816149566791\n",
      "DER_sum_pt                 \t0.09001613049422716  \t0.8742079617084932  \t0.9379730787879551   \t0.9682393667387015   \t1.0               \n",
      "DER_pt_ratio_lep_tau       \t0.0012721873167019831\t0.020009387619501814\t0.8353933237861357   \t0.8816538520134497   \t0.9500960239803506\n",
      "DER_met_phi_centrality     \t0.0                  \t0.01562924086977165 \t0.8336449668111858   \t0.8799924135511261   \t0.9475078405337072\n",
      "DER_lep_eta_centrality     \t0.0                  \t0.0                 \t0.0                  \t0.005011609898655014 \t0.8849673086883192\n",
      "PRI_tau_pt                 \t0.01621082239648198  \t0.21963442183591245 \t0.8647171586565153   \t0.9086936266197593   \t0.9753071732937912\n",
      "PRI_tau_eta                \t0.0                  \t0.014169946896662941\t0.8339801859711891   \t0.880541336727922    \t0.9495506983601985\n",
      "PRI_tau_phi                \t0.0                  \t0.01716424005290948 \t0.833925451861222    \t0.8800869635399631   \t0.950012329520666 \n",
      "PRI_lep_pt                 \t0.013541193643433388 \t0.26748604503185663 \t0.8726197112518519   \t0.9163059983387057   \t0.9784091124641969\n",
      "PRI_lep_eta                \t0.0                  \t0.014110968255871739\t0.8338668720069641   \t0.8803834152618555   \t0.9508891003759277\n",
      "PRI_lep_phi                \t0.0                  \t0.01652109338129628 \t0.8338098921263399   \t0.8805070711383074   \t0.9516508336325178\n",
      "PRI_met                    \t0.00934228139790601  \t0.26538093970771065 \t0.8645544938911982   \t0.9082866851471711   \t0.9885859679395941\n",
      "PRI_met_phi                \t0.0                  \t0.016593608536041485\t0.8337941894415025   \t0.8805172303076311   \t0.9508050047012768\n",
      "PRI_met_sumet              \t0.09689738061283283  \t0.974858041109745   \t1.0                  \t1.0                  \t1.0               \n",
      "PRI_jet_num                \t0.0030603098310803974\t0.021968793023848937\t0.8343307061895329   \t0.8808381982311991   \t0.9488422984208756\n",
      "PRI_jet_leading_pt         \t0.0                  \t0.0                 \t0.20946864425721232  \t0.8510842324316096   \t0.9566038668759528\n",
      "PRI_jet_leading_eta        \t0.0                  \t0.0                 \t0.0050665344197582275\t0.7930624097080141   \t0.9269545982516788\n",
      "PRI_jet_leading_phi        \t0.0                  \t0.0                 \t0.004827887385430869 \t0.7924999574088716   \t0.9243205471718197\n",
      "PRI_jet_subleading_pt      \t0.0                  \t0.0                 \t0.0                  \t0.08510455196002054  \t0.9117117675441896\n",
      "PRI_jet_subleading_eta     \t0.0                  \t0.0                 \t0.0                  \t0.0018304399902400346\t0.8830354889973926\n",
      "PRI_jet_subleading_phi     \t0.0                  \t0.0                 \t0.0                  \t0.0008046817579391881\t0.8817712183655672\n",
      "PRI_jet_all_pt             \t0.05314706200404744  \t0.6574495912557913  \t0.8631441342704824   \t0.8987367082033819   \t0.9566038668759528\n"
     ]
    }
   ],
   "source": [
    "print_five_numbers_summary(tX)\n",
    "print(\"-------------\")\n",
    "print_five_numbers_summary(stX)"
   ]
  },
  {
   "cell_type": "code",
   "execution_count": 5,
   "metadata": {
    "collapsed": false
   },
   "outputs": [
    {
     "data": {
      "image/png": "[encoded data removed]",
      "text/plain": [
       "<matplotlib.figure.Figure at 0x104c65c88>"
      ]
     },
     "metadata": {},
     "output_type": "display_data"
    }
   ],
   "source": [
    "boxplot_five_number(tX)"
   ]
  },
  {
   "cell_type": "markdown",
   "metadata": {
    "collapsed": true
   },
   "source": [
    "## Split the data according with tht possible number of jets"
   ]
  },
  {
   "cell_type": "code",
   "execution_count": 6,
   "metadata": {
    "collapsed": false
   },
   "outputs": [],
   "source": [
    "jet0, jet1, jet23, y0, y1, y23 = split_on_jets(y, tX)"
   ]
  },
  {
   "cell_type": "code",
   "execution_count": 7,
   "metadata": {
    "collapsed": false
   },
   "outputs": [
    {
     "name": "stdout",
     "output_type": "stream",
     "text": [
      "--Label--                  \t--NaN values--\t--defined values--\n",
      "DER_mass_MMC               \t562           \t1423              \n",
      "DER_mass_transverse_met_lep\t0             \t1985              \n",
      "DER_mass_vis               \t0             \t1985              \n",
      "DER_pt_h                   \t0             \t1985              \n",
      "DER_deltaeta_jet_jet       \t1985          \t0                 \n",
      "DER_mass_jet_jet           \t1985          \t0                 \n",
      "DER_prodeta_jet_jet        \t1985          \t0                 \n",
      "DER_deltar_tau_lep         \t0             \t1985              \n",
      "DER_pt_tot                 \t0             \t1985              \n",
      "DER_sum_pt                 \t0             \t1985              \n",
      "DER_pt_ratio_lep_tau       \t0             \t1985              \n",
      "DER_met_phi_centrality     \t0             \t1985              \n",
      "DER_lep_eta_centrality     \t1985          \t0                 \n",
      "PRI_tau_pt                 \t0             \t1985              \n",
      "PRI_tau_eta                \t0             \t1985              \n",
      "PRI_tau_phi                \t0             \t1985              \n",
      "PRI_lep_pt                 \t0             \t1985              \n",
      "PRI_lep_eta                \t0             \t1985              \n",
      "PRI_lep_phi                \t0             \t1985              \n",
      "PRI_met                    \t0             \t1985              \n",
      "PRI_met_phi                \t0             \t1985              \n",
      "PRI_met_sumet              \t0             \t1985              \n",
      "PRI_jet_num                \t0             \t1985              \n",
      "PRI_jet_leading_pt         \t1985          \t0                 \n",
      "PRI_jet_leading_eta        \t1985          \t0                 \n",
      "PRI_jet_leading_phi        \t1985          \t0                 \n",
      "PRI_jet_subleading_pt      \t1985          \t0                 \n",
      "PRI_jet_subleading_eta     \t1985          \t0                 \n",
      "PRI_jet_subleading_phi     \t1985          \t0                 \n",
      "PRI_jet_all_pt             \t0             \t1985              \n"
     ]
    }
   ],
   "source": [
    "print_nan_summary(jet0)"
   ]
  },
  {
   "cell_type": "code",
   "execution_count": 8,
   "metadata": {
    "collapsed": false
   },
   "outputs": [
    {
     "name": "stdout",
     "output_type": "stream",
     "text": [
      "# of Higgs:  441 over a total of : 1985 --->  0.2221662468513854 %\n"
     ]
    }
   ],
   "source": [
    "count_higgs(y0)"
   ]
  },
  {
   "cell_type": "code",
   "execution_count": 9,
   "metadata": {
    "collapsed": false
   },
   "outputs": [
    {
     "name": "stdout",
     "output_type": "stream",
     "text": [
      "----------\n",
      "#Jet = 0\n",
      "(1985, 30)\n",
      "----------\n",
      "--Label--                  \t--NaN values--\t--defined values--\n",
      "DER_mass_MMC               \t562           \t1423              \n",
      "DER_mass_transverse_met_lep\t0             \t1985              \n",
      "DER_mass_vis               \t0             \t1985              \n",
      "DER_pt_h                   \t0             \t1985              \n",
      "DER_deltaeta_jet_jet       \t1985          \t0                 \n",
      "DER_mass_jet_jet           \t1985          \t0                 \n",
      "DER_prodeta_jet_jet        \t1985          \t0                 \n",
      "DER_deltar_tau_lep         \t0             \t1985              \n",
      "DER_pt_tot                 \t0             \t1985              \n",
      "DER_sum_pt                 \t0             \t1985              \n",
      "DER_pt_ratio_lep_tau       \t0             \t1985              \n",
      "DER_met_phi_centrality     \t0             \t1985              \n",
      "DER_lep_eta_centrality     \t1985          \t0                 \n",
      "PRI_tau_pt                 \t0             \t1985              \n",
      "PRI_tau_eta                \t0             \t1985              \n",
      "PRI_tau_phi                \t0             \t1985              \n",
      "PRI_lep_pt                 \t0             \t1985              \n",
      "PRI_lep_eta                \t0             \t1985              \n",
      "PRI_lep_phi                \t0             \t1985              \n",
      "PRI_met                    \t0             \t1985              \n",
      "PRI_met_phi                \t0             \t1985              \n",
      "PRI_met_sumet              \t0             \t1985              \n",
      "PRI_jet_num                \t0             \t1985              \n",
      "PRI_jet_leading_pt         \t1985          \t0                 \n",
      "PRI_jet_leading_eta        \t1985          \t0                 \n",
      "PRI_jet_leading_phi        \t1985          \t0                 \n",
      "PRI_jet_subleading_pt      \t1985          \t0                 \n",
      "PRI_jet_subleading_eta     \t1985          \t0                 \n",
      "PRI_jet_subleading_phi     \t1985          \t0                 \n",
      "PRI_jet_all_pt             \t0             \t1985              \n",
      "----------\n",
      "#Jet = 1\n",
      "(1540, 30)\n",
      "----------\n",
      "--Label--                  \t--NaN values--\t--defined values--\n",
      "DER_mass_MMC               \t172           \t1368              \n",
      "DER_mass_transverse_met_lep\t0             \t1540              \n",
      "DER_mass_vis               \t0             \t1540              \n",
      "DER_pt_h                   \t0             \t1540              \n",
      "DER_deltaeta_jet_jet       \t1540          \t0                 \n",
      "DER_mass_jet_jet           \t1540          \t0                 \n",
      "DER_prodeta_jet_jet        \t1540          \t0                 \n",
      "DER_deltar_tau_lep         \t0             \t1540              \n",
      "DER_pt_tot                 \t0             \t1540              \n",
      "DER_sum_pt                 \t0             \t1540              \n",
      "DER_pt_ratio_lep_tau       \t0             \t1540              \n",
      "DER_met_phi_centrality     \t0             \t1540              \n",
      "DER_lep_eta_centrality     \t1540          \t0                 \n",
      "PRI_tau_pt                 \t0             \t1540              \n",
      "PRI_tau_eta                \t0             \t1540              \n",
      "PRI_tau_phi                \t0             \t1540              \n",
      "PRI_lep_pt                 \t0             \t1540              \n",
      "PRI_lep_eta                \t0             \t1540              \n",
      "PRI_lep_phi                \t0             \t1540              \n",
      "PRI_met                    \t0             \t1540              \n",
      "PRI_met_phi                \t0             \t1540              \n",
      "PRI_met_sumet              \t0             \t1540              \n",
      "PRI_jet_num                \t0             \t1540              \n",
      "PRI_jet_leading_pt         \t0             \t1540              \n",
      "PRI_jet_leading_eta        \t0             \t1540              \n",
      "PRI_jet_leading_phi        \t0             \t1540              \n",
      "PRI_jet_subleading_pt      \t1540          \t0                 \n",
      "PRI_jet_subleading_eta     \t1540          \t0                 \n",
      "PRI_jet_subleading_phi     \t1540          \t0                 \n",
      "PRI_jet_all_pt             \t0             \t1540              \n",
      "----------\n",
      "#Jet = 2 or 3\n",
      "(1475, 30)\n",
      "----------\n",
      "--Label--                  \t--NaN values--\t--defined values--\n",
      "DER_mass_MMC               \t106           \t1369              \n",
      "DER_mass_transverse_met_lep\t0             \t1475              \n",
      "DER_mass_vis               \t0             \t1475              \n",
      "DER_pt_h                   \t0             \t1475              \n",
      "DER_deltaeta_jet_jet       \t0             \t1475              \n",
      "DER_mass_jet_jet           \t0             \t1475              \n",
      "DER_prodeta_jet_jet        \t0             \t1475              \n",
      "DER_deltar_tau_lep         \t0             \t1475              \n",
      "DER_pt_tot                 \t0             \t1475              \n",
      "DER_sum_pt                 \t0             \t1475              \n",
      "DER_pt_ratio_lep_tau       \t0             \t1475              \n",
      "DER_met_phi_centrality     \t0             \t1475              \n",
      "DER_lep_eta_centrality     \t0             \t1475              \n",
      "PRI_tau_pt                 \t0             \t1475              \n",
      "PRI_tau_eta                \t0             \t1475              \n",
      "PRI_tau_phi                \t0             \t1475              \n",
      "PRI_lep_pt                 \t0             \t1475              \n",
      "PRI_lep_eta                \t0             \t1475              \n",
      "PRI_lep_phi                \t0             \t1475              \n",
      "PRI_met                    \t0             \t1475              \n",
      "PRI_met_phi                \t0             \t1475              \n",
      "PRI_met_sumet              \t0             \t1475              \n",
      "PRI_jet_num                \t0             \t1475              \n",
      "PRI_jet_leading_pt         \t0             \t1475              \n",
      "PRI_jet_leading_eta        \t0             \t1475              \n",
      "PRI_jet_leading_phi        \t0             \t1475              \n",
      "PRI_jet_subleading_pt      \t0             \t1475              \n",
      "PRI_jet_subleading_eta     \t0             \t1475              \n",
      "PRI_jet_subleading_phi     \t0             \t1475              \n",
      "PRI_jet_all_pt             \t0             \t1475              \n"
     ]
    }
   ],
   "source": [
    "print(\"----------\")\n",
    "print(\"#Jet = 0\")\n",
    "print(jet0.shape)\n",
    "print(\"----------\")\n",
    "print_nan_summary(jet0)\n",
    "\n",
    "print(\"----------\")\n",
    "print(\"#Jet = 1\")\n",
    "print(jet1.shape)\n",
    "print(\"----------\")\n",
    "print_nan_summary(jet1)\n",
    "\n",
    "print(\"----------\")\n",
    "print(\"#Jet = 2 or 3\")\n",
    "print(jet23.shape)\n",
    "print(\"----------\")\n",
    "print_nan_summary(jet23)"
   ]
  },
  {
   "cell_type": "markdown",
   "metadata": {},
   "source": [
    "## Split on mass "
   ]
  },
  {
   "cell_type": "code",
   "execution_count": 10,
   "metadata": {
    "collapsed": false
   },
   "outputs": [
    {
     "data": {
      "text/plain": [
       "array([[ 148.436,   43.251,  118.888, ..., -999.   , -999.   ,    0.   ],\n",
       "       [-999.   ,   86.317,   73.988, ..., -999.   , -999.   ,    0.   ],\n",
       "       [-999.   ,   64.299,   64.676, ..., -999.   , -999.   ,    0.   ],\n",
       "       ..., \n",
       "       [-999.   ,   88.445,   54.259, ..., -999.   , -999.   ,    0.   ],\n",
       "       [  81.153,   28.748,   63.335, ..., -999.   , -999.   ,    0.   ],\n",
       "       [-999.   ,   78.589,   76.993, ..., -999.   , -999.   ,    0.   ]])"
      ]
     },
     "execution_count": 10,
     "metadata": {},
     "output_type": "execute_result"
    }
   ],
   "source": [
    "jet0"
   ]
  },
  {
   "cell_type": "code",
   "execution_count": 11,
   "metadata": {
    "collapsed": false
   },
   "outputs": [
    {
     "name": "stdout",
     "output_type": "stream",
     "text": [
      "# of Higgs:  441 over a total of : 1985 --->  0.2221662468513854 %\n"
     ]
    }
   ],
   "source": [
    "count_higgs(y0)"
   ]
  },
  {
   "cell_type": "code",
   "execution_count": 12,
   "metadata": {
    "collapsed": false
   },
   "outputs": [],
   "source": [
    "jet0_nomass, jet0_mass, y0_nomass, y0_mass = split_on_mass(y0, jet0)"
   ]
  },
  {
   "cell_type": "code",
   "execution_count": 15,
   "metadata": {
    "collapsed": false
   },
   "outputs": [
    {
     "name": "stdout",
     "output_type": "stream",
     "text": [
      "# of Higgs:  32 over a total of : 562 --->  0.05693950177935943 %\n",
      "# of Higgs:  409 over a total of : 1423 --->  0.28742094167252286 %\n"
     ]
    }
   ],
   "source": [
    "count_higgs(y0_nomass)\n",
    "count_higgs(y0_mass)"
   ]
  },
  {
   "cell_type": "code",
   "execution_count": null,
   "metadata": {
    "collapsed": true
   },
   "outputs": [],
   "source": []
  }
 ],
 "metadata": {
  "anaconda-cloud": {},
  "kernelspec": {
   "display_name": "Python [Root]",
   "language": "python",
   "name": "Python [Root]"
  },
  "language_info": {
   "codemirror_mode": {
    "name": "ipython",
    "version": 3
   },
   "file_extension": ".py",
   "mimetype": "text/x-python",
   "name": "python",
   "nbconvert_exporter": "python",
   "pygments_lexer": "ipython3",
   "version": "3.5.2"
  }
 },
 "nbformat": 4,
 "nbformat_minor": 0
}
