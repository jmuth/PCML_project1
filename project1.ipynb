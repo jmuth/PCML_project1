{
 "cells": [
  {
   "cell_type": "code",
   "execution_count": 3,
   "metadata": {
    "collapsed": true
   },
   "outputs": [],
   "source": [
    "# Useful starting lines\n",
    "%matplotlib inline\n",
    "import numpy as np\n",
    "import matplotlib.pyplot as plt\n",
    "%load_ext autoreload\n",
    "%autoreload 2"
   ]
  },
  {
   "cell_type": "code",
   "execution_count": 14,
   "metadata": {
    "collapsed": true
   },
   "outputs": [],
   "source": [
    "from costs import *\n",
    "from functions import *\n",
    "from helpers import *\n",
    "from build_polynomial import *"
   ]
  },
  {
   "cell_type": "markdown",
   "metadata": {},
   "source": [
    "## Load the training data into feature matrix, class labels, and event ids:"
   ]
  },
  {
   "cell_type": "code",
   "execution_count": 69,
   "metadata": {
    "collapsed": false
   },
   "outputs": [],
   "source": [
    "from proj1_helpers import *\n",
    "DATA_TRAIN_PATH = 'train.csv' # TODO: download train data and supply path here \n",
    "y, tX, ids = load_csv_data(DATA_TRAIN_PATH, sub_sample=True)"
   ]
  },
  {
   "cell_type": "code",
   "execution_count": 70,
   "metadata": {
    "collapsed": false
   },
   "outputs": [
    {
     "name": "stdout",
     "output_type": "stream",
     "text": [
      "(5000,)\n",
      "[ 1. -1. -1.  1.  1.  1. -1. -1.  1. -1.]\n",
      "[[  1.38470000e+02   5.16550000e+01   9.78270000e+01   2.79800000e+01\n",
      "    9.10000000e-01   1.24711000e+02   2.66600000e+00   3.06400000e+00\n",
      "    4.19280000e+01   1.97760000e+02   1.58200000e+00   1.39600000e+00\n",
      "    2.00000000e-01   3.26380000e+01   1.01700000e+00   3.81000000e-01\n",
      "    5.16260000e+01   2.27300000e+00  -2.41400000e+00   1.68240000e+01\n",
      "   -2.77000000e-01   2.58733000e+02   2.00000000e+00   6.74350000e+01\n",
      "    2.15000000e+00   4.44000000e-01   4.60620000e+01   1.24000000e+00\n",
      "   -2.47500000e+00   1.13497000e+02]\n",
      " [  2.19057000e+02   7.24610000e+01   1.24835000e+02   5.50600000e+00\n",
      "   -9.99000000e+02  -9.99000000e+02  -9.99000000e+02   3.77100000e+00\n",
      "    4.69360000e+01   1.22986000e+02   1.93200000e+00  -1.38200000e+00\n",
      "   -9.99000000e+02   2.47590000e+01  -1.06300000e+00   3.32000000e-01\n",
      "    4.78300000e+01   1.34700000e+00  -2.56900000e+00   2.84990000e+01\n",
      "    9.60000000e-01   9.03550000e+01   1.00000000e+00   5.03960000e+01\n",
      "   -7.08000000e-01  -6.42000000e-01  -9.99000000e+02  -9.99000000e+02\n",
      "   -9.99000000e+02   5.03960000e+01]]\n",
      "[100000 100050 100100 100150 100200 100250 100300 100350 100400 100450]\n"
     ]
    }
   ],
   "source": [
    "print(y.shape)\n",
    "head = range(10)\n",
    "print(y[head])\n",
    "print(tX[ range(2) ])\n",
    "print(ids[head])"
   ]
  },
  {
   "cell_type": "markdown",
   "metadata": {},
   "source": [
    "## Do your thing crazy machine learning thing here :) ..."
   ]
  },
  {
   "cell_type": "markdown",
   "metadata": {},
   "source": [
    "Let's begin with a simple linear regression with least_square gradient descent"
   ]
  },
  {
   "cell_type": "code",
   "execution_count": 71,
   "metadata": {
    "collapsed": false
   },
   "outputs": [],
   "source": [
    "gamma = 1.0\n",
    "max_iter = 10\n",
    "loss, w = least_squares_SGD(y, tX, gamma, max_iter)"
   ]
  },
  {
   "cell_type": "code",
   "execution_count": 72,
   "metadata": {
    "collapsed": false,
    "scrolled": true
   },
   "outputs": [
    {
     "name": "stdout",
     "output_type": "stream",
     "text": [
      "[[  1.38470000e+02   5.16550000e+01   9.78270000e+01   2.79800000e+01\n",
      "    9.10000000e-01   1.24711000e+02   2.66600000e+00   3.06400000e+00\n",
      "    4.19280000e+01   1.97760000e+02   1.58200000e+00   1.39600000e+00\n",
      "    2.00000000e-01   3.26380000e+01   1.01700000e+00   3.81000000e-01\n",
      "    5.16260000e+01   2.27300000e+00  -2.41400000e+00   1.68240000e+01\n",
      "   -2.77000000e-01   2.58733000e+02   2.00000000e+00   6.74350000e+01\n",
      "    2.15000000e+00   4.44000000e-01   4.60620000e+01   1.24000000e+00\n",
      "   -2.47500000e+00   1.13497000e+02]\n",
      " [  2.19057000e+02   7.24610000e+01   1.24835000e+02   5.50600000e+00\n",
      "   -9.99000000e+02  -9.99000000e+02  -9.99000000e+02   3.77100000e+00\n",
      "    4.69360000e+01   1.22986000e+02   1.93200000e+00  -1.38200000e+00\n",
      "   -9.99000000e+02   2.47590000e+01  -1.06300000e+00   3.32000000e-01\n",
      "    4.78300000e+01   1.34700000e+00  -2.56900000e+00   2.84990000e+01\n",
      "    9.60000000e-01   9.03550000e+01   1.00000000e+00   5.03960000e+01\n",
      "   -7.08000000e-01  -6.42000000e-01  -9.99000000e+02  -9.99000000e+02\n",
      "   -9.99000000e+02   5.03960000e+01]\n",
      " [  9.08010000e+01   2.77870000e+01   6.53730000e+01   5.59780000e+01\n",
      "   -9.99000000e+02  -9.99000000e+02  -9.99000000e+02   2.45700000e+00\n",
      "    2.06080000e+01   1.38624000e+02   2.45200000e+00   1.40500000e+00\n",
      "   -9.99000000e+02   2.19770000e+01   1.60300000e+00  -6.43000000e-01\n",
      "    5.38810000e+01   1.87300000e+00   1.79900000e+00   1.82090000e+01\n",
      "    8.80000000e-01   2.19339000e+02   1.00000000e+00   6.27660000e+01\n",
      "    7.78000000e-01  -2.20900000e+00  -9.99000000e+02  -9.99000000e+02\n",
      "   -9.99000000e+02   6.27660000e+01]]\n"
     ]
    }
   ],
   "source": [
    "print(tX[ range(3)])\n",
    "x_first_column = tX[:, 0]"
   ]
  },
  {
   "cell_type": "code",
   "execution_count": 73,
   "metadata": {
    "collapsed": false
   },
   "outputs": [],
   "source": [
    "# let's do a prediction only about first column, just for fun\n",
    "tx_first_column = build_poly(x_first_column, 2)\n",
    "loss, w = least_squares_SGD(y, tX, gamma, 15)"
   ]
  },
  {
   "cell_type": "code",
   "execution_count": 74,
   "metadata": {
    "collapsed": false,
    "scrolled": true
   },
   "outputs": [
    {
     "name": "stdout",
     "output_type": "stream",
     "text": [
      "30\n",
      "2.59175549721e+96\n"
     ]
    }
   ],
   "source": [
    "print(len(w))\n",
    "print(loss)"
   ]
  },
  {
   "cell_type": "code",
   "execution_count": 75,
   "metadata": {
    "collapsed": false
   },
   "outputs": [
    {
     "name": "stdout",
     "output_type": "stream",
     "text": [
      "(5000, 30)\n"
     ]
    },
    {
     "data": {
      "text/plain": [
       "array([  1.78522382e+05,   1.22776973e+03,   1.71200877e+03,\n",
       "         3.94524710e+03,   2.08562497e+05,   4.32395561e+05,\n",
       "         2.07232544e+05,   6.27135481e-01,   4.95589291e+02,\n",
       "         1.36335258e+04,   7.04945502e-01,   1.40304887e+00,\n",
       "         2.07756906e+05,   4.36991199e+02,   1.48653490e+00,\n",
       "         3.21330114e+00,   4.46602191e+02,   1.61300719e+00,\n",
       "         3.35879536e+00,   1.03395556e+03,   3.26421238e+00,\n",
       "         1.66971234e+04,   9.50956640e-01,   2.83494766e+05,\n",
       "         2.38905669e+05,   2.38912765e+05,   2.32559963e+05,\n",
       "         2.07557795e+05,   2.07509868e+05,   1.00327819e+04])"
      ]
     },
     "execution_count": 75,
     "metadata": {},
     "output_type": "execute_result"
    }
   ],
   "source": [
    "print(tX.shape)\n",
    "np.var(tX, axis=0)"
   ]
  },
  {
   "cell_type": "markdown",
   "metadata": {},
   "source": [
    "Let's try some cross-validation, same as the HW4"
   ]
  },
  {
   "cell_type": "code",
   "execution_count": 85,
   "metadata": {
    "collapsed": false
   },
   "outputs": [
    {
     "name": "stderr",
     "output_type": "stream",
     "text": [
      "[autoreload of functions failed: Traceback (most recent call last):\n",
      "  File \"/Users/joachimmuth/anaconda3/lib/python3.5/site-packages/IPython/extensions/autoreload.py\", line 247, in check\n",
      "    superreload(m, reload, self.old_objects)\n",
      "  File \"/Users/joachimmuth/Documents/EPFL/PCML/PCML_project1/functions.py\", line 136\n",
      "    w = inv @ tx.T @ y\n",
      "               ^\n",
      "SyntaxError: invalid character in identifier\n",
      "]\n"
     ]
    }
   ],
   "source": [
    "from costs import *\n",
    "from build_polynomial import build_poly\n",
    "\n",
    "def cross_validation(y, tX, k_indices, k, lambda_):\n",
    "    \"\"\"return the loss of ridge regression.\"\"\"\n",
    "    # ***************************************************\n",
    "    # INSERT YOUR CODE HERE\n",
    "    # get k'th subgroup in test, others in train: TODO\n",
    "    # ***************************************************\n",
    "    ytest = y[k_indices[k]]\n",
    "    tXtest = tX[k_indices[k]]\n",
    "    \n",
    "    not_k = np.array([i for i in range(len(y)) if i not in k_indices[k]])\n",
    "    ytrain = y[not_k]\n",
    "    tXtrain = tX[not_k]\n",
    "\n",
    "    # ***************************************************\n",
    "    # INSERT YOUR CODE HERE\n",
    "    # ridge regression: TODO\n",
    "    # ***************************************************\n",
    "    _, w = ridge_regression(ytrain, tXtrain, lambda_)\n",
    "    # ***************************************************\n",
    "    # INSERT YOUR CODE HERE\n",
    "    # calculate the loss for train and test data: TODO\n",
    "    # ***************************************************\n",
    "    loss_tr = compute_loss(ytrain, tXtrain, w)\n",
    "    loss_te = compute_loss(ytest, tXtest, w)\n",
    "    \n",
    "\n",
    "    return loss_tr, loss_te"
   ]
  },
  {
   "cell_type": "code",
   "execution_count": 86,
   "metadata": {
    "collapsed": false,
    "scrolled": true
   },
   "outputs": [
    {
     "data": {
      "image/png": "[encoded data removed]",
      "text/plain": [
       "<matplotlib.figure.Figure at 0x12726dc88>"
      ]
     },
     "metadata": {},
     "output_type": "display_data"
    }
   ],
   "source": [
    "from plots import cross_validation_visualization\n",
    "from build_k_indices import *\n",
    "\n",
    "def cross_validation_demo():\n",
    "    seed = 1\n",
    "    k_fold = 4\n",
    "    lambdas = np.logspace(-10, 2, 30)\n",
    "    # split data in k fold\n",
    "    k_indices = build_k_indices(y, k_fold, seed)\n",
    "    # define lists to store the loss of training data and test data\n",
    "    mse_tr = []\n",
    "    mse_te = []\n",
    "    # ***************************************************\n",
    "    # INSERT YOUR CODE HERE\n",
    "    # cross validation: TODO\n",
    "    # *************************************************** \n",
    "    for lambda_ in lambdas:\n",
    "        trainerrors = []\n",
    "        testerrors = []\n",
    "        for k in range(k_fold):\n",
    "            trainerror, testerror = cross_validation(y, tX, k_indices, k, lambda_)\n",
    "            trainerrors.append(trainerror)\n",
    "            testerrors.append(testerror)\n",
    "        \n",
    "        mse_tr.append(np.mean(trainerrors))\n",
    "        mse_te.append(np.mean(testerrors))\n",
    "    \n",
    "    \n",
    "    cross_validation_visualization(lambdas, mse_tr, mse_te)\n",
    "\n",
    "cross_validation_demo()"
   ]
  },
  {
   "cell_type": "markdown",
   "metadata": {},
   "source": [
    "Then we choose a lambda near zéro (then just a least_square_GD), we will test our stupid regression with least_square_GD and variation of gamma"
   ]
  },
  {
   "cell_type": "code",
   "execution_count": 81,
   "metadata": {
    "collapsed": false,
    "scrolled": true
   },
   "outputs": [
    {
     "data": {
      "image/png": "[encoded data removed]",
      "text/plain": [
       "<matplotlib.figure.Figure at 0x12d57f518>"
      ]
     },
     "metadata": {},
     "output_type": "display_data"
    }
   ],
   "source": [
    "from costs import *\n",
    "from build_polynomial import build_poly\n",
    "from plots import cross_validation_visualization\n",
    "from build_k_indices import *\n",
    "\n",
    "def cross_validation(y, tX, k_indices, k, gamma):\n",
    "    \"\"\"return the loss of ridge regression.\"\"\"\n",
    "    # ***************************************************\n",
    "    # INSERT YOUR CODE HERE\n",
    "    # get k'th subgroup in test, others in train: TODO\n",
    "    # ***************************************************\n",
    "    ytest = y[k_indices[k]]\n",
    "    tXtest = tX[k_indices[k]]\n",
    "    \n",
    "    not_k = np.array([i for i in range(len(y)) if i not in k_indices[k]])\n",
    "    ytrain = y[not_k]\n",
    "    tXtrain = tX[not_k]\n",
    "\n",
    "    # ***************************************************\n",
    "    # INSERT YOUR CODE HERE\n",
    "    # ridge regression: TODO\n",
    "    # ***************************************************\n",
    "    max_iters = 10\n",
    "    loss, w = least_squares_GD(ytrain, tXtrain, gamma, max_iters)\n",
    "    # ***************************************************\n",
    "    # INSERT YOUR CODE HERE\n",
    "    # calculate the loss for train and test data: TODO\n",
    "    # ***************************************************\n",
    "    loss_tr = compute_loss(ytrain, tXtrain, w)\n",
    "    loss_te = compute_loss(ytest, tXtest, w)\n",
    "\n",
    "    return loss_tr, loss_te\n",
    "\n",
    "\n",
    "def cross_validation_demo():\n",
    "    seed = 1\n",
    "    k_fold = 4\n",
    "    # lambdas = np.logspace(-10, 2, 30)\n",
    "    gammas = np.arange(0.0, 1.0, 0.1)\n",
    "    # split data in k fold\n",
    "    k_indices = build_k_indices(y, k_fold, seed)\n",
    "    # define lists to store the loss of training data and test data\n",
    "    mse_tr = []\n",
    "    mse_te = []\n",
    "    # ***************************************************\n",
    "    # INSERT YOUR CODE HERE\n",
    "    # cross validation: TODO\n",
    "    # *************************************************** \n",
    "    for gamma in gammas:\n",
    "        trainerrors = []\n",
    "        testerrors = []\n",
    "        for k in range(k_fold):\n",
    "            trainerror, testerror = cross_validation(y, tX, k_indices, k, gamma)\n",
    "            trainerrors.append(trainerror)\n",
    "            testerrors.append(testerror)\n",
    "        \n",
    "        mse_tr.append(np.mean(trainerrors))\n",
    "        mse_te.append(np.mean(testerrors))\n",
    "    \n",
    "    cross_validation_visualization(gammas, mse_tr, mse_te)\n",
    "\n",
    "cross_validation_demo()"
   ]
  },
  {
   "cell_type": "markdown",
   "metadata": {},
   "source": [
    "Then we decide that a small gamma is ok, 0.5 seems good. We will just do one dummy prediction"
   ]
  },
  {
   "cell_type": "code",
   "execution_count": 82,
   "metadata": {
    "collapsed": false
   },
   "outputs": [],
   "source": [
    "gamma = 0.5\n",
    "max_iters = 10\n",
    "loss, w = least_squares_GD(y, tX, gamma, max_iters)"
   ]
  },
  {
   "cell_type": "code",
   "execution_count": 83,
   "metadata": {
    "collapsed": false
   },
   "outputs": [
    {
     "data": {
      "text/plain": [
       "array([  8.10496951e+53,  -3.49906680e+53,  -5.13103798e+53,\n",
       "        -1.97828376e+53,   6.36784999e+54,   6.46838401e+54,\n",
       "         6.36688359e+54,  -1.59293423e+52,  -9.10573668e+52,\n",
       "        -6.22027397e+53,  -8.92091582e+51,   3.37033567e+51,\n",
       "         6.36743826e+54,  -2.16766559e+53,  -3.73854975e+49,\n",
       "        -2.30833025e+49,  -2.73220875e+53,   1.62921679e+50,\n",
       "        -6.79965782e+50,  -2.21631769e+53,   9.10361294e+48,\n",
       "        -9.38131765e+53,  -2.11808611e+51,   3.80552203e+54,\n",
       "         3.94937898e+54,   3.94923054e+54,   6.37648328e+54,\n",
       "         6.36735529e+54,   6.36732500e+54,  -1.32040011e+53])"
      ]
     },
     "execution_count": 83,
     "metadata": {},
     "output_type": "execute_result"
    }
   ],
   "source": [
    "w"
   ]
  },
  {
   "cell_type": "code",
   "execution_count": 84,
   "metadata": {
    "collapsed": false
   },
   "outputs": [
    {
     "data": {
      "text/plain": [
       "array([  8.10496951e+53,  -3.49906680e+53,  -5.13103798e+53,\n",
       "        -1.97828376e+53,   6.36784999e+54,   6.46838401e+54,\n",
       "         6.36688359e+54,  -1.59293423e+52,  -9.10573668e+52,\n",
       "        -6.22027397e+53,  -8.92091582e+51,   3.37033567e+51,\n",
       "         6.36743826e+54,  -2.16766559e+53,  -3.73854975e+49,\n",
       "        -2.30833025e+49,  -2.73220875e+53,   1.62921679e+50,\n",
       "        -6.79965782e+50,  -2.21631769e+53,   9.10361294e+48,\n",
       "        -9.38131765e+53,  -2.11808611e+51,   3.80552203e+54,\n",
       "         3.94937898e+54,   3.94923054e+54,   6.37648328e+54,\n",
       "         6.36735529e+54,   6.36732500e+54,  -1.32040011e+53])"
      ]
     },
     "execution_count": 84,
     "metadata": {},
     "output_type": "execute_result"
    }
   ],
   "source": [
    "w"
   ]
  },
  {
   "cell_type": "markdown",
   "metadata": {},
   "source": [
    "## Generate predictions and save ouput in csv format for submission:"
   ]
  },
  {
   "cell_type": "code",
   "execution_count": 61,
   "metadata": {
    "collapsed": false
   },
   "outputs": [],
   "source": [
    "DATA_TEST_PATH = 'test.csv' # TODO: download train data and supply path here \n",
    "_, tX_test, ids_test = load_csv_data(DATA_TEST_PATH)"
   ]
  },
  {
   "cell_type": "code",
   "execution_count": 67,
   "metadata": {
    "collapsed": false
   },
   "outputs": [],
   "source": [
    "weights = w"
   ]
  },
  {
   "cell_type": "code",
   "execution_count": 68,
   "metadata": {
    "collapsed": false
   },
   "outputs": [],
   "source": [
    "OUTPUT_PATH = 'pred_test1.csv' # TODO: fill in desired name of output file for submission\n",
    "y_pred = predict_labels(weights, tX_test)\n",
    "create_csv_submission(ids_test, y_pred, OUTPUT_PATH)"
   ]
  },
  {
   "cell_type": "code",
   "execution_count": null,
   "metadata": {
    "collapsed": true
   },
   "outputs": [],
   "source": []
  }
 ],
 "metadata": {
  "anaconda-cloud": {},
  "kernelspec": {
   "display_name": "Python [Root]",
   "language": "python",
   "name": "Python [Root]"
  },
  "language_info": {
   "codemirror_mode": {
    "name": "ipython",
    "version": 3
   },
   "file_extension": ".py",
   "mimetype": "text/x-python",
   "name": "python",
   "nbconvert_exporter": "python",
   "pygments_lexer": "ipython3",
   "version": "3.5.2"
  }
 },
 "nbformat": 4,
 "nbformat_minor": 0
}
