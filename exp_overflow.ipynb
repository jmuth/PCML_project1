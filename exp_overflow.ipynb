{
 "cells": [
  {
   "cell_type": "code",
   "execution_count": 1,
   "metadata": {
    "collapsed": true
   },
   "outputs": [],
   "source": [
    "import numpy as np\n",
    "import math"
   ]
  },
  {
   "cell_type": "markdown",
   "metadata": {},
   "source": [
    "# How to deal with exp() overflow\n",
    "\n",
    "Based on this explanation:\n",
    "http://stackoverflow.com/questions/20085768/avoiding-numerical-overflow-when-calculating-the-value-and-gradient-of-the-logis\n",
    "and mathematical backgroud, we will estimate all $exp(s)$ function used in the algorithms when $s$ is very big or very small.\n",
    "\n",
    "## Log(1 + exp(s))\n",
    "\n",
    "If s is very big\n",
    "\n",
    "$1 + exp(s) ≅ exp(s)$ and then $log(1 + exp(s)) ≅ log(exp(s)) = s.$\n",
    "\n",
    "If s is very small, Taylor serie of first degree \n",
    "\n",
    "$exp(s) ≅ 1 + s$\n",
    "\n",
    "and Taylor serie of log\n",
    "\n",
    "$log(1 + exp(s)) ≅ log(2 + s) ≅ log(2) + s / 2.$\n",
    "\n",
    "\n",
    "## 1 / Log(1 + exp(-s))\n",
    "\n",
    "Obvisouly $1 / Log(1 + exp(-s)) == exp(s) ./ (1 + exp(s))$\n",
    "\n",
    "Then following what's above, for very big s\n",
    "\n",
    "$exp(s) ./ (1 + exp(s)) ≅ 1$\n",
    "\n",
    "And for very small s \n",
    "\n",
    "$exp(s) ./ (1 + exp(s)) ≅ 1/2 + s / 4.$"
   ]
  },
  {
   "cell_type": "code",
   "execution_count": 22,
   "metadata": {
    "collapsed": false,
    "scrolled": true
   },
   "outputs": [
    {
     "name": "stdout",
     "output_type": "stream",
     "text": [
      "8.00033540637\n",
      "50.0\n",
      "True\n"
     ]
    }
   ],
   "source": [
    "# let's try this in practice\n",
    "\n",
    "def logExp(x):\n",
    "    return np.log(1 + math.exp(x))\n",
    "\n",
    "print(logExp(8))\n",
    "print(logExp(50))\n",
    "print(logExp(50) == 50.)"
   ]
  },
  {
   "cell_type": "code",
   "execution_count": 31,
   "metadata": {
    "collapsed": false
   },
   "outputs": [
    {
     "name": "stdout",
     "output_type": "stream",
     "text": [
      "8.00033540637\n",
      "4.69314718056\n",
      "1.31326168752\n",
      "1.19314718056\n",
      "0.744396660074\n",
      "0.74314718056\n",
      "0.698159680508\n",
      "0.69814718056\n",
      "1.25000010343e-09\n"
     ]
    }
   ],
   "source": [
    "# for small x\n",
    "ln2 = np.log(2)\n",
    "def estimLogExp(x):\n",
    "    return ln2 + (x/2)\n",
    "\n",
    "print(logExp(8.))\n",
    "print(estimLogExp(8.))\n",
    "\n",
    "print(logExp(1.))\n",
    "print(estimLogExp(1.))\n",
    "\n",
    "print(logExp(0.1))\n",
    "print(estimLogExp(0.1))\n",
    "\n",
    "print(logExp(0.01))\n",
    "print(estimLogExp(0.01))\n",
    "\n",
    "print(logExp(0.0001) - estimLogExp(0.0001))"
   ]
  },
  {
   "cell_type": "code",
   "execution_count": 18,
   "metadata": {
    "collapsed": false
   },
   "outputs": [
    {
     "name": "stdout",
     "output_type": "stream",
     "text": [
      "0.9996646498695335\n",
      "True\n"
     ]
    }
   ],
   "source": [
    "# let's try this for sigmoid function\n",
    "x = 8.\n",
    "def sigm(x):\n",
    "    return math.exp(x) / (1 + math.exp(x))\n",
    "\n",
    "print(sigm(8))\n",
    "print(sigm(50.) == 1)"
   ]
  },
  {
   "cell_type": "code",
   "execution_count": 34,
   "metadata": {
    "collapsed": false
   },
   "outputs": [
    {
     "name": "stdout",
     "output_type": "stream",
     "text": [
      "0.52497918747894\n",
      "0.525\n",
      "0.5002499999791666\n",
      "0.50025\n",
      "1.1102230246251565e-16\n"
     ]
    }
   ],
   "source": [
    "# and for small x\n",
    "def estimSigm(x):\n",
    "    return 0.5 + (x/4)\n",
    "\n",
    "print(sigm(0.1))\n",
    "print(estimSigm(0.1))\n",
    "\n",
    "print(sigm(0.001))\n",
    "print(estimSigm(0.001))\n",
    "\n",
    "print(estimSigm(0.00001)- sigm(0.00001))\n"
   ]
  },
  {
   "cell_type": "markdown",
   "metadata": {},
   "source": [
    "This estimation will be added to our alogithms to improve speed of execution and avoid overflow"
   ]
  },
  {
   "cell_type": "code",
   "execution_count": null,
   "metadata": {
    "collapsed": true
   },
   "outputs": [],
   "source": []
  }
 ],
 "metadata": {
  "kernelspec": {
   "display_name": "Python [Root]",
   "language": "python",
   "name": "Python [Root]"
  },
  "language_info": {
   "codemirror_mode": {
    "name": "ipython",
    "version": 3
   },
   "file_extension": ".py",
   "mimetype": "text/x-python",
   "name": "python",
   "nbconvert_exporter": "python",
   "pygments_lexer": "ipython3",
   "version": "3.5.2"
  }
 },
 "nbformat": 4,
 "nbformat_minor": 0
}
