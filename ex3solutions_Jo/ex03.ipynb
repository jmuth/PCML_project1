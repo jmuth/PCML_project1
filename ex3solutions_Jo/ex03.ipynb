{
 "cells": [
  {
   "cell_type": "code",
   "execution_count": 1,
   "metadata": {
    "collapsed": false
   },
   "outputs": [],
   "source": [
    "# Useful starting lines\n",
    "%matplotlib inline\n",
    "import numpy as np\n",
    "import matplotlib.pyplot as plt\n",
    "%load_ext autoreload\n",
    "%autoreload 2"
   ]
  },
  {
   "cell_type": "markdown",
   "metadata": {},
   "source": [
    "# Least squares and linear basis functions models\n",
    "## Least squares"
   ]
  },
  {
   "cell_type": "code",
   "execution_count": 6,
   "metadata": {
    "collapsed": true
   },
   "outputs": [],
   "source": [
    "def least_squares(y, tx):\n",
    "    \"\"\"calculate the least squares solution.\"\"\"\n",
    "    # ***************************************************\n",
    "    # INSERT YOUR CODE HERE\n",
    "    # least squares: TODO\n",
    "    # returns mse, and optimal weights\n",
    "    # ***************************************************\n",
    "    \n",
    "    # check if tx^t * tx is invertible\n",
    "    xx = np.dot(np.matrix.transpose(tx), tx)\n",
    "    \n",
    "    try:\n",
    "        inv_xx = np.linalg.inv(xx)\n",
    "    except:\n",
    "        raise ValueError('Matrix xx is not invertible')\n",
    "    \n",
    "    w = np.matrix.dot(np.matrix.dot(inv_xx, np.matrix.transpose(tx)), y)\n",
    "    loss = compute_cost(y, tx, w)\n",
    "    \n",
    "    return loss, w"
   ]
  },
  {
   "cell_type": "markdown",
   "metadata": {},
   "source": [
    "### Load the data\n",
    "Here we will reuse the dataset `height_weight_genders.csv` from previous exercise section to check the correctness of your implementation. Please compare it with your previous result."
   ]
  },
  {
   "cell_type": "code",
   "execution_count": 8,
   "metadata": {
    "collapsed": false
   },
   "outputs": [
    {
     "name": "stdout",
     "output_type": "stream",
     "text": [
      "w0, w1 & loss of grid search\n",
      "72.7272727273 13.6363636364 15.5587033686\n",
      "w0, w1 & loss of LSE\n",
      "[ 73.293922    13.47971243] 15.3858878688\n"
     ]
    },
    {
     "data": {
      "text/plain": [
       "0"
      ]
     },
     "execution_count": 8,
     "metadata": {},
     "output_type": "execute_result"
    }
   ],
   "source": [
    "from helpers import *\n",
    "from grid_search import *\n",
    "\n",
    "def test_your_least_squares():\n",
    "    height, weight, gender = load_data_from_ex02(sub_sample=False, add_outlier=False)\n",
    "    x, mean_x, std_x = standardize(height)\n",
    "    y, tx = build_model_data(x, weight)\n",
    "    # ***************************************************\n",
    "    # INSERT YOUR CODE HERE\n",
    "    # least square or grid search: TODO\n",
    "    # this code should compare the optimal weights obtained \n",
    "    # by least squares vs. grid search\n",
    "    # ***************************************************\n",
    "    \n",
    "    # Generate the grid of parameters to be swept\n",
    "    grid_w0, grid_w1 = generate_w(num_intervals=100)\n",
    "\n",
    "    # Start the grid search\n",
    "    grid_losses = grid_search(y, tx, grid_w0, grid_w1)\n",
    "\n",
    "    # Select the best combinaison\n",
    "    loss_star, w0_star, w1_star = get_best_parameters(grid_w0, grid_w1, grid_losses)\n",
    "    \n",
    "    loss_LSE, w_star_LSE = least_squares(y, tx)\n",
    "    \n",
    "    print('w0, w1 & loss of grid search')\n",
    "    print(w0_star, w1_star, loss_star)\n",
    "    print('w0, w1 & loss of LSE')\n",
    "    print(w_star_LSE, loss_LSE)\n",
    "          \n",
    "\n",
    "    return 0\n",
    "\n",
    "test_your_least_squares()"
   ]
  },
  {
   "cell_type": "markdown",
   "metadata": {},
   "source": [
    "## Least squares with a linear basis function model\n",
    "Start from this section, we will use the dataset `dataEx3.csv`.\n",
    "\n",
    "### Implement polynomial basis functions"
   ]
  },
  {
   "cell_type": "code",
   "execution_count": 9,
   "metadata": {
    "collapsed": false,
    "scrolled": true
   },
   "outputs": [
    {
     "name": "stdout",
     "output_type": "stream",
     "text": [
      "shape of x (50,)\n",
      "shape of y (50,)\n"
     ]
    }
   ],
   "source": [
    "# load dataset\n",
    "x, y = load_data()\n",
    "print(\"shape of x {}\".format(x.shape))\n",
    "print(\"shape of y {}\".format(y.shape))"
   ]
  },
  {
   "cell_type": "code",
   "execution_count": 10,
   "metadata": {
    "collapsed": false
   },
   "outputs": [
    {
     "name": "stdout",
     "output_type": "stream",
     "text": [
      "[ 0.35237491  4.8951233   1.86662437  3.50706129  3.38087384  0.73093728\n",
      "  3.88562366  5.65224803  6.28318531  2.37137419  0.60474982  3.63324875\n",
      "  0.85712473  2.49756165  1.61424946  5.39987312  6.15699785  6.0308104\n",
      "  0.47856237  2.87612401  4.51656093  0.98331219  1.10949964  0.1\n",
      "  2.11899928  1.36187455  4.01181111  5.77843549  4.26418602  1.2356871\n",
      "  2.24518674  1.99281183  1.48806201  4.64274839  4.39037348  3.00231147\n",
      "  0.22618746  5.27368567  5.02131076  5.52606058  2.6237491   4.76893584\n",
      "  3.12849893  1.74043692  3.7594362   3.25468638  5.90462294  4.13799857\n",
      "  2.74993656  5.14749821]\n",
      "[  8.95549970e-02  -1.28027608e+00   1.28930361e+00  -2.68157012e-01\n",
      "  -2.06807030e-01   5.38669461e-01  -4.84226326e-01  -1.05814170e+00\n",
      "   2.22695473e-01   1.94693837e-01   4.37144573e-01  -3.01041920e-01\n",
      "   4.25144932e-01   3.76102400e-02   8.33364051e-01  -4.37345163e-01\n",
      "  -1.41108000e-04  -3.08575746e-01   7.22554859e-01  -3.72595292e-01\n",
      "  -7.37222919e-01   9.51211821e-01   6.05998553e-01   3.59152612e-01\n",
      "   7.77071848e-01   3.88647453e-01  -5.59911457e-01  -5.68519390e-01\n",
      "  -1.29168955e+00   9.94909022e-01   7.00138842e-01   7.27781486e-01\n",
      "   7.73288841e-01  -7.46011639e-01  -1.33397556e+00  -1.50508406e-01\n",
      "   2.52524512e-01  -9.56348655e-01  -1.30763072e+00  -8.26518932e-01\n",
      "   6.67509379e-01  -5.72305352e-01   7.69121860e-02   7.39727694e-01\n",
      "  -1.06662741e+00   3.05224230e-02  -7.66467434e-01  -8.35127298e-01\n",
      "   1.21879684e-01  -1.04670162e+00]\n"
     ]
    }
   ],
   "source": [
    "print(x)\n",
    "print(y)"
   ]
  },
  {
   "cell_type": "code",
   "execution_count": 13,
   "metadata": {
    "collapsed": false
   },
   "outputs": [
    {
     "data": {
      "text/plain": [
       "array([[  1.00000000e+00,   3.52374910e-01,   1.24168077e-01],\n",
       "       [  1.00000000e+00,   4.89512330e+00,   2.39622321e+01],\n",
       "       [  1.00000000e+00,   1.86662437e+00,   3.48428655e+00],\n",
       "       [  1.00000000e+00,   3.50706129e+00,   1.22994789e+01],\n",
       "       [  1.00000000e+00,   3.38087384e+00,   1.14303079e+01],\n",
       "       [  1.00000000e+00,   7.30937276e-01,   5.34269301e-01],\n",
       "       [  1.00000000e+00,   3.88562366e+00,   1.50980712e+01],\n",
       "       [  1.00000000e+00,   5.65224803e+00,   3.19479078e+01],\n",
       "       [  1.00000000e+00,   6.28318531e+00,   3.94784176e+01],\n",
       "       [  1.00000000e+00,   2.37137419e+00,   5.62341557e+00],\n",
       "       [  1.00000000e+00,   6.04749821e-01,   3.65722346e-01],\n",
       "       [  1.00000000e+00,   3.63324875e+00,   1.32004965e+01],\n",
       "       [  1.00000000e+00,   8.57124731e-01,   7.34662804e-01],\n",
       "       [  1.00000000e+00,   2.49756165e+00,   6.23781420e+00],\n",
       "       [  1.00000000e+00,   1.61424946e+00,   2.60580133e+00],\n",
       "       [  1.00000000e+00,   5.39987312e+00,   2.91586297e+01],\n",
       "       [  1.00000000e+00,   6.15699785e+00,   3.79086225e+01],\n",
       "       [  1.00000000e+00,   6.03081040e+00,   3.63706740e+01],\n",
       "       [  1.00000000e+00,   4.78562366e-01,   2.29021938e-01],\n",
       "       [  1.00000000e+00,   2.87612401e+00,   8.27208935e+00],\n",
       "       [  1.00000000e+00,   4.51656093e+00,   2.03993227e+01],\n",
       "       [  1.00000000e+00,   9.83312187e-01,   9.66902857e-01],\n",
       "       [  1.00000000e+00,   1.10949964e+00,   1.23098946e+00],\n",
       "       [  1.00000000e+00,   1.00000000e-01,   1.00000000e-02],\n",
       "       [  1.00000000e+00,   2.11899928e+00,   4.49015797e+00],\n",
       "       [  1.00000000e+00,   1.36187455e+00,   1.85470230e+00],\n",
       "       [  1.00000000e+00,   4.01181111e+00,   1.60946284e+01],\n",
       "       [  1.00000000e+00,   5.77843549e+00,   3.33903167e+01],\n",
       "       [  1.00000000e+00,   4.26418602e+00,   1.81832824e+01],\n",
       "       [  1.00000000e+00,   1.23568710e+00,   1.52692260e+00],\n",
       "       [  1.00000000e+00,   2.24518674e+00,   5.04086349e+00],\n",
       "       [  1.00000000e+00,   1.99281183e+00,   3.97129899e+00],\n",
       "       [  1.00000000e+00,   1.48806201e+00,   2.21432854e+00],\n",
       "       [  1.00000000e+00,   4.64274839e+00,   2.15551126e+01],\n",
       "       [  1.00000000e+00,   4.39037348e+00,   1.92753793e+01],\n",
       "       [  1.00000000e+00,   3.00231147e+00,   9.01387417e+00],\n",
       "       [  1.00000000e+00,   2.26187455e-01,   5.11607648e-02],\n",
       "       [  1.00000000e+00,   5.27368567e+00,   2.78117605e+01],\n",
       "       [  1.00000000e+00,   5.02131076e+00,   2.52135617e+01],\n",
       "       [  1.00000000e+00,   5.52606058e+00,   3.05373455e+01],\n",
       "       [  1.00000000e+00,   2.62374910e+00,   6.88405937e+00],\n",
       "       [  1.00000000e+00,   4.76893584e+00,   2.27427491e+01],\n",
       "       [  1.00000000e+00,   3.12849893e+00,   9.78750553e+00],\n",
       "       [  1.00000000e+00,   1.74043692e+00,   3.02912067e+00],\n",
       "       [  1.00000000e+00,   3.75943620e+00,   1.41333606e+01],\n",
       "       [  1.00000000e+00,   3.25468638e+00,   1.05929834e+01],\n",
       "       [  1.00000000e+00,   5.90462294e+00,   3.48645721e+01],\n",
       "       [  1.00000000e+00,   4.13799857e+00,   1.71230321e+01],\n",
       "       [  1.00000000e+00,   2.74993656e+00,   7.56215108e+00],\n",
       "       [  1.00000000e+00,   5.14749821e+00,   2.64967378e+01]])"
      ]
     },
     "execution_count": 13,
     "metadata": {},
     "output_type": "execute_result"
    }
   ],
   "source": [
    "def build_poly(x, degree):\n",
    "    \"\"\"polynomial basis functions for input data x, for j=0 up to j=degree.\"\"\"\n",
    "    # ***************************************************\n",
    "    # INSERT YOUR CODE HERE\n",
    "    # polynomial basis function: TODO\n",
    "    # this function should return the matrix formed\n",
    "    # by applying the polynomial basis to the input data\n",
    "    # ***************************************************\n",
    "    \n",
    "    #create the matrix tx\n",
    "    tx = np.ones((x.shape[0], degree+1))\n",
    "    for i in range(x.shape[0]):\n",
    "        for j in range(degree+1):\n",
    "            tx[i, j] = np.power(x[i],j)\n",
    "    return tx\n",
    "build_poly(x, 2)"
   ]
  },
  {
   "cell_type": "markdown",
   "metadata": {},
   "source": [
    "Let us play with polynomial regression. Note that we will use your implemented function `compute_mse`. Please copy and paste your implementation from exercise02."
   ]
  },
  {
   "cell_type": "code",
   "execution_count": 14,
   "metadata": {
    "collapsed": false
   },
   "outputs": [
    {
     "name": "stdout",
     "output_type": "stream",
     "text": [
      "[ 0.83431835 -0.28976617]\n",
      "Processing 1th experiment, degree=1, rmse=0.47187607963421874\n",
      "[-0.11521169  1.58466469 -0.76372992  0.08215316]\n",
      "Processing 2th experiment, degree=3, rmse=0.25858277667737484\n",
      "[  3.22356454e-01  -4.05990122e-01   1.64303559e+00  -1.12131787e+00\n",
      "   2.72479658e-01  -2.25108714e-02  -7.79999667e-04   1.53902684e-04]\n",
      "Processing 3th experiment, degree=7, rmse=0.24965870360908043\n",
      "[  3.44685975e+00  -8.34121037e+00   3.56655521e+01  -7.08831787e+01\n",
      "   7.82828522e+01  -5.24044342e+01   2.20980377e+01  -5.92279053e+00\n",
      "   9.81033087e-01  -9.02360678e-02   2.79570371e-03   1.90873863e-04\n",
      "  -1.35843256e-05]\n",
      "Processing 4th experiment, degree=12, rmse=1.3227122799150786\n"
     ]
    },
    {
     "data": {
      "image/png": "[encoded data removed]",
      "text/plain": [
       "<matplotlib.figure.Figure at 0x10c441c50>"
      ]
     },
     "metadata": {},
     "output_type": "display_data"
    }
   ],
   "source": [
    "from plots import *\n",
    "from grid_search import *\n",
    "\n",
    "def polynomial_regression():\n",
    "    \"\"\"Constructing the polynomial basis function expansion of the data,\n",
    "       and then running least squares regression.\"\"\"\n",
    "    # define parameters\n",
    "    degrees = [1, 3, 7, 12]\n",
    "    \n",
    "    # define the structure of figure\n",
    "    num_row = 2\n",
    "    num_col = 2\n",
    "    f, axs = plt.subplots(num_row, num_col)\n",
    "\n",
    "    for ind, degree in enumerate(degrees):\n",
    "        # ***************************************************\n",
    "        # INSERT YOUR CODE HERE\n",
    "        # form the data to do polynomial regression.: TODO\n",
    "        # ***************************************************\n",
    "        \n",
    "        tx = build_poly(x, degree)\n",
    "        \n",
    "        # ***************************************************\n",
    "        # INSERT YOUR CODE HERE\n",
    "        # least square and calculate rmse: TODO\n",
    "        # ***************************************************\n",
    "        \n",
    "        xx = np.dot(np.matrix.transpose(tx), tx)\n",
    "        xy = np.dot(np.matrix.transpose(tx), y)\n",
    "        \n",
    "        weight = np.dot(np.linalg.inv(xx), xy)\n",
    "        \n",
    "        print(weight)\n",
    "        mse = compute_cost(y, tx, weight)\n",
    "        rmse = np.sqrt(2*mse)\n",
    "        \n",
    "\n",
    "        print(\"Processing {i}th experiment, degree={d}, rmse={loss}\".format(\n",
    "              i=ind + 1, d=degree, loss=rmse))\n",
    "        # plot fit\n",
    "        plot_fitted_curve(\n",
    "            y, x, weight, degree, axs[ind // num_col][ind % num_col])\n",
    "    plt.tight_layout()\n",
    "    plt.savefig(\"visualize_polynomial_regression\")\n",
    "    plt.show()\n",
    "\n",
    "\n",
    "polynomial_regression()"
   ]
  },
  {
   "cell_type": "markdown",
   "metadata": {},
   "source": [
    "# Evaluating model predication performance\n",
    "\n",
    "Let us show the train and test splits for various polynomial degrees. First of all, please fill in the function `split_data()`"
   ]
  },
  {
   "cell_type": "code",
   "execution_count": 15,
   "metadata": {
    "collapsed": false
   },
   "outputs": [
    {
     "data": {
      "text/plain": [
       "(array([ 5.77843549,  3.00231147,  2.6237491 ,  5.02131076,  1.86662437,\n",
       "         3.50706129,  2.74993656,  1.2356871 ,  5.90462294,  1.99281183,\n",
       "         1.48806201,  5.52606058,  0.98331219,  0.22618746,  2.87612401,\n",
       "         3.12849893,  5.14749821,  4.01181111,  1.10949964,  2.49756165,\n",
       "         4.76893584,  6.0308104 ,  3.25468638,  2.11899928,  0.1       ,\n",
       "         3.38087384,  4.64274839,  1.61424946,  2.24518674,  0.60474982,\n",
       "         4.26418602,  3.7594362 ,  4.39037348,  0.47856237,  4.51656093,\n",
       "         1.36187455,  3.88562366,  5.65224803,  4.13799857,  4.8951233 ]),\n",
       " array([-0.56851939, -0.15050841,  0.66750938, -1.30763072,  1.28930361,\n",
       "        -0.26815701,  0.12187968,  0.99490902, -0.76646743,  0.72778149,\n",
       "         0.77328884, -0.82651893,  0.95121182,  0.25252451, -0.37259529,\n",
       "         0.07691219, -1.04670162, -0.55991146,  0.60599855,  0.03761024,\n",
       "        -0.57230535, -0.30857575,  0.03052242,  0.77707185,  0.35915261,\n",
       "        -0.20680703, -0.74601164,  0.83336405,  0.70013884,  0.43714457,\n",
       "        -1.29168955, -1.06662741, -1.33397556,  0.72255486, -0.73722292,\n",
       "         0.38864745, -0.48422633, -1.0581417 , -0.8351273 , -1.28027608]),\n",
       " array([ 6.15699785,  0.35237491,  5.39987312,  0.73093728,  3.63324875,\n",
       "         2.37137419,  6.28318531,  0.85712473,  1.74043692,  5.27368567]),\n",
       " array([ -1.41108000e-04,   8.95549970e-02,  -4.37345163e-01,\n",
       "          5.38669461e-01,  -3.01041920e-01,   1.94693837e-01,\n",
       "          2.22695473e-01,   4.25144932e-01,   7.39727694e-01,\n",
       "         -9.56348655e-01]))"
      ]
     },
     "execution_count": 15,
     "metadata": {},
     "output_type": "execute_result"
    }
   ],
   "source": [
    "def split_data(x, y, ratio, seed=1):\n",
    "    \"\"\"split the dataset based on the split ratio.\"\"\"\n",
    "    # set seed\n",
    "    np.random.seed(seed)\n",
    "    # ***************************************************\n",
    "    # INSERT YOUR CODE HERE\n",
    "    # split the data based on the given ratio: TODO\n",
    "    # ***************************************************\n",
    "    \n",
    "    index = np.arange(x.shape[0])\n",
    "    shuffled_index = np.random.permutation(index)\n",
    "    \n",
    "    n_train = np.int(x.shape[0] * ratio)\n",
    "    n_test = x.shape[0] - n_train\n",
    "    \n",
    "    shuffled_index_train = shuffled_index[: n_train]\n",
    "    shuffled_index_test = shuffled_index[n_train : x.shape[0]]\n",
    "    \n",
    "    x_train = x[shuffled_index_train]\n",
    "    y_train = y[shuffled_index_train]\n",
    "    x_test = x[shuffled_index_test]\n",
    "    y_test = y[shuffled_index_test]\n",
    "    \n",
    "    return x_train, y_train, x_test, y_test\n",
    "\n",
    "split_data(x, y, 0.8)"
   ]
  },
  {
   "cell_type": "markdown",
   "metadata": {},
   "source": [
    "Then, test your `split_data` function below."
   ]
  },
  {
   "cell_type": "code",
   "execution_count": 19,
   "metadata": {
    "collapsed": false
   },
   "outputs": [
    {
     "name": "stdout",
     "output_type": "stream",
     "text": [
      "proportion=0.9, degree=1, Training RMSE=0.494, Testing RMSE=0.181\n",
      "proportion=0.9, degree=3, Training RMSE=0.264, Testing RMSE=0.206\n",
      "proportion=0.9, degree=7, Training RMSE=0.254, Testing RMSE=0.220\n",
      "proportion=0.9, degree=12, Training RMSE=1.442, Testing RMSE=1.483\n",
      "proportion=0.5, degree=1, Training RMSE=0.455, Testing RMSE=0.531\n",
      "proportion=0.5, degree=3, Training RMSE=0.239, Testing RMSE=0.296\n",
      "proportion=0.5, degree=7, Training RMSE=0.232, Testing RMSE=0.284\n",
      "proportion=0.5, degree=12, Training RMSE=1.210, Testing RMSE=1.708\n",
      "proportion=0.1, degree=1, Training RMSE=0.428, Testing RMSE=0.534\n",
      "proportion=0.1, degree=3, Training RMSE=0.085, Testing RMSE=0.460\n",
      "proportion=0.1, degree=7, Training RMSE=3.635, Testing RMSE=3.485\n",
      "proportion=0.1, degree=12, Training RMSE=9.286, Testing RMSE=23.782\n"
     ]
    }
   ],
   "source": [
    "def train_test_split_demo(x, y, degree, ratio, seed):\n",
    "    \"\"\"polynomial regression with different split ratios and different degrees.\"\"\"\n",
    "    # ***************************************************\n",
    "    # INSERT YOUR CODE HERE\n",
    "    # split the data, and return train and test data: TODO\n",
    "    # ***************************************************\n",
    "    x_train, y_train, x_test, y_test = split_data(x, y, ratio, seed)\n",
    "    # ***************************************************\n",
    "    # INSERT YOUR CODE HERE\n",
    "    # form train and test data with polynomial basis function: TODO\n",
    "    # ***************************************************\n",
    "    poly_train = build_poly(x_train, degree)\n",
    "    poly_test = build_poly(x_test, degree)\n",
    "    # ***************************************************\n",
    "    # INSERT YOUR CODE HERE\n",
    "    # calcualte weight through least square.: TODO\n",
    "    # ***************************************************\n",
    "    loss_train, w_train = least_squares(y_train, poly_train)\n",
    "    loss_test = compute_cost(y_test, poly_test, w_train)\n",
    "    # ***************************************************\n",
    "    # INSERT YOUR CODE HERE\n",
    "    # calculate RMSE for train and test data,\n",
    "    # and store them in rmse_tr and rmse_te respectively: TODO\n",
    "    # ***************************************************\n",
    "    rmse_tr = np.sqrt(2*loss_train)\n",
    "    rmse_te = np.sqrt(2*loss_test)\n",
    "    \n",
    "    print(\"proportion={p}, degree={d}, Training RMSE={tr:.3f}, Testing RMSE={te:.3f}\".format(\n",
    "          p=ratio, d=degree, tr=rmse_tr, te=rmse_te))\n",
    "\n",
    "seed = 6\n",
    "degrees = [1, 3, 7, 12]\n",
    "split_ratios = [0.9, 0.5, 0.1]\n",
    "\n",
    "for split_ratio in split_ratios:\n",
    "    for degree in degrees:\n",
    "        train_test_split_demo(x, y, degree, split_ratio, seed)"
   ]
  },
  {
   "cell_type": "markdown",
   "metadata": {},
   "source": [
    "# Ridge Regression\n",
    "Please fill in the function below."
   ]
  },
  {
   "cell_type": "code",
   "execution_count": 24,
   "metadata": {
    "collapsed": false
   },
   "outputs": [],
   "source": [
    "def ridge_regression(y, tx, lamb):\n",
    "    \"\"\"implement ridge regression.\"\"\"\n",
    "    # ***************************************************\n",
    "    # INSERT YOUR CODE HERE\n",
    "    # ridge regression: TODO\n",
    "    # ***************************************************\n",
    "    \n",
    "    # Compute optimal weights\n",
    "    xx = np.dot(np.transpose(tx),tx)\n",
    "\n",
    "    bxx = xx + lamb*np.identity(len(xx))\n",
    "\n",
    "    try:\n",
    "        inv = np.linalg.inv(bxx)\n",
    "    except:\n",
    "        raise ValueError(\"Matrix X^TX not invertible\") \n",
    "\n",
    "    xy = np.dot(np.transpose(tx),y)\n",
    "    w_star = np.dot(inv, xy)\n",
    "   \n",
    "    return w_star"
   ]
  },
  {
   "cell_type": "code",
   "execution_count": 25,
   "metadata": {
    "collapsed": false
   },
   "outputs": [
    {
     "ename": "NameError",
     "evalue": "name 'tx_train' is not defined",
     "output_type": "error",
     "traceback": [
      "\u001b[0;31m---------------------------------------------------------------------------\u001b[0m",
      "\u001b[0;31mNameError\u001b[0m                                 Traceback (most recent call last)",
      "\u001b[0;32m<ipython-input-25-f65a7ae3bc11>\u001b[0m in \u001b[0;36m<module>\u001b[0;34m()\u001b[0m\n\u001b[1;32m     53\u001b[0m \u001b[0mdegree\u001b[0m \u001b[0;34m=\u001b[0m \u001b[0;36m7\u001b[0m\u001b[0;34m\u001b[0m\u001b[0m\n\u001b[1;32m     54\u001b[0m \u001b[0msplit_ratio\u001b[0m \u001b[0;34m=\u001b[0m \u001b[0;36m0.5\u001b[0m\u001b[0;34m\u001b[0m\u001b[0m\n\u001b[0;32m---> 55\u001b[0;31m \u001b[0mridge_regression_demo\u001b[0m\u001b[0;34m(\u001b[0m\u001b[0mx\u001b[0m\u001b[0;34m,\u001b[0m \u001b[0my\u001b[0m\u001b[0;34m,\u001b[0m \u001b[0mdegree\u001b[0m\u001b[0;34m,\u001b[0m \u001b[0msplit_ratio\u001b[0m\u001b[0;34m,\u001b[0m \u001b[0mseed\u001b[0m\u001b[0;34m)\u001b[0m\u001b[0;34m\u001b[0m\u001b[0m\n\u001b[0m",
      "\u001b[0;32m<ipython-input-25-f65a7ae3bc11>\u001b[0m in \u001b[0;36mridge_regression_demo\u001b[0;34m(x, y, degree, ratio, seed)\u001b[0m\n\u001b[1;32m     37\u001b[0m \u001b[0;34m\u001b[0m\u001b[0m\n\u001b[1;32m     38\u001b[0m     \u001b[0;32mfor\u001b[0m \u001b[0mi\u001b[0m \u001b[0;32min\u001b[0m \u001b[0mrange\u001b[0m\u001b[0;34m(\u001b[0m\u001b[0mlen\u001b[0m\u001b[0;34m(\u001b[0m\u001b[0mlambdas\u001b[0m\u001b[0;34m)\u001b[0m\u001b[0;34m)\u001b[0m\u001b[0;34m:\u001b[0m\u001b[0;34m\u001b[0m\u001b[0m\n\u001b[0;32m---> 39\u001b[0;31m         \u001b[0mw_star\u001b[0m \u001b[0;34m=\u001b[0m \u001b[0mridge_regression\u001b[0m\u001b[0;34m(\u001b[0m\u001b[0my_train\u001b[0m\u001b[0;34m,\u001b[0m \u001b[0mtx_train\u001b[0m\u001b[0;34m,\u001b[0m \u001b[0mlambdas\u001b[0m\u001b[0;34m[\u001b[0m\u001b[0mi\u001b[0m\u001b[0;34m]\u001b[0m\u001b[0;34m)\u001b[0m\u001b[0;34m\u001b[0m\u001b[0m\n\u001b[0m\u001b[1;32m     40\u001b[0m \u001b[0;34m\u001b[0m\u001b[0m\n\u001b[1;32m     41\u001b[0m         \u001b[0mrmse_tr\u001b[0m\u001b[0;34m.\u001b[0m\u001b[0mappend\u001b[0m\u001b[0;34m(\u001b[0m\u001b[0mRMSE\u001b[0m\u001b[0;34m(\u001b[0m\u001b[0my_train\u001b[0m\u001b[0;34m,\u001b[0m \u001b[0mtx_train\u001b[0m\u001b[0;34m,\u001b[0m \u001b[0mw_star\u001b[0m\u001b[0;34m)\u001b[0m\u001b[0;34m)\u001b[0m\u001b[0;34m\u001b[0m\u001b[0m\n",
      "\u001b[0;31mNameError\u001b[0m: name 'tx_train' is not defined"
     ]
    }
   ],
   "source": [
    "def RMSE(y, tx, w):\n",
    "    # Compute MSE\n",
    "    e = y - np.dot(tx, w)\n",
    "    N = len(y)\n",
    "\n",
    "    L = 1/(2*N)*np.dot(np.transpose(e),e)\n",
    "\n",
    "    return np.sqrt(2*L)\n",
    "    \n",
    "\n",
    "def ridge_regression_demo(x, y, degree, ratio, seed):\n",
    "    \"\"\"ridge regression demo.\"\"\"\n",
    "    # define parameter\n",
    "    lambdas = np.logspace(-3, 1, 10)    \n",
    "    # ***************************************************\n",
    "    # INSERT YOUR CODE HERE\n",
    "    # split the data, and return train and test data: TODO\n",
    "    # ***************************************************\n",
    "\n",
    "    x_train, y_train, x_test, y_test = split_data(x, y, ratio, seed)\n",
    "    \n",
    "    # ***************************************************\n",
    "    # INSERT YOUR CODE HERE\n",
    "    # form train and test data with polynomial basis function: TODO\n",
    "    # ***************************************************\n",
    "\n",
    "    tx_train = build_poly(x_train, degree)\n",
    "    poly_test = build_poly(x_test, degree)\n",
    "    \n",
    "    # ***************************************************\n",
    "    # INSERT YOUR CODE HERE\n",
    "    # ridge regression with different lambda: TODO\n",
    "    # ***************************************************\n",
    "    \n",
    "    rmse_tr = []\n",
    "    rmse_te = []\n",
    "\n",
    "    for i in range(len(lambdas)):\n",
    "        w_star = ridge_regression(y_train, tx_train, lambdas[i])\n",
    "\n",
    "        rmse_tr.append(RMSE(y_train, tx_train, w_star))\n",
    "        rmse_te.append(RMSE(y_test, tx_test, w_star))\n",
    "\n",
    "    plt.figure()\n",
    "    plt.semilogx(lambdas, rmse_tr, 'b*-')\n",
    "    plt.semilogx(lambdas, rmse_te, 'r*-')\n",
    "    plt.xlabel('lambda')\n",
    "    plt.ylabel('RMSE')\n",
    "    plt.legend(['Train error', 'Test error'], loc=2)\n",
    "    plt.title('Ridge regression for polynomial degree 7')\n",
    "\n",
    "seed = 6\n",
    "degree = 7\n",
    "split_ratio = 0.5\n",
    "ridge_regression_demo(x, y, degree, split_ratio, seed)"
   ]
  },
  {
   "cell_type": "code",
   "execution_count": null,
   "metadata": {
    "collapsed": true
   },
   "outputs": [],
   "source": []
  }
 ],
 "metadata": {
  "anaconda-cloud": {},
  "kernelspec": {
   "display_name": "Python [Root]",
   "language": "python",
   "name": "Python [Root]"
  },
  "language_info": {
   "codemirror_mode": {
    "name": "ipython",
    "version": 3
   },
   "file_extension": ".py",
   "mimetype": "text/x-python",
   "name": "python",
   "nbconvert_exporter": "python",
   "pygments_lexer": "ipython3",
   "version": "3.5.2"
  }
 },
 "nbformat": 4,
 "nbformat_minor": 0
}
