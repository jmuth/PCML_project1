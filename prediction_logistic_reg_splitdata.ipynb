{
 "cells": [
  {
   "cell_type": "markdown",
   "metadata": {},
   "source": [
    "** Imports**"
   ]
  },
  {
   "cell_type": "code",
   "execution_count": 1,
   "metadata": {
    "collapsed": false
   },
   "outputs": [],
   "source": [
    "# Useful starting lines\n",
    "%matplotlib inline\n",
    "import numpy as np\n",
    "import matplotlib.pyplot as plt\n",
    "%load_ext autoreload\n",
    "%autoreload 2\n",
    "import math"
   ]
  },
  {
   "cell_type": "code",
   "execution_count": 24,
   "metadata": {
    "collapsed": false
   },
   "outputs": [],
   "source": [
    "from costs import *\n",
    "from models import *\n",
    "from helpers import * \n",
    "from evaluation import *\n",
    "from split_data import *\n",
    "from split_features import *"
   ]
  },
  {
   "cell_type": "markdown",
   "metadata": {},
   "source": [
    "## Data loading\n",
    "** Load the training data into feature matrix, class labels, and record ids**\n",
    "\n",
    "We write our own `load_csv_data` function to import csv data, which gives us prediction column, feature matrix and each record ID."
   ]
  },
  {
   "cell_type": "code",
   "execution_count": 3,
   "metadata": {
    "collapsed": false
   },
   "outputs": [],
   "source": [
    "from proj1_helpers import *\n",
    "DATA_TRAIN_PATH = 'data/train.csv' # TODO: download train data and supply path here \n",
    "y, tx, ids = load_csv_data(DATA_TRAIN_PATH, sub_sample=False)"
   ]
  },
  {
   "cell_type": "markdown",
   "metadata": {},
   "source": [
    "### Split the dataset into trainset and testset in order to test accuracy"
   ]
  },
  {
   "cell_type": "code",
   "execution_count": 4,
   "metadata": {
    "collapsed": false
   },
   "outputs": [],
   "source": [
    "x_train, y_train, x_test, y_test = split_data(tx, y, 0.9)"
   ]
  },
  {
   "cell_type": "code",
   "execution_count": 5,
   "metadata": {
    "collapsed": false
   },
   "outputs": [
    {
     "data": {
      "text/plain": [
       "(225000, 30)"
      ]
     },
     "execution_count": 5,
     "metadata": {},
     "output_type": "execute_result"
    }
   ],
   "source": [
    "x_train.shape"
   ]
  },
  {
   "cell_type": "code",
   "execution_count": 6,
   "metadata": {
    "collapsed": true
   },
   "outputs": [],
   "source": [
    "tx = x_train\n",
    "y = y_train"
   ]
  },
  {
   "cell_type": "markdown",
   "metadata": {},
   "source": [
    "## Data Preprocessing"
   ]
  },
  {
   "cell_type": "markdown",
   "metadata": {},
   "source": [
    "### Split into 6 distinct datasets\n",
    "\n",
    "According to our exploration, we can distinct 3 different dataset based on number of jets each experiments contains. Then each of them can be split again into 2 different datasets based on whether they have a measurable mass or not."
   ]
  },
  {
   "cell_type": "code",
   "execution_count": 7,
   "metadata": {
    "collapsed": false
   },
   "outputs": [],
   "source": [
    "jet0, jet1, jet23, y0, y1, y23 = split_on_jets(y, tx)\n",
    "jet0_nomass, jet0, y0_nomass, y0 = split_on_mass(y0, jet0)\n",
    "jet1_nomass, jet1, y1_nomass, y1 = split_on_mass(y1, jet1)\n",
    "jet23_nomass, jet23, y23_nomass, y23 = split_on_mass(y23, jet23)"
   ]
  },
  {
   "cell_type": "markdown",
   "metadata": {},
   "source": [
    "### Only keep the features without NaN in each subset"
   ]
  },
  {
   "cell_type": "code",
   "execution_count": 8,
   "metadata": {
    "collapsed": false
   },
   "outputs": [],
   "source": [
    "jet0_nomass, selected_jet0_nomass = select_features_without_nan(jet0_nomass)\n",
    "jet0, selected_jet0 = select_features_without_nan(jet0)\n",
    "jet1_nomass, selected_jet1_nomass = select_features_without_nan(jet1_nomass)\n",
    "jet1, selected_jet1 = select_features_without_nan(jet1)\n",
    "jet23_nomass, selected_jet23_nomass = select_features_without_nan(jet23_nomass)\n",
    "jet23, selected_jet23 = select_features_without_nan(jet23)\n"
   ]
  },
  {
   "cell_type": "markdown",
   "metadata": {},
   "source": [
    "### TODO: remove more features ! some are flat, some are even unique !!"
   ]
  },
  {
   "cell_type": "code",
   "execution_count": 39,
   "metadata": {
    "collapsed": false
   },
   "outputs": [
    {
     "data": {
      "image/png": "[encoded data removed]",
      "text/plain": [
       "<matplotlib.figure.Figure at 0x131ed08d0>"
      ]
     },
     "metadata": {},
     "output_type": "display_data"
    }
   ],
   "source": [
    "boxplot_five_number(jet0_nomass)"
   ]
  },
  {
   "cell_type": "markdown",
   "metadata": {},
   "source": [
    "### Standardization of values\n",
    "We use [feature scaling](https://en.wikipedia.org/wiki/Feature_scaling) method to standardize our feature matrix, i.e. to rescale tx down to [0, 1], so as to avoid complicated computation caused by large numbers."
   ]
  },
  {
   "cell_type": "code",
   "execution_count": 9,
   "metadata": {
    "collapsed": false
   },
   "outputs": [],
   "source": [
    "tx = standardize(tx)\n",
    "std_jet0_nomass, min0_nomass, range0_nomass = standardize(jet0_nomass)\n",
    "std_jet0, min0, range0 = standardize(jet0)\n",
    "std_jet1_nomass, min1_nomass, range1_nomass = standardize(jet1_nomass)\n",
    "std_jet1, min1, range1 = standardize(jet1)\n",
    "std_jet23_nomass, min23_nomass, range23_nomass = standardize(jet23_nomass)\n",
    "std_jet23, min23, range23 = standardize(jet23)"
   ]
  },
  {
   "cell_type": "markdown",
   "metadata": {},
   "source": [
    "## Machine Learning"
   ]
  },
  {
   "cell_type": "markdown",
   "metadata": {},
   "source": [
    "### Logistic Regression"
   ]
  },
  {
   "cell_type": "markdown",
   "metadata": {},
   "source": [
    "Choose intial parameters"
   ]
  },
  {
   "cell_type": "code",
   "execution_count": 15,
   "metadata": {
    "collapsed": true
   },
   "outputs": [],
   "source": [
    "n_iters = 10000\n",
    "gamma = 0.000003"
   ]
  },
  {
   "cell_type": "markdown",
   "metadata": {},
   "source": [
    "Train with logistic regression"
   ]
  },
  {
   "cell_type": "code",
   "execution_count": 16,
   "metadata": {
    "collapsed": false
   },
   "outputs": [
    {
     "name": "stdout",
     "output_type": "stream",
     "text": [
      "w0_nomass\n",
      "Current iteration=0, the loss=16320.150366283911, gradient=0.07172256268592511\n",
      "Current iteration=500, the loss=16321.472419235455, gradient=0.07156450444979548\n",
      "Current iteration=1000, the loss=16322.79163101393, gradient=0.0714068007823273\n",
      "Current iteration=1500, the loss=16324.10800749434, gradient=0.07124945090170577\n",
      "Current iteration=2000, the loss=16325.421554540579, gradient=0.07109245402786779\n",
      "Current iteration=2500, the loss=16326.732278005476, gradient=0.07093580938249835\n",
      "Current iteration=3000, the loss=16328.040183730782, gradient=0.07077951618902632\n",
      "Current iteration=3500, the loss=16329.345277547192, gradient=0.0706235736726209\n",
      "Current iteration=4000, the loss=16330.647565274374, gradient=0.07046798106018756\n",
      "Current iteration=4500, the loss=16331.94705272098, gradient=0.07031273758036433\n",
      "Current iteration=5000, the loss=16333.243745684658, gradient=0.07015784246351797\n",
      "Current iteration=5500, the loss=16334.537649952066, gradient=0.07000329494173996\n",
      "Current iteration=6000, the loss=16335.828771298893, gradient=0.06984909424884299\n",
      "Current iteration=6500, the loss=16337.11711548987, gradient=0.06969523962035688\n",
      "Current iteration=7000, the loss=16338.402688278793, gradient=0.06954173029352487\n",
      "Current iteration=7500, the loss=16339.685495408534, gradient=0.06938856550729994\n",
      "Current iteration=8000, the loss=16340.96554261106, gradient=0.06923574450234095\n",
      "Current iteration=8500, the loss=16342.242835607447, gradient=0.06908326652100877\n",
      "Current iteration=9000, the loss=16343.517380107893, gradient=0.06893113080736268\n",
      "Current iteration=9500, the loss=16344.789181811737, gradient=0.06877933660715652\n",
      "Final loss=16346.055711006153\n",
      "w0\n",
      "Current iteration=0, the loss=46031.21111380541, gradient=0.42243943012781965\n",
      "Current iteration=500, the loss=46040.56115700013, gradient=0.4213471414768498\n",
      "Current iteration=1000, the loss=46049.89810246041, gradient=0.4202577042493188\n",
      "Current iteration=1500, the loss=46059.22192491174, gradient=0.4191711110683676\n",
      "Current iteration=2000, the loss=46068.53259944887, gradient=0.41808735457638135\n",
      "Current iteration=2500, the loss=46077.830101533225, gradient=0.41700642743494004\n",
      "Current iteration=3000, the loss=46087.11440699057, gradient=0.4159283223247689\n",
      "Current iteration=3500, the loss=46096.38549200859, gradient=0.41485303194568807\n",
      "Current iteration=4000, the loss=46105.64333313434, gradient=0.41378054901656436\n",
      "Current iteration=4500, the loss=46114.887907271994, gradient=0.41271086627525966\n",
      "Current iteration=5000, the loss=46124.119191680395, gradient=0.4116439764785852\n",
      "Current iteration=5500, the loss=46133.33716397063, gradient=0.4105798724022486\n",
      "Current iteration=6000, the loss=46142.54180210378, gradient=0.409518546840809\n",
      "Current iteration=6500, the loss=46151.73308438844, gradient=0.40845999260762383\n",
      "Current iteration=7000, the loss=46160.910989478485, gradient=0.4074042025348037\n",
      "Current iteration=7500, the loss=46170.07549637068, gradient=0.4063511694731625\n",
      "Current iteration=8000, the loss=46179.226584402364, gradient=0.40530088629216876\n",
      "Current iteration=8500, the loss=46188.3642332492, gradient=0.40425334587989764\n",
      "Current iteration=9000, the loss=46197.48842292286, gradient=0.4032085411429824\n",
      "Current iteration=9500, the loss=46206.59913376871, gradient=0.4021664650065678\n",
      "Final loss=46215.678165522026\n",
      "w1_nomass\n",
      "Current iteration=0, the loss=4721.718593974347, gradient=0.1335938358288998\n",
      "Current iteration=500, the loss=4722.506755208606, gradient=0.13317653375188113\n",
      "Current iteration=1000, the loss=4723.292572113913, gradient=0.13276055599733452\n",
      "Current iteration=1500, the loss=4724.07605118242, gradient=0.1323458984265123\n",
      "Current iteration=2000, the loss=4724.857198891425, gradient=0.13193255691378802\n",
      "Current iteration=2500, the loss=4725.636021703382, gradient=0.13152052734661632\n",
      "Current iteration=3000, the loss=4726.412526065913, gradient=0.13110980562549124\n",
      "Current iteration=3500, the loss=4727.186718411827, gradient=0.13070038766390552\n",
      "Current iteration=4000, the loss=4727.9586051591195, gradient=0.1302922693883102\n",
      "Current iteration=4500, the loss=4728.728192710998, gradient=0.12988544673807392\n",
      "Current iteration=5000, the loss=4729.495487455889, gradient=0.1294799156654416\n",
      "Current iteration=5500, the loss=4730.260495767447, gradient=0.1290756721354955\n",
      "Current iteration=6000, the loss=4731.023224004574, gradient=0.12867271212611409\n",
      "Current iteration=6500, the loss=4731.783678511433, gradient=0.12827103162793219\n",
      "Current iteration=7000, the loss=4732.541865617453, gradient=0.12787062664430118\n",
      "Current iteration=7500, the loss=4733.297791637351, gradient=0.12747149319124898\n",
      "Current iteration=8000, the loss=4734.051462871142, gradient=0.1270736272974403\n",
      "Current iteration=8500, the loss=4734.802885604154, gradient=0.1266770250041372\n",
      "Current iteration=9000, the loss=4735.55206610704, gradient=0.12628168236515974\n",
      "Current iteration=9500, the loss=4736.299010635796, gradient=0.1258875954468461\n",
      "Final loss=4737.042238223309\n",
      "w1\n",
      "Current iteration=0, the loss=43632.22872188743, gradient=0.6148890348711071\n",
      "Current iteration=500, the loss=43641.29982281323, gradient=0.6126259839001562\n",
      "Current iteration=1000, the loss=43650.36951868014, gradient=0.6103713143801993\n",
      "Current iteration=1500, the loss=43659.437574419615, gradient=0.6081249954443158\n",
      "Current iteration=2000, the loss=43668.503757566505, gradient=0.6058869963398301\n",
      "Current iteration=2500, the loss=43677.56783823756, gradient=0.6036572864278907\n",
      "Current iteration=3000, the loss=43686.6295891101, gradient=0.6014358351830517\n",
      "Current iteration=3500, the loss=43695.68878540091, gradient=0.5992226121928524\n",
      "Current iteration=4000, the loss=43704.7452048452, gradient=0.5970175871574035\n",
      "Current iteration=4500, the loss=43713.79862767574, gradient=0.5948207298889706\n",
      "Current iteration=5000, the loss=43722.848836602105, gradient=0.5926320103115619\n",
      "Current iteration=5500, the loss=43731.895616790134, gradient=0.5904513984605144\n",
      "Current iteration=6000, the loss=43740.93875584149, gradient=0.5882788644820867\n",
      "Current iteration=6500, the loss=43749.978043773364, gradient=0.5861143786330476\n",
      "Current iteration=7000, the loss=43759.0132729983, gradient=0.5839579112802696\n",
      "Current iteration=7500, the loss=43768.04423830419, gradient=0.5818094329003239\n",
      "Current iteration=8000, the loss=43777.07073683448, gradient=0.5796689140790756\n",
      "Current iteration=8500, the loss=43786.092568068314, gradient=0.5775363255112809\n",
      "Current iteration=9000, the loss=43795.10953380107, gradient=0.5754116380001846\n",
      "Current iteration=9500, the loss=43804.12143812481, gradient=0.5732948224571228\n",
      "Final loss=43813.11007948258\n",
      "w23_nomass\n",
      "Current iteration=0, the loss=2763.577808892502, gradient=0.23957116365259692\n",
      "Current iteration=500, the loss=2764.4961793906914, gradient=0.23842898318719416\n",
      "Current iteration=1000, the loss=2765.410322890264, gradient=0.2372926876762374\n",
      "Current iteration=1500, the loss=2766.320256410268, gradient=0.23616224868038457\n",
      "Current iteration=2000, the loss=2767.225996924813, gradient=0.23503763790355575\n",
      "Current iteration=2500, the loss=2768.1275613629045, gradient=0.23391882719220786\n",
      "Current iteration=3000, the loss=2769.0249666082855, gradient=0.23280578853461456\n",
      "Current iteration=3500, the loss=2769.91822949927, gradient=0.23169849406014695\n",
      "Current iteration=4000, the loss=2770.807366828599, gradient=0.23059691603856014\n",
      "Current iteration=4500, the loss=2771.6923953432843, gradient=0.22950102687928034\n",
      "Current iteration=5000, the loss=2772.57333174447, gradient=0.22841079913069778\n",
      "Current iteration=5500, the loss=2773.4501926872904, gradient=0.22732620547946122\n",
      "Current iteration=6000, the loss=2774.3229947807317, gradient=0.2262472187497757\n",
      "Current iteration=6500, the loss=2775.191754587505, gradient=0.2251738119027047\n",
      "Current iteration=7000, the loss=2776.056488623916, gradient=0.22410595803547384\n",
      "Current iteration=7500, the loss=2776.917213359741, gradient=0.22304363038077887\n",
      "Current iteration=8000, the loss=2777.7739452181117, gradient=0.22198680230609671\n",
      "Current iteration=8500, the loss=2778.6267005753953, gradient=0.22093544731299822\n",
      "Current iteration=9000, the loss=2779.475495761088, gradient=0.21988953903646644\n",
      "Current iteration=9500, the loss=2780.3203470577023, gradient=0.2188490512442157\n",
      "Final loss=2781.1595927624144\n",
      "w23\n",
      "Current iteration=0, the loss=42489.229021144085, gradient=0.9183366948734534\n",
      "Current iteration=500, the loss=42491.82609656081, gradient=0.9132851451019144\n",
      "Current iteration=1000, the loss=42494.51048015765, gradient=0.90826182616532\n",
      "Current iteration=1500, the loss=42497.28052229401, gradient=0.9032665824561642\n",
      "Current iteration=2000, the loss=42500.1345950181, gradient=0.8982992592345864\n",
      "Current iteration=2500, the loss=42503.07109182243, gradient=0.8933597026235719\n",
      "Current iteration=3000, the loss=42506.08842740152, gradient=0.8884477596041817\n",
      "Current iteration=3500, the loss=42509.185037411946, gradient=0.883563278010805\n",
      "Current iteration=4000, the loss=42512.35937823466, gradient=0.8787061065264437\n",
      "Current iteration=4500, the loss=42515.609926739635, gradient=0.8738760946780162\n",
      "Current iteration=5000, the loss=42518.9351800527, gradient=0.8690730928316917\n",
      "Current iteration=5500, the loss=42522.333655324685, gradient=0.8642969521882506\n",
      "Current iteration=6000, the loss=42525.80388950272, gradient=0.8595475247784676\n",
      "Current iteration=6500, the loss=42529.3444391039, gradient=0.8548246634585224\n",
      "Current iteration=7000, the loss=42532.95387999095, gradient=0.8501282219054351\n",
      "Current iteration=7500, the loss=42536.63080715028, gradient=0.8454580546125293\n",
      "Current iteration=8000, the loss=42540.3738344721, gradient=0.8408140168849144\n",
      "Current iteration=8500, the loss=42544.1815945327, gradient=0.836195964834999\n",
      "Current iteration=9000, the loss=42548.05273837902, gradient=0.8316037553780284\n",
      "Current iteration=9500, the loss=42551.98593531507, gradient=0.8270372462276424\n",
      "Final loss=42555.971825060675\n"
     ]
    }
   ],
   "source": [
    "print(\"w0_nomass\")\n",
    "loss0_nomass, w0_nomass = logistic_regression(y0_nomass, std_jet0_nomass, gamma, n_iters)\n",
    "print(\"w0\")\n",
    "loss0, w0 = logistic_regression(y0, std_jet0, gamma, n_iters)\n",
    "\n",
    "print(\"w1_nomass\")\n",
    "loss1_nomass, w1_nomass = logistic_regression(y1_nomass, std_jet1_nomass, gamma, n_iters)\n",
    "print(\"w1\")\n",
    "loss1_nomass, w1 = logistic_regression(y1, std_jet1, gamma, n_iters)\n",
    "\n",
    "print(\"w23_nomass\")\n",
    "loss23_nomass, w23_nomass = logistic_regression(y23_nomass, std_jet23_nomass, gamma, n_iters)\n",
    "print(\"w23\")\n",
    "loss23, w23 = logistic_regression(y23, std_jet23, gamma, n_iters)\n"
   ]
  },
  {
   "cell_type": "markdown",
   "metadata": {},
   "source": [
    "## Accuracy testing against virtual test_set"
   ]
  },
  {
   "cell_type": "code",
   "execution_count": 35,
   "metadata": {
    "collapsed": false
   },
   "outputs": [],
   "source": [
    "testset = x_test\n",
    "\n",
    "y_pred = apply_right_model(testset, \\\n",
    "                  selected_jet0_nomass, selected_jet0, selected_jet1_nomass, selected_jet1, \\\n",
    "                  selected_jet23_nomass, selected_jet23, \\\n",
    "                  min0_nomass, min0, min1_nomass, min1, min23_nomass, min23, \\\n",
    "                  range0_nomass, range0, range1_nomass, range1, range23_nomass, range23, \\\n",
    "                  w0_nomass, w0, w1_nomass, w1, w23_nomass, w23)\n"
   ]
  },
  {
   "cell_type": "code",
   "execution_count": 36,
   "metadata": {
    "collapsed": false
   },
   "outputs": [
    {
     "data": {
      "text/plain": [
       "0.79532"
      ]
     },
     "execution_count": 36,
     "metadata": {},
     "output_type": "execute_result"
    }
   ],
   "source": [
    "test_accuracy(y_test, y_pred)"
   ]
  },
  {
   "cell_type": "markdown",
   "metadata": {},
   "source": [
    "## Output prediction to Kaggle"
   ]
  },
  {
   "cell_type": "code",
   "execution_count": null,
   "metadata": {
    "collapsed": true
   },
   "outputs": [],
   "source": [
    "test_x = np.genfromtxt('data/test.csv', delimiter=',', skip_header=1)"
   ]
  },
  {
   "cell_type": "code",
   "execution_count": null,
   "metadata": {
    "collapsed": false
   },
   "outputs": [],
   "source": [
    "ids = test_x[:, 0]\n",
    "testset = test_x[:, 2:] # remove id and prediction columns\n",
    "\n",
    "y = []\n",
    "\n",
    "for x_t in testset:\n",
    "    x = np.array([x_t])\n",
    "    if isJet0_nomass(x):\n",
    "        pred = x[:,selected_jet0_nomass]\n",
    "        pred, _ , _ = standardize(pred, min0_nomass, range0_nomass)\n",
    "        y.append(log_reg_predict(pred, w0_nomass))\n",
    "    elif isJet0(x):\n",
    "        pred = x[:, selected_jet0]\n",
    "        pred, _ , _  = standardize(pred, min0, range0)\n",
    "        y.append(log_reg_predict(pred, w0))\n",
    "    elif isJet1_nomass(x):\n",
    "        pred = x[:, selected_jet1_nomass]\n",
    "        pred, _ , _  = standardize(pred,min1_nomass, range1_nomass)\n",
    "        y.append(log_reg_predict(pred, w1_nomass))\n",
    "    elif isJet1(x):\n",
    "        pred = x[:, selected_jet1]\n",
    "        pred, _ , _  = standardize(pred, min1, range1)\n",
    "        y.append(log_reg_predict(pred, w1))\n",
    "    elif isJet23_nomass(x):\n",
    "        pred= x[:, selected_jet23_nomass]\n",
    "        pred, _ , _  = standardize(pred, min23_nomass, range23_nomass)\n",
    "        y.append(log_reg_predict(pred, w23_nomass))\n",
    "    else:\n",
    "        pred= x[:, selected_jet23]\n",
    "        pred, _ , _  = standardize(pred, min23, range23)\n",
    "        y.append(log_reg_predict(pred, w23))\n"
   ]
  },
  {
   "cell_type": "code",
   "execution_count": null,
   "metadata": {
    "collapsed": false,
    "scrolled": true
   },
   "outputs": [],
   "source": [
    "create_csv_submission(ids, y, 'data/split_data.csv')"
   ]
  },
  {
   "cell_type": "code",
   "execution_count": null,
   "metadata": {
    "collapsed": false
   },
   "outputs": [],
   "source": [
    "ids = test_x[:, 0]\n",
    "testset = test_x[:, 2:] # remove id and prediction columns\n",
    "\n",
    "jet0_nm_ids = np.where((testset[:,22] == 0) & (testset[:,0] == -999.))[0]\n",
    "jet0_ids = np.where((testset[:,22] == 0) & (testset[:,0] != -999.))[0]\n",
    "jet1_nm_ids = np.where((testset[:,22] == 1) & (testset[:,0] == -999.))[0]\n",
    "jet1_ids = np.where((testset[:,22] == 1) & (testset[:,0] != -999.))[0]\n",
    "jet23_nm_ids = np.where(((testset[:,22] == 2) | (testset[:,22] == 3)) \\\n",
    "                        & (testset[:,0] == -999.))[0]\n",
    "jet23_ids = np.where(((testset[:,22] == 2) | (testset[:,22] == 3)) \\\n",
    "                        & (testset[:,0] != -999.))[0]\n",
    "\n",
    "jet0_test_nm = testset[jet0_nm_ids][:, selected_jet0_nomass]\n",
    "jet0_test = testset[jet0_ids][:, selected_jet0]\n",
    "jet1_test_nm = testset[jet1_nm_ids][:, selected_jet1_nomass]\n",
    "jet1_test = testset[jet1_ids][:, selected_jet1]\n",
    "jet23_test_nm = testset[jet23_nm_ids][:, selected_jet23_nomass]\n",
    "jet23_test = testset[jet23_ids][:, selected_jet23]\n",
    "\n",
    "higgs_jet0_nm = np.where(log_reg_predict(jet0_test_nm, w0_nomass) == 1)[0]\n",
    "higgs_jet0 = np.where(log_reg_predict(jet0_test, w0) == 1)[0]\n",
    "higgs_jet1_nm = np.where(log_reg_predict(jet1_test_nm, w1_nomass) == 1)[0]\n",
    "higgs_jet1 = np.where(log_reg_predict(jet1_test, w1) == 1)[0]\n",
    "higgs_jet23_nm = np.where(log_reg_predict(jet23_test_nm, w23_nomass) == 1)[0]\n",
    "higgs_jet23 = np.where(log_reg_predict(jet23_test, w23) == 1)[0]\n"
   ]
  },
  {
   "cell_type": "code",
   "execution_count": null,
   "metadata": {
    "collapsed": false
   },
   "outputs": [],
   "source": []
  },
  {
   "cell_type": "markdown",
   "metadata": {},
   "source": [
    "### retrieve the id's of higgs boson"
   ]
  },
  {
   "cell_type": "code",
   "execution_count": null,
   "metadata": {
    "collapsed": false
   },
   "outputs": [],
   "source": [
    "import itertools\n",
    "\n",
    "higgs = itertools.chain(ids[jet0_nm_ids][higgs_jet0_nm], ids[jet0_ids][higgs_jet0] \\\n",
    "               , ids[jet1_nm_ids][higgs_jet1_nm], ids[jet1_ids][higgs_jet1]\\\n",
    "               , ids[jet23_nm_ids][higgs_jet23_nm], ids[jet23_ids][higgs_jet23])\n",
    "\n",
    "higgs_arr = list([int(i) for i in higgs])"
   ]
  },
  {
   "cell_type": "code",
   "execution_count": null,
   "metadata": {
    "collapsed": true
   },
   "outputs": [],
   "source": []
  },
  {
   "cell_type": "code",
   "execution_count": null,
   "metadata": {
    "collapsed": false,
    "scrolled": true
   },
   "outputs": [],
   "source": [
    "res = []\n",
    "for i in range(350000,918238):\n",
    "    if i in higgs_arr:\n",
    "        res.append([i, 1])\n",
    "    else:\n",
    "        res.append([i, -1])\n",
    "        \n",
    "res"
   ]
  },
  {
   "cell_type": "code",
   "execution_count": null,
   "metadata": {
    "collapsed": false
   },
   "outputs": [],
   "source": [
    "prediction = apply_right_model(testset, ids, w0_nomass, w0, w1_nomass, ...\n",
    "                               w1, w23_nomass, w23, selected_jet0_nomass, ...\n",
    "                              selected_jet0, selected_jet1_nomass, selected_jet1, ...\n",
    "                              selected_jet23_nomass, selected_jet23)\n",
    "prediction"
   ]
  },
  {
   "cell_type": "code",
   "execution_count": null,
   "metadata": {
    "collapsed": false
   },
   "outputs": [],
   "source": [
    "print(\"higgs: \", np.count_nonzero(prediction == 1))\n",
    "print(\"non-higgs: \", np.count_nonzero(prediction == -1))"
   ]
  },
  {
   "cell_type": "code",
   "execution_count": null,
   "metadata": {
    "collapsed": true
   },
   "outputs": [],
   "source": [
    "test_x = np.genfromtxt('data/test.csv', delimiter=',', skip_header=1)\n",
    "test_x = standardize(test_x[:, 2:])  # remove id and prediction columns\n",
    "# could've used load_csv_data\n",
    "create_csv_submission([i for i in range(350000,918238)], log_reg_predict(test_x, w), 'res.csv')"
   ]
  },
  {
   "cell_type": "code",
   "execution_count": null,
   "metadata": {
    "collapsed": true
   },
   "outputs": [],
   "source": [
    "test_jet0"
   ]
  },
  {
   "cell_type": "markdown",
   "metadata": {},
   "source": [
    "## Feature Engineering\n",
    "TODO"
   ]
  },
  {
   "cell_type": "markdown",
   "metadata": {},
   "source": [
    "## Prediction\n",
    "\n",
    "**Generate predictions and save ouput in csv format for submission**"
   ]
  }
 ],
 "metadata": {
  "anaconda-cloud": {},
  "kernelspec": {
   "display_name": "Python [Root]",
   "language": "python",
   "name": "Python [Root]"
  },
  "language_info": {
   "codemirror_mode": {
    "name": "ipython",
    "version": 3
   },
   "file_extension": ".py",
   "mimetype": "text/x-python",
   "name": "python",
   "nbconvert_exporter": "python",
   "pygments_lexer": "ipython3",
   "version": "3.5.2"
  }
 },
 "nbformat": 4,
 "nbformat_minor": 0
}
