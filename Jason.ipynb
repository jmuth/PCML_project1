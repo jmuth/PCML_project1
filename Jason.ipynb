{
 "cells": [
  {
   "cell_type": "code",
   "execution_count": 15,
   "metadata": {
    "collapsed": true
   },
   "outputs": [],
   "source": [
    "import scipy.stats as stats\n",
    "import numpy as np\n",
    "\n",
    "from proj1_helpers import load_csv_data"
   ]
  },
  {
   "cell_type": "code",
   "execution_count": null,
   "metadata": {
    "collapsed": true
   },
   "outputs": [],
   "source": [
    "# Load data\n",
    "y, tx, ids = load_csv_data('data/train.csv')"
   ]
  },
  {
   "cell_type": "code",
   "execution_count": 10,
   "metadata": {
    "collapsed": false
   },
   "outputs": [
    {
     "data": {
      "text/plain": [
       "array([[ 138.47 ,   51.655,   97.827, ...,    1.24 ,   -2.475,  113.497],\n",
       "       [ 160.937,   68.768,  103.235, ..., -999.   , -999.   ,   46.226],\n",
       "       [-999.   ,  162.172,  125.953, ..., -999.   , -999.   ,   44.251],\n",
       "       ..., \n",
       "       [ 105.457,   60.526,   75.839, ..., -999.   , -999.   ,   41.992],\n",
       "       [  94.951,   19.362,   68.812, ..., -999.   , -999.   ,    0.   ],\n",
       "       [-999.   ,   72.756,   70.831, ..., -999.   , -999.   ,    0.   ]])"
      ]
     },
     "execution_count": 10,
     "metadata": {},
     "output_type": "execute_result"
    }
   ],
   "source": [
    "tx"
   ]
  },
  {
   "cell_type": "code",
   "execution_count": 9,
   "metadata": {
    "collapsed": false
   },
   "outputs": [
    {
     "name": "stdout",
     "output_type": "stream",
     "text": [
      "PointbiserialrResult(correlation=0.23914905789154567, pvalue=0.0)\n",
      "PointbiserialrResult(correlation=-0.35142795586167602, pvalue=0.0)\n",
      "PointbiserialrResult(correlation=-0.014055273784852541, pvalue=2.0959166941134475e-12)\n",
      "PointbiserialrResult(correlation=0.19252632856874835, pvalue=0.0)\n",
      "PointbiserialrResult(correlation=0.14164599256566446, pvalue=0.0)\n",
      "PointbiserialrResult(correlation=0.19176608807477108, pvalue=0.0)\n",
      "PointbiserialrResult(correlation=0.1405544004650961, pvalue=0.0)\n",
      "PointbiserialrResult(correlation=0.012245481285482938, pvalue=9.1864539588433516e-10)\n",
      "PointbiserialrResult(correlation=-0.015287426687781437, pvalue=2.1037623817789182e-14)\n",
      "PointbiserialrResult(correlation=0.15323593247581357, pvalue=0.0)\n",
      "PointbiserialrResult(correlation=-0.19539789618287828, pvalue=0.0)\n",
      "PointbiserialrResult(correlation=0.27175187705164944, pvalue=0.0)\n",
      "PointbiserialrResult(correlation=0.14134598859646369, pvalue=0.0)\n",
      "PointbiserialrResult(correlation=0.23523797587836728, pvalue=0.0)\n",
      "PointbiserialrResult(correlation=-0.00094325105821174986, pvalue=0.63719570995190733)\n",
      "PointbiserialrResult(correlation=-0.004402538686388421, pvalue=0.027716985854774917)\n",
      "PointbiserialrResult(correlation=-0.031947586805348212, pvalue=1.8249750502149797e-57)\n",
      "PointbiserialrResult(correlation=0.0015162353770597277, pvalue=0.44838253966284547)\n",
      "PointbiserialrResult(correlation=0.004125447411524855, pvalue=0.039139032415730628)\n",
      "PointbiserialrResult(correlation=0.022465751510785888, pvalue=2.7687448583391764e-29)\n",
      "PointbiserialrResult(correlation=0.0074753421885902565, pvalue=0.00018570793605442759)\n",
      "PointbiserialrResult(correlation=0.1355202615226849, pvalue=0.0)\n",
      "PointbiserialrResult(correlation=0.13354912308169162, pvalue=0.0)\n",
      "PointbiserialrResult(correlation=0.15760414567634956, pvalue=0.0)\n",
      "PointbiserialrResult(correlation=0.15046926004977917, pvalue=0.0)\n",
      "PointbiserialrResult(correlation=0.15046803779292672, pvalue=0.0)\n",
      "PointbiserialrResult(correlation=0.14071436695043715, pvalue=0.0)\n",
      "PointbiserialrResult(correlation=0.14126491377601547, pvalue=0.0)\n",
      "PointbiserialrResult(correlation=0.14125568650533776, pvalue=0.0)\n",
      "PointbiserialrResult(correlation=0.13429572666925313, pvalue=0.0)\n",
      "SpearmanrResult(correlation=0.18309372204016683, pvalue=0.0)\n",
      "SpearmanrResult(correlation=0.18309372204016683, pvalue=0.0)\n",
      "SpearmanrResult(correlation=0.18309372204016683, pvalue=0.0)\n",
      "SpearmanrResult(correlation=0.18309372204016683, pvalue=0.0)\n",
      "SpearmanrResult(correlation=0.18309372204016683, pvalue=0.0)\n",
      "SpearmanrResult(correlation=0.18309372204016683, pvalue=0.0)\n",
      "SpearmanrResult(correlation=0.18309372204016683, pvalue=0.0)\n",
      "SpearmanrResult(correlation=0.18309372204016683, pvalue=0.0)\n",
      "SpearmanrResult(correlation=0.18309372204016683, pvalue=0.0)\n",
      "SpearmanrResult(correlation=0.18309372204016683, pvalue=0.0)\n",
      "SpearmanrResult(correlation=0.18309372204016683, pvalue=0.0)\n",
      "SpearmanrResult(correlation=0.18309372204016683, pvalue=0.0)\n",
      "SpearmanrResult(correlation=0.18309372204016683, pvalue=0.0)\n",
      "SpearmanrResult(correlation=0.18309372204016683, pvalue=0.0)\n",
      "SpearmanrResult(correlation=0.18309372204016683, pvalue=0.0)\n",
      "SpearmanrResult(correlation=0.18309372204016683, pvalue=0.0)\n",
      "SpearmanrResult(correlation=0.18309372204016683, pvalue=0.0)\n",
      "SpearmanrResult(correlation=0.18309372204016683, pvalue=0.0)\n",
      "SpearmanrResult(correlation=0.18309372204016683, pvalue=0.0)\n",
      "SpearmanrResult(correlation=0.18309372204016683, pvalue=0.0)\n",
      "SpearmanrResult(correlation=0.18309372204016683, pvalue=0.0)\n",
      "SpearmanrResult(correlation=0.18309372204016683, pvalue=0.0)\n",
      "SpearmanrResult(correlation=0.18309372204016683, pvalue=0.0)\n",
      "SpearmanrResult(correlation=0.18309372204016683, pvalue=0.0)\n",
      "SpearmanrResult(correlation=0.18309372204016683, pvalue=0.0)\n",
      "SpearmanrResult(correlation=0.18309372204016683, pvalue=0.0)\n",
      "SpearmanrResult(correlation=0.18309372204016683, pvalue=0.0)\n",
      "SpearmanrResult(correlation=0.18309372204016683, pvalue=0.0)\n",
      "SpearmanrResult(correlation=0.18309372204016683, pvalue=0.0)\n",
      "SpearmanrResult(correlation=0.18309372204016683, pvalue=0.0)\n"
     ]
    }
   ],
   "source": [
    "for feature_index in range(tx.shape[1]):\n",
    "    print(stats.pointbiserialr(y, tx[:, feature_index]))\n",
    "\n",
    "for feture_index in range(tx.shape[1]):\n",
    "    print(stats.spearmanr(y, tx[:, feature_index]))"
   ]
  },
  {
   "cell_type": "code",
   "execution_count": 24,
   "metadata": {
    "collapsed": false
   },
   "outputs": [],
   "source": [
    "record_num = tx.shape[0]\n",
    "ratio = 0.5\n",
    "limit = int(record_num * ratio)\n",
    "\n",
    "invalid_features = []\n",
    "for feature_index in range(tx.shape[1]):\n",
    "    if np.count_nonzero(tx[:, feature_index] == -999) > limit:\n",
    "        invalid_features.append(feature_index)\n",
    "\n",
    "valid_feature_indices = list(set(i for i in range(tx.shape[1])) - set(invalid_features))\n"
   ]
  },
  {
   "cell_type": "code",
   "execution_count": 29,
   "metadata": {
    "collapsed": false
   },
   "outputs": [],
   "source": [
    "train_tx = tx[:, valid_feature_indices].shape"
   ]
  },
  {
   "cell_type": "code",
   "execution_count": null,
   "metadata": {
    "collapsed": true
   },
   "outputs": [],
   "source": []
  }
 ],
 "metadata": {
  "anaconda-cloud": {},
  "kernelspec": {
   "display_name": "Python [Root]",
   "language": "python",
   "name": "Python [Root]"
  },
  "language_info": {
   "codemirror_mode": {
    "name": "ipython",
    "version": 3
   },
   "file_extension": ".py",
   "mimetype": "text/x-python",
   "name": "python",
   "nbconvert_exporter": "python",
   "pygments_lexer": "ipython3",
   "version": "3.5.2"
  }
 },
 "nbformat": 4,
 "nbformat_minor": 1
}
