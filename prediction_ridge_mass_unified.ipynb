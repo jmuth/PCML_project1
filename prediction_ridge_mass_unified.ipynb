{
 "cells": [
  {
   "cell_type": "markdown",
   "metadata": {},
   "source": [
    "** Imports**"
   ]
  },
  {
   "cell_type": "code",
   "execution_count": 58,
   "metadata": {
    "collapsed": false
   },
   "outputs": [
    {
     "name": "stdout",
     "output_type": "stream",
     "text": [
      "The autoreload extension is already loaded. To reload it, use:\n",
      "  %reload_ext autoreload\n"
     ]
    }
   ],
   "source": [
    "# Useful starting lines\n",
    "%matplotlib inline\n",
    "import numpy as np\n",
    "import matplotlib.pyplot as plt\n",
    "%load_ext autoreload\n",
    "%autoreload 2\n",
    "import math"
   ]
  },
  {
   "cell_type": "code",
   "execution_count": 59,
   "metadata": {
    "collapsed": false
   },
   "outputs": [],
   "source": [
    "from costs import *\n",
    "from models import *\n",
    "from helpers import * \n",
    "from evaluation import *\n",
    "from split_data import *\n",
    "from split_features import *"
   ]
  },
  {
   "cell_type": "markdown",
   "metadata": {},
   "source": [
    "## Data loading\n",
    "** Load the training data into feature matrix, class labels, and record ids**\n",
    "\n",
    "We write our own `load_csv_data` function to import csv data, which gives us prediction column, feature matrix and each record ID."
   ]
  },
  {
   "cell_type": "code",
   "execution_count": 69,
   "metadata": {
    "collapsed": false
   },
   "outputs": [],
   "source": [
    "from proj1_helpers import *\n",
    "DATA_TRAIN_PATH = 'data/train.csv' # TODO: download train data and supply path here \n",
    "y, tx, ids = load_csv_data(DATA_TRAIN_PATH, sub_sample=False)"
   ]
  },
  {
   "cell_type": "markdown",
   "metadata": {},
   "source": [
    "### Split the dataset into trainset and testset in order to test accuracy"
   ]
  },
  {
   "cell_type": "code",
   "execution_count": 61,
   "metadata": {
    "collapsed": false
   },
   "outputs": [],
   "source": [
    "x_train, y_train, x_test, y_test = split_data(tx, y, 0.9)"
   ]
  },
  {
   "cell_type": "code",
   "execution_count": 62,
   "metadata": {
    "collapsed": false
   },
   "outputs": [
    {
     "data": {
      "text/plain": [
       "(225000, 30)"
      ]
     },
     "execution_count": 62,
     "metadata": {},
     "output_type": "execute_result"
    }
   ],
   "source": [
    "x_train.shape"
   ]
  },
  {
   "cell_type": "code",
   "execution_count": 63,
   "metadata": {
    "collapsed": true
   },
   "outputs": [],
   "source": [
    "tx = x_train\n",
    "y = y_train"
   ]
  },
  {
   "cell_type": "markdown",
   "metadata": {},
   "source": [
    "## Data Preprocessing"
   ]
  },
  {
   "cell_type": "markdown",
   "metadata": {},
   "source": [
    "### Split into 6 distinct datasets\n",
    "\n",
    "According to our exploration, we can distinct 3 different dataset based on number of jets each experiments contains. Then each of them can be split again into 2 different datasets based on whether they have a measurable mass or not."
   ]
  },
  {
   "cell_type": "code",
   "execution_count": 70,
   "metadata": {
    "collapsed": false
   },
   "outputs": [],
   "source": [
    "jet0, jet1, jet23, y0, y1, y23 = split_on_jets(y, tx)\n",
    "\n"
   ]
  },
  {
   "cell_type": "markdown",
   "metadata": {},
   "source": [
    "### Plot each feature"
   ]
  },
  {
   "cell_type": "markdown",
   "metadata": {},
   "source": [
    "### Replace all NaN mass with mean mass"
   ]
  },
  {
   "cell_type": "code",
   "execution_count": 71,
   "metadata": {
    "collapsed": false
   },
   "outputs": [
    {
     "data": {
      "text/plain": [
       "-999.0"
      ]
     },
     "execution_count": 71,
     "metadata": {},
     "output_type": "execute_result"
    }
   ],
   "source": [
    "jet0[:,0].min()"
   ]
  },
  {
   "cell_type": "code",
   "execution_count": 72,
   "metadata": {
    "collapsed": false,
    "scrolled": true
   },
   "outputs": [],
   "source": [
    "mean_mass_j0 = np.mean(jet0[np.where(jet0[:,0] != -999.)][:,0])\n",
    "mean_mass_j1 = np.mean(jet0[np.where(jet1[:,0] != -999.)][:,0])\n",
    "mean_mass_j23 = np.mean(jet0[np.where(jet23[:,0] != -999.)][:,0])"
   ]
  },
  {
   "cell_type": "code",
   "execution_count": 73,
   "metadata": {
    "collapsed": true
   },
   "outputs": [],
   "source": [
    "jet0[np.where(jet0[:,0] == -999.), 0] = mean_mass_j0\n",
    "jet1[np.where(jet1[:,0] == -999.), 0] = mean_mass_j1\n",
    "jet23[np.where(jet23[:,0] == -999.), 0] = mean_mass_j23"
   ]
  },
  {
   "cell_type": "markdown",
   "metadata": {},
   "source": [
    "### Only keep the features without NaN in each subset"
   ]
  },
  {
   "cell_type": "code",
   "execution_count": 74,
   "metadata": {
    "collapsed": false
   },
   "outputs": [],
   "source": [
    "jet0, selected_jet0 = select_features_without_nan(jet0)\n",
    "jet1, selected_jet1 = select_features_without_nan(jet1)\n",
    "jet23, selected_jet23 = select_features_without_nan(jet23)\n"
   ]
  },
  {
   "cell_type": "markdown",
   "metadata": {},
   "source": [
    "### Outliers"
   ]
  },
  {
   "cell_type": "code",
   "execution_count": 75,
   "metadata": {
    "collapsed": false
   },
   "outputs": [
    {
     "data": {
      "text/plain": [
       "<function matplotlib.pyplot.show>"
      ]
     },
     "execution_count": 75,
     "metadata": {},
     "output_type": "execute_result"
    },
    {
     "data": {
      "image/png": "[encoded data removed]",
      "text/plain": [
       "<matplotlib.figure.Figure at 0x103c9aa58>"
      ]
     },
     "metadata": {},
     "output_type": "display_data"
    }
   ],
   "source": [
    "plt.figure(figsize=(15, 6)) \n",
    "plt.subplot(311)\n",
    "plt.boxplot(jet0)\n",
    "plt.subplot(312)\n",
    "plt.boxplot(jet1)\n",
    "plt.subplot(313)\n",
    "plt.boxplot(jet23)\n",
    "plt.show"
   ]
  },
  {
   "cell_type": "code",
   "execution_count": 76,
   "metadata": {
    "collapsed": false
   },
   "outputs": [],
   "source": [
    "jet0_outlier = jet0[np.where((jet0[:,3] < 1200) & (jet0[:,2]<1200))]"
   ]
  },
  {
   "cell_type": "code",
   "execution_count": 77,
   "metadata": {
    "collapsed": false,
    "scrolled": true
   },
   "outputs": [],
   "source": [
    "y0 = y0[np.where((jet0[:,3] < 1200) & (jet0[:,2]<1200))]\n",
    "jet0 = jet0_outlier\n"
   ]
  },
  {
   "cell_type": "code",
   "execution_count": 78,
   "metadata": {
    "collapsed": false,
    "scrolled": true
   },
   "outputs": [
    {
     "data": {
      "text/plain": [
       "<function matplotlib.pyplot.show>"
      ]
     },
     "execution_count": 78,
     "metadata": {},
     "output_type": "execute_result"
    },
    {
     "data": {
      "image/png": "[encoded data removed]",
      "text/plain": [
       "<matplotlib.figure.Figure at 0x17c4f5748>"
      ]
     },
     "metadata": {},
     "output_type": "display_data"
    }
   ],
   "source": [
    "plt.figure(figsize=(15, 6)) \n",
    "plt.subplot(311)\n",
    "plt.boxplot(jet0)\n",
    "plt.subplot(312)\n",
    "plt.boxplot(jet1)\n",
    "plt.subplot(313)\n",
    "plt.boxplot(jet23)\n",
    "plt.show"
   ]
  },
  {
   "cell_type": "markdown",
   "metadata": {},
   "source": [
    "### Standardization of values\n",
    "We use [feature scaling](https://en.wikipedia.org/wiki/Feature_scaling) method to standardize our feature matrix, i.e. to rescale tx down to [0, 1], so as to avoid complicated computation caused by large numbers."
   ]
  },
  {
   "cell_type": "code",
   "execution_count": 79,
   "metadata": {
    "collapsed": false
   },
   "outputs": [],
   "source": [
    "tx = standardize(tx)\n",
    "\n",
    "std_jet0, min0, range0 = standardize_mean(jet0)\n",
    "\n",
    "std_jet1, min1, range1 = standardize_mean(jet1)\n",
    "\n",
    "std_jet23, min23, range23 = standardize_mean(jet23)"
   ]
  },
  {
   "cell_type": "code",
   "execution_count": 80,
   "metadata": {
    "collapsed": false
   },
   "outputs": [
    {
     "data": {
      "image/png": "[encoded data removed]",
      "text/plain": [
       "<matplotlib.figure.Figure at 0x103c9ada0>"
      ]
     },
     "metadata": {},
     "output_type": "display_data"
    }
   ],
   "source": [
    "plot_features(std_jet0)"
   ]
  },
  {
   "cell_type": "markdown",
   "metadata": {},
   "source": [
    "## Machine Learning"
   ]
  },
  {
   "cell_type": "markdown",
   "metadata": {},
   "source": [
    "### Logistic Regression"
   ]
  },
  {
   "cell_type": "markdown",
   "metadata": {},
   "source": [
    "Choose intial parameters"
   ]
  },
  {
   "cell_type": "code",
   "execution_count": 21,
   "metadata": {
    "collapsed": true
   },
   "outputs": [],
   "source": [
    "n_iters = 10000\n",
    "gamma = 0.000003\n"
   ]
  },
  {
   "cell_type": "markdown",
   "metadata": {},
   "source": [
    "Train with logistic regression"
   ]
  },
  {
   "cell_type": "code",
   "execution_count": 22,
   "metadata": {
    "collapsed": false
   },
   "outputs": [
    {
     "name": "stdout",
     "output_type": "stream",
     "text": [
      "w0\n",
      "loss =  0.368375293602\n",
      "w1\n",
      "loss =  0.431560337115\n",
      "w23\n",
      "loss =  0.42445116957\n"
     ]
    }
   ],
   "source": [
    "lambda_ = 0.00001\n",
    "print(\"w0\")\n",
    "loss0, w0 = ridge_regression(y0, std_jet0, lambda_)\n",
    "print(\"loss = \", loss0)\n",
    "\n",
    "print(\"w1\")\n",
    "loss1, w1 = ridge_regression(y1, std_jet1, lambda_)\n",
    "print(\"loss = \", loss1)\n",
    "\n",
    "print(\"w23\")\n",
    "loss23, w23 = ridge_regression(y23, std_jet23, lambda_)\n",
    "print(\"loss = \", loss23)"
   ]
  },
  {
   "cell_type": "code",
   "execution_count": 23,
   "metadata": {
    "collapsed": false
   },
   "outputs": [
    {
     "data": {
      "text/plain": [
       "(21,)"
      ]
     },
     "execution_count": 23,
     "metadata": {},
     "output_type": "execute_result"
    }
   ],
   "source": [
    "w0.shape"
   ]
  },
  {
   "cell_type": "code",
   "execution_count": 24,
   "metadata": {
    "collapsed": false
   },
   "outputs": [
    {
     "data": {
      "text/plain": [
       "(24,)"
      ]
     },
     "execution_count": 24,
     "metadata": {},
     "output_type": "execute_result"
    }
   ],
   "source": [
    "w1.shape"
   ]
  },
  {
   "cell_type": "code",
   "execution_count": 25,
   "metadata": {
    "collapsed": false
   },
   "outputs": [
    {
     "data": {
      "text/plain": [
       "(31,)"
      ]
     },
     "execution_count": 25,
     "metadata": {},
     "output_type": "execute_result"
    }
   ],
   "source": [
    "w23.shape"
   ]
  },
  {
   "cell_type": "code",
   "execution_count": 26,
   "metadata": {
    "collapsed": false,
    "scrolled": true
   },
   "outputs": [
    {
     "data": {
      "text/plain": [
       "(30,)"
      ]
     },
     "execution_count": 26,
     "metadata": {},
     "output_type": "execute_result"
    }
   ],
   "source": [
    "selected_jet23.shape"
   ]
  },
  {
   "cell_type": "code",
   "execution_count": 27,
   "metadata": {
    "collapsed": false
   },
   "outputs": [
    {
     "data": {
      "text/plain": [
       "(65286, 31)"
      ]
     },
     "execution_count": 27,
     "metadata": {},
     "output_type": "execute_result"
    }
   ],
   "source": [
    "std_jet23.shape"
   ]
  },
  {
   "cell_type": "markdown",
   "metadata": {},
   "source": [
    "## Accuracy testing against virtual test_set"
   ]
  },
  {
   "cell_type": "code",
   "execution_count": 28,
   "metadata": {
    "collapsed": false
   },
   "outputs": [],
   "source": [
    "testset = x_test\n",
    "\n",
    "y_pred = apply_right_model_withoutmass_ridge(testset, \\\n",
    "                  selected_jet0, selected_jet1, \\\n",
    "                  selected_jet23, \\\n",
    "                  min0, min1, min23, \\\n",
    "                  range0, range1, range23, \\\n",
    "                  w0, w1, w23)\n"
   ]
  },
  {
   "cell_type": "code",
   "execution_count": 29,
   "metadata": {
    "collapsed": false
   },
   "outputs": [
    {
     "data": {
      "text/plain": [
       "(25000,)"
      ]
     },
     "execution_count": 29,
     "metadata": {},
     "output_type": "execute_result"
    }
   ],
   "source": [
    "y_pred.shape"
   ]
  },
  {
   "cell_type": "code",
   "execution_count": 30,
   "metadata": {
    "collapsed": false
   },
   "outputs": [
    {
     "data": {
      "text/plain": [
       "0.5734"
      ]
     },
     "execution_count": 30,
     "metadata": {},
     "output_type": "execute_result"
    }
   ],
   "source": [
    "test_accuracy(y_test, y_pred)"
   ]
  },
  {
   "cell_type": "markdown",
   "metadata": {},
   "source": [
    "## Output prediction to Kaggle"
   ]
  },
  {
   "cell_type": "code",
   "execution_count": 31,
   "metadata": {
    "collapsed": true
   },
   "outputs": [],
   "source": [
    "test_x = np.genfromtxt('data/test.csv', delimiter=',', skip_header=1)"
   ]
  },
  {
   "cell_type": "code",
   "execution_count": 32,
   "metadata": {
    "collapsed": false
   },
   "outputs": [
    {
     "ename": "NameError",
     "evalue": "name 'selected_jet0_nomass' is not defined",
     "output_type": "error",
     "traceback": [
      "\u001b[0;31m-------------------------------------------------------------------\u001b[0m",
      "\u001b[0;31mNameError\u001b[0m                         Traceback (most recent call last)",
      "\u001b[0;32m<ipython-input-32-d34b4ca87f69>\u001b[0m in \u001b[0;36m<module>\u001b[0;34m()\u001b[0m\n\u001b[1;32m      7\u001b[0m     \u001b[0mx\u001b[0m \u001b[0;34m=\u001b[0m \u001b[0mnp\u001b[0m\u001b[0;34m.\u001b[0m\u001b[0marray\u001b[0m\u001b[0;34m(\u001b[0m\u001b[0;34m[\u001b[0m\u001b[0mx_t\u001b[0m\u001b[0;34m]\u001b[0m\u001b[0;34m)\u001b[0m\u001b[0;34m\u001b[0m\u001b[0m\n\u001b[1;32m      8\u001b[0m     \u001b[0;32mif\u001b[0m \u001b[0misJet0_nomass\u001b[0m\u001b[0;34m(\u001b[0m\u001b[0mx\u001b[0m\u001b[0;34m)\u001b[0m\u001b[0;34m:\u001b[0m\u001b[0;34m\u001b[0m\u001b[0m\n\u001b[0;32m----> 9\u001b[0;31m         \u001b[0mpred\u001b[0m \u001b[0;34m=\u001b[0m \u001b[0mx\u001b[0m\u001b[0;34m[\u001b[0m\u001b[0;34m:\u001b[0m\u001b[0;34m,\u001b[0m\u001b[0mselected_jet0_nomass\u001b[0m\u001b[0;34m]\u001b[0m\u001b[0;34m\u001b[0m\u001b[0m\n\u001b[0m\u001b[1;32m     10\u001b[0m         \u001b[0mpred\u001b[0m\u001b[0;34m,\u001b[0m \u001b[0m_\u001b[0m \u001b[0;34m,\u001b[0m \u001b[0m_\u001b[0m \u001b[0;34m=\u001b[0m \u001b[0mstandardize\u001b[0m\u001b[0;34m(\u001b[0m\u001b[0mpred\u001b[0m\u001b[0;34m,\u001b[0m \u001b[0mmin0_nomass\u001b[0m\u001b[0;34m,\u001b[0m \u001b[0mrange0_nomass\u001b[0m\u001b[0;34m)\u001b[0m\u001b[0;34m\u001b[0m\u001b[0m\n\u001b[1;32m     11\u001b[0m         \u001b[0my\u001b[0m\u001b[0;34m.\u001b[0m\u001b[0mappend\u001b[0m\u001b[0;34m(\u001b[0m\u001b[0mlog_reg_predict\u001b[0m\u001b[0;34m(\u001b[0m\u001b[0mpred\u001b[0m\u001b[0;34m,\u001b[0m \u001b[0mw0_nomass\u001b[0m\u001b[0;34m)\u001b[0m\u001b[0;34m)\u001b[0m\u001b[0;34m\u001b[0m\u001b[0m\n",
      "\u001b[0;31mNameError\u001b[0m: name 'selected_jet0_nomass' is not defined"
     ]
    }
   ],
   "source": [
    "ids = test_x[:, 0]\n",
    "testset = test_x[:, 2:] # remove id and prediction columns\n",
    "\n",
    "y = []\n",
    "\n",
    "for x_t in testset:\n",
    "    x = np.array([x_t])\n",
    "    if isJet0_nomass(x):\n",
    "        pred = x[:,selected_jet0_nomass]\n",
    "        pred, _ , _ = standardize(pred, min0_nomass, range0_nomass)\n",
    "        y.append(log_reg_predict(pred, w0_nomass))\n",
    "    elif isJet0(x):\n",
    "        pred = x[:, selected_jet0]\n",
    "        pred, _ , _  = standardize(pred, min0, range0)\n",
    "        y.append(log_reg_predict(pred, w0))\n",
    "    elif isJet1_nomass(x):\n",
    "        pred = x[:, selected_jet1_nomass]\n",
    "        pred, _ , _  = standardize(pred,min1_nomass, range1_nomass)\n",
    "        y.append(log_reg_predict(pred, w1_nomass))\n",
    "    elif isJet1(x):\n",
    "        pred = x[:, selected_jet1]\n",
    "        pred, _ , _  = standardize(pred, min1, range1)\n",
    "        y.append(log_reg_predict(pred, w1))\n",
    "    elif isJet23_nomass(x):\n",
    "        pred= x[:, selected_jet23_nomass]\n",
    "        pred, _ , _  = standardize(pred, min23_nomass, range23_nomass)\n",
    "        y.append(log_reg_predict(pred, w23_nomass))\n",
    "    else:\n",
    "        pred= x[:, selected_jet23]\n",
    "        pred, _ , _  = standardize(pred, min23, range23)\n",
    "        y.append(log_reg_predict(pred, w23))\n"
   ]
  },
  {
   "cell_type": "code",
   "execution_count": null,
   "metadata": {
    "collapsed": false,
    "scrolled": true
   },
   "outputs": [],
   "source": [
    "create_csv_submission(ids, y, 'data/split_data.csv')"
   ]
  },
  {
   "cell_type": "code",
   "execution_count": null,
   "metadata": {
    "collapsed": false
   },
   "outputs": [],
   "source": [
    "ids = test_x[:, 0]\n",
    "testset = test_x[:, 2:] # remove id and prediction columns\n",
    "\n",
    "jet0_nm_ids = np.where((testset[:,22] == 0) & (testset[:,0] == -999.))[0]\n",
    "jet0_ids = np.where((testset[:,22] == 0) & (testset[:,0] != -999.))[0]\n",
    "jet1_nm_ids = np.where((testset[:,22] == 1) & (testset[:,0] == -999.))[0]\n",
    "jet1_ids = np.where((testset[:,22] == 1) & (testset[:,0] != -999.))[0]\n",
    "jet23_nm_ids = np.where(((testset[:,22] == 2) | (testset[:,22] == 3)) \\\n",
    "                        & (testset[:,0] == -999.))[0]\n",
    "jet23_ids = np.where(((testset[:,22] == 2) | (testset[:,22] == 3)) \\\n",
    "                        & (testset[:,0] != -999.))[0]\n",
    "\n",
    "jet0_test_nm = testset[jet0_nm_ids][:, selected_jet0_nomass]\n",
    "jet0_test = testset[jet0_ids][:, selected_jet0]\n",
    "jet1_test_nm = testset[jet1_nm_ids][:, selected_jet1_nomass]\n",
    "jet1_test = testset[jet1_ids][:, selected_jet1]\n",
    "jet23_test_nm = testset[jet23_nm_ids][:, selected_jet23_nomass]\n",
    "jet23_test = testset[jet23_ids][:, selected_jet23]\n",
    "\n",
    "higgs_jet0_nm = np.where(log_reg_predict(jet0_test_nm, w0_nomass) == 1)[0]\n",
    "higgs_jet0 = np.where(log_reg_predict(jet0_test, w0) == 1)[0]\n",
    "higgs_jet1_nm = np.where(log_reg_predict(jet1_test_nm, w1_nomass) == 1)[0]\n",
    "higgs_jet1 = np.where(log_reg_predict(jet1_test, w1) == 1)[0]\n",
    "higgs_jet23_nm = np.where(log_reg_predict(jet23_test_nm, w23_nomass) == 1)[0]\n",
    "higgs_jet23 = np.where(log_reg_predict(jet23_test, w23) == 1)[0]\n"
   ]
  },
  {
   "cell_type": "code",
   "execution_count": null,
   "metadata": {
    "collapsed": false
   },
   "outputs": [],
   "source": []
  },
  {
   "cell_type": "markdown",
   "metadata": {},
   "source": [
    "### retrieve the id's of higgs boson"
   ]
  },
  {
   "cell_type": "code",
   "execution_count": null,
   "metadata": {
    "collapsed": false
   },
   "outputs": [],
   "source": [
    "import itertools\n",
    "\n",
    "higgs = itertools.chain(ids[jet0_nm_ids][higgs_jet0_nm], ids[jet0_ids][higgs_jet0] \\\n",
    "               , ids[jet1_nm_ids][higgs_jet1_nm], ids[jet1_ids][higgs_jet1]\\\n",
    "               , ids[jet23_nm_ids][higgs_jet23_nm], ids[jet23_ids][higgs_jet23])\n",
    "\n",
    "higgs_arr = list([int(i) for i in higgs])"
   ]
  },
  {
   "cell_type": "code",
   "execution_count": null,
   "metadata": {
    "collapsed": true
   },
   "outputs": [],
   "source": []
  },
  {
   "cell_type": "code",
   "execution_count": null,
   "metadata": {
    "collapsed": false,
    "scrolled": true
   },
   "outputs": [],
   "source": [
    "res = []\n",
    "for i in range(350000,918238):\n",
    "    if i in higgs_arr:\n",
    "        res.append([i, 1])\n",
    "    else:\n",
    "        res.append([i, -1])\n",
    "        \n",
    "res"
   ]
  },
  {
   "cell_type": "code",
   "execution_count": null,
   "metadata": {
    "collapsed": false
   },
   "outputs": [],
   "source": [
    "prediction = apply_right_model(testset, ids, w0_nomass, w0, w1_nomass, ...\n",
    "                               w1, w23_nomass, w23, selected_jet0_nomass, ...\n",
    "                              selected_jet0, selected_jet1_nomass, selected_jet1, ...\n",
    "                              selected_jet23_nomass, selected_jet23)\n",
    "prediction"
   ]
  },
  {
   "cell_type": "code",
   "execution_count": null,
   "metadata": {
    "collapsed": false
   },
   "outputs": [],
   "source": [
    "print(\"higgs: \", np.count_nonzero(prediction == 1))\n",
    "print(\"non-higgs: \", np.count_nonzero(prediction == -1))"
   ]
  },
  {
   "cell_type": "code",
   "execution_count": null,
   "metadata": {
    "collapsed": true
   },
   "outputs": [],
   "source": [
    "test_x = np.genfromtxt('data/test.csv', delimiter=',', skip_header=1)\n",
    "test_x = standardize(test_x[:, 2:])  # remove id and prediction columns\n",
    "# could've used load_csv_data\n",
    "create_csv_submission([i for i in range(350000,918238)], log_reg_predict(test_x, w), 'res.csv')"
   ]
  },
  {
   "cell_type": "code",
   "execution_count": null,
   "metadata": {
    "collapsed": true
   },
   "outputs": [],
   "source": [
    "test_jet0"
   ]
  },
  {
   "cell_type": "markdown",
   "metadata": {},
   "source": [
    "## Feature Engineering\n",
    "TODO"
   ]
  },
  {
   "cell_type": "markdown",
   "metadata": {},
   "source": [
    "## Prediction\n",
    "\n",
    "**Generate predictions and save ouput in csv format for submission**"
   ]
  }
 ],
 "metadata": {
  "anaconda-cloud": {},
  "kernelspec": {
   "display_name": "Python [Root]",
   "language": "python",
   "name": "Python [Root]"
  },
  "language_info": {
   "codemirror_mode": {
    "name": "ipython",
    "version": 3
   },
   "file_extension": ".py",
   "mimetype": "text/x-python",
   "name": "python",
   "nbconvert_exporter": "python",
   "pygments_lexer": "ipython3",
   "version": "3.5.2"
  }
 },
 "nbformat": 4,
 "nbformat_minor": 0
}
