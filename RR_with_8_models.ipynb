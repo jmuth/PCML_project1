{
 "cells": [
  {
   "cell_type": "code",
   "execution_count": 2,
   "metadata": {
    "collapsed": false
   },
   "outputs": [],
   "source": [
    "%matplotlib inline\n",
    "import api\n",
    "import helpers\n",
    "import evaluation\n",
    "import implementations\n",
    "import split\n",
    "\n",
    "import numpy as np\n",
    "import pandas as pd\n",
    "import matplotlib.pyplot as plt\n",
    "%load_ext autoreload\n",
    "%autoreload 2"
   ]
  },
  {
   "cell_type": "code",
   "execution_count": 3,
   "metadata": {
    "collapsed": false
   },
   "outputs": [],
   "source": [
    "y, x, _ = helpers.load_csv_data('data/train.csv', sub_sample = True, background_value = -1)"
   ]
  },
  {
   "cell_type": "code",
   "execution_count": 4,
   "metadata": {
    "collapsed": false
   },
   "outputs": [],
   "source": [
    "# split data into 8 group\n",
    "split_train = split.split(y, x, method='jet')"
   ]
  },
  {
   "cell_type": "code",
   "execution_count": null,
   "metadata": {
    "collapsed": false,
    "scrolled": false
   },
   "outputs": [
    {
     "name": "stdout",
     "output_type": "stream",
     "text": [
      "-------------------------------------\n",
      "Set 0 :\n",
      "-------------------------------------\n",
      "lambda*: 1e-05\n",
      "degree:  3\n",
      "test set loss:  0.678599120622\n",
      "accuracy:  0.835685483871\n"
     ]
    }
   ],
   "source": [
    "## graphical representation of parameter search\n",
    "## SLOW !!\n",
    "\n",
    "ws = []\n",
    "tr_losses = []\n",
    "te_losses = []\n",
    "accus = []\n",
    "\n",
    "degrees = range(2, 15)\n",
    "lambdas = np.logspace(-5, 2, 7)\n",
    "\n",
    "#degrees = range(0, 2)\n",
    "#lambdas = np.logspace(-5, 0, 3)\n",
    "\n",
    "plt.figure(1, figsize=(15, 15))\n",
    "\n",
    "for i, splitted_set in enumerate(split_train):\n",
    "    # contain best_lambda, best_degree and best_teloss\n",
    "    best = 0, 0, float(\"inf\"), 0\n",
    "    sub_y, sub_x, id_indices = splitted_set # jet 0 with no mass\n",
    "\n",
    "    for l in lambdas:\n",
    "        ws = []\n",
    "        tr_losses = []\n",
    "        te_losses = []\n",
    "        accus = []\n",
    "\n",
    "        for degree in degrees:\n",
    "            w, tr_loss, te_loss, accu = api._inner_train(sub_y, sub_x, poly = degree, replace='median', cv=True, cut=0.,\\\n",
    "                                                 model_func=implementations.ridge_regression, \\\n",
    "                                                lambda_=l)\n",
    "            ws.append(w)\n",
    "            tr_losses.append(tr_loss)\n",
    "            te_losses.append(te_loss)\n",
    "            accus.append(accu)\n",
    "            if te_loss < best[2]:\n",
    "                best = (l, degree, te_loss, accu)\n",
    "\n",
    "        plt.subplot(4,2,i+1)\n",
    "        plt.xlabel(\"degree\")\n",
    "        plt.ylabel(\"test loss\")\n",
    "        plt.plot(degrees, te_losses)\n",
    "        plt.plot(degrees, tr_losses)\n",
    "        \n",
    "        axes = plt.gca()\n",
    "        #axes.set_xlim([xmin,xmax])\n",
    "        axes.set_ylim([0,1])\n",
    "        \n",
    "    print(\"-------------------------------------\")\n",
    "    print(\"Set\", i, \":\")\n",
    "    print(\"-------------------------------------\")\n",
    "    print(\"lambda*:\", best[0])\n",
    "    print(\"degree: \", best[1])\n",
    "    print(\"test set loss: \", best[2])\n",
    "    print(\"accuracy: \", best[3])\n",
    "    \n",
    "    \n",
    "plt.savefig('test_fig.pdf', format='pdf')\n",
    "plt.show()"
   ]
  },
  {
   "cell_type": "code",
   "execution_count": 233,
   "metadata": {
    "collapsed": false,
    "scrolled": false
   },
   "outputs": [
    {
     "name": "stdout",
     "output_type": "stream",
     "text": [
      "-------------------------------------\n",
      "Set 0\n",
      "-------------------------------------\n",
      "lambda*: 0.0120679328807\n",
      "degree:  3\n",
      "accuracy:  0.948214285714\n",
      "-------------------------------------\n",
      "Set 1\n",
      "-------------------------------------\n",
      "lambda*: 0.0100000444561\n",
      "degree:  2\n",
      "accuracy:  0.764788732394\n",
      "-------------------------------------\n",
      "Set 2\n",
      "-------------------------------------\n",
      "lambda*: 0.0100513176117\n",
      "degree:  3\n",
      "accuracy:  0.889534883721\n",
      "-------------------------------------\n",
      "Set 3\n",
      "-------------------------------------\n",
      "lambda*: 0.0100000003199\n",
      "degree:  14\n",
      "accuracy:  0.707602339181\n",
      "-------------------------------------\n",
      "Set 4\n",
      "-------------------------------------\n",
      "lambda*: 0.0120716107795\n",
      "degree:  2\n",
      "accuracy:  0.852941176471\n",
      "-------------------------------------\n",
      "Set 5\n",
      "-------------------------------------\n",
      "lambda*: 0.0120679264092\n",
      "degree:  3\n",
      "accuracy:  0.713991769547\n",
      "-------------------------------------\n",
      "Set 6\n",
      "-------------------------------------\n",
      "lambda*: 0.163631264499\n",
      "degree:  2\n",
      "accuracy:  0.861111111111\n",
      "-------------------------------------\n",
      "Set 7\n",
      "-------------------------------------\n",
      "lambda*: 0.0145679310494\n",
      "degree:  7\n",
      "accuracy:  0.714646464646\n"
     ]
    }
   ],
   "source": [
    "# automatical search for best parameter (2 times zoom)\n",
    "# in practice, not better than graphical solution. Maybe limit the degree to be under 4 could help and avoid overfit\n",
    "\n",
    "# can be optimized on accuracy (beware of overfitting) or on test loss\n",
    "\n",
    "import search_parameters\n",
    "lambdas_star, degrees_star = search_parameters.search(y, x, optimize_on=\"accu\")"
   ]
  },
  {
   "cell_type": "code",
   "execution_count": 234,
   "metadata": {
    "collapsed": false
   },
   "outputs": [
    {
     "name": "stdout",
     "output_type": "stream",
     "text": [
      "best cut :  -0.01\n",
      "accuracy :  0.806828127645\n"
     ]
    },
    {
     "data": {
      "image/png": "[encoded data removed]",
      "text/plain": [
       "<matplotlib.figure.Figure at 0x115631710>"
      ]
     },
     "metadata": {},
     "output_type": "display_data"
    }
   ],
   "source": [
    "# test if an other cut is better\n",
    "# most of time it only confirme that 0.0 is the better cut\n",
    "\n",
    "LAMBDAS = lambdas_star\n",
    "DEGREES = degrees_star\n",
    "\n",
    "ws = []\n",
    "cuts = np.arange(-0.2, 0.2, 0.01)\n",
    "tr_losses = []\n",
    "te_losses = []\n",
    "accus = []\n",
    "\n",
    "best = 0, 0\n",
    "\n",
    "plt.figure(1, figsize=(10, 10))\n",
    "for i in cuts:\n",
    "    \n",
    "    w = api.train(y, x, poly=DEGREES, split_method='mass', replace=None, cv=True, cut=i, \\\n",
    "               model_func=implementations.ridge_regression, lambdas = LAMBDAS)\n",
    "\n",
    "    mean_accuracy = np.mean(np.array(w)[:,3])\n",
    "    ws.append(mean_accuracy)\n",
    "    \n",
    "    if mean_accuracy > best[0]:\n",
    "        best = (mean_accuracy, i)\n",
    "\n",
    "          \n",
    "print(\"best cut : \", best[1])\n",
    "print(\"accuracy : \", best[0])\n",
    "plt.xlabel(\"cut\")\n",
    "plt.ylabel(\"test loss\")\n",
    "plt.plot(cuts, ws)\n",
    "\n",
    "plt.savefig('test_fig.pdf', format='pdf')\n",
    "plt.show()"
   ]
  },
  {
   "cell_type": "code",
   "execution_count": 2,
   "metadata": {
    "collapsed": true
   },
   "outputs": [],
   "source": [
    "# load full dataset\n",
    "y_full, x_full, _ = helpers.load_csv_data('data/train.csv', sub_sample = False, background_value = -1)"
   ]
  },
  {
   "cell_type": "code",
   "execution_count": 3,
   "metadata": {
    "collapsed": false
   },
   "outputs": [
    {
     "name": "stdout",
     "output_type": "stream",
     "text": [
      "Kaggle summary\n",
      "method: mass, replace: None, method: RR\n",
      "lambdas:  [1.59985871961e-05, 3.23745754282e-05, 0.152641796718, 3.23745754282e-05, 0.0184206996933, 7.90604321091e-06, 0.625055192527, 0.00910298177992]\n",
      "degrees:  [2, 2, 13, 2, 2, 3, 3, 3]\n",
      "accuracy mean : 0.830899851733\n",
      "details:  [ 0.94375957  0.78665908  0.90674603  0.72360674  0.8699187   0.7767586\n",
      "  0.9295393   0.71021079]\n"
     ]
    }
   ],
   "source": [
    "# train the model with chosen parameters\n",
    "\n",
    "#LAMBDAS = lambdas_star\n",
    "#DEGREES = degrees_star\n",
    "\n",
    "LAMBDAS = [1.59985871961e-05, 3.23745754282e-05, 0.152641796718, 3.23745754282e-05, 0.0184206996933, 7.90604321091e-06, 0.625055192527, 0.00910298177992] \n",
    "DEGREES = [2, 2, 13, 2, 2, 3, 3, 3]\n",
    "\n",
    "print(\"Kaggle summary\")\n",
    "print(\"method: mass, replace: None, method: RR\")\n",
    "print(\"lambdas: \", LAMBDAS)\n",
    "print(\"degrees: \", DEGREES)\n",
    "\n",
    "# check accuracy\n",
    "w_cv = api.train(y_full, x_full, poly=DEGREES, split_method='mass', replace=None, cv=True, cut=0., \n",
    "               model_func=implementations.ridge_regression, lambdas = LAMBDAS)\n",
    "\n",
    "print(\"accuracy mean :\" ,np.mean(np.array(w_cv)[:,3]))\n",
    "print(\"details: \", np.array(w_cv)[:,3])\n",
    "\n",
    "# train de model\n",
    "w = api.train(y_full, x_full, poly=DEGREES, split_method='mass', replace=None, cv=False, cut=0., \n",
    "               model_func=implementations.ridge_regression, lambdas = LAMBDAS)\n",
    "\n"
   ]
  },
  {
   "cell_type": "code",
   "execution_count": 18,
   "metadata": {
    "collapsed": false
   },
   "outputs": [],
   "source": [
    "# load test set\n",
    "test_y, test_x, test_ids = helpers.load_csv_data('data/test.csv')"
   ]
  },
  {
   "cell_type": "code",
   "execution_count": 19,
   "metadata": {
    "collapsed": false
   },
   "outputs": [
    {
     "name": "stdout",
     "output_type": "stream",
     "text": [
      "your done bro\n"
     ]
    }
   ],
   "source": [
    "# do the final prediction\n",
    "\n",
    "final_pred = api.predict(test_y, test_x, test_ids, 0., w, poly=DEGREES, split_method='mass', \\\n",
    "            replace=None, loss_method='ls', res_to_file=True)\n",
    "\n",
    "print(\"your done bro\")"
   ]
  },
  {
   "cell_type": "code",
   "execution_count": 1,
   "metadata": {
    "collapsed": false
   },
   "outputs": [
    {
     "ename": "NameError",
     "evalue": "name 'split' is not defined",
     "output_type": "error",
     "traceback": [
      "\u001b[0;31m-------------------------------------------------------------------\u001b[0m",
      "\u001b[0;31mNameError\u001b[0m                         Traceback (most recent call last)",
      "\u001b[0;32m<ipython-input-1-57f6c9130e2c>\u001b[0m in \u001b[0;36m<module>\u001b[0;34m()\u001b[0m\n\u001b[1;32m      1\u001b[0m \u001b[0;31m# just to show how many Higgs there are in each dataset\u001b[0m\u001b[0;34m\u001b[0m\u001b[0;34m\u001b[0m\u001b[0m\n\u001b[1;32m      2\u001b[0m \u001b[0;31m# split data into 8 group\u001b[0m\u001b[0;34m\u001b[0m\u001b[0;34m\u001b[0m\u001b[0m\n\u001b[0;32m----> 3\u001b[0;31m \u001b[0msplit_train\u001b[0m \u001b[0;34m=\u001b[0m \u001b[0msplit\u001b[0m\u001b[0;34m.\u001b[0m\u001b[0msplit\u001b[0m\u001b[0;34m(\u001b[0m\u001b[0my_full\u001b[0m\u001b[0;34m,\u001b[0m \u001b[0mx_full\u001b[0m\u001b[0;34m,\u001b[0m \u001b[0mmethod\u001b[0m\u001b[0;34m=\u001b[0m\u001b[0;34m'mass'\u001b[0m\u001b[0;34m)\u001b[0m\u001b[0;34m\u001b[0m\u001b[0m\n\u001b[0m\u001b[1;32m      4\u001b[0m \u001b[0;32mfor\u001b[0m \u001b[0mnum\u001b[0m\u001b[0;34m,\u001b[0m \u001b[0mi\u001b[0m \u001b[0;32min\u001b[0m \u001b[0menumerate\u001b[0m\u001b[0;34m(\u001b[0m\u001b[0msplit_train\u001b[0m\u001b[0;34m)\u001b[0m\u001b[0;34m:\u001b[0m\u001b[0;34m\u001b[0m\u001b[0m\n\u001b[1;32m      5\u001b[0m     \u001b[0my\u001b[0m\u001b[0;34m,\u001b[0m \u001b[0mx\u001b[0m\u001b[0;34m,\u001b[0m \u001b[0mid_\u001b[0m \u001b[0;34m=\u001b[0m \u001b[0mi\u001b[0m\u001b[0;34m\u001b[0m\u001b[0m\n",
      "\u001b[0;31mNameError\u001b[0m: name 'split' is not defined"
     ]
    }
   ],
   "source": [
    "# just to show how many Higgs there are in each dataset\n",
    "# split data into 8 group\n",
    "split_train = split.split(y_full, x_full, method='mass')\n",
    "for num, i in enumerate(split_train):\n",
    "    y, x, id_ = i\n",
    "    n = np.count_nonzero(y == 1)\n",
    "    print(\"Set\",num,\"  size\",len(y), \"  percent of Higgs\", float(n) / float(len(y)))"
   ]
  },
  {
   "cell_type": "code",
   "execution_count": 13,
   "metadata": {
    "collapsed": false
   },
   "outputs": [],
   "source": [
    "a, b, c = split_train[0]"
   ]
  },
  {
   "cell_type": "code",
   "execution_count": null,
   "metadata": {
    "collapsed": true
   },
   "outputs": [],
   "source": []
  }
 ],
 "metadata": {
  "anaconda-cloud": {},
  "kernelspec": {
   "display_name": "Python [Root]",
   "language": "python",
   "name": "Python [Root]"
  },
  "language_info": {
   "codemirror_mode": {
    "name": "ipython",
    "version": 3
   },
   "file_extension": ".py",
   "mimetype": "text/x-python",
   "name": "python",
   "nbconvert_exporter": "python",
   "pygments_lexer": "ipython3",
   "version": "3.5.2"
  }
 },
 "nbformat": 4,
 "nbformat_minor": 1
}
