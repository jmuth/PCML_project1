{
 "cells": [
  {
   "cell_type": "code",
   "execution_count": 16,
   "metadata": {
    "collapsed": false
   },
   "outputs": [
    {
     "name": "stdout",
     "output_type": "stream",
     "text": [
      "The autoreload extension is already loaded. To reload it, use:\n",
      "  %reload_ext autoreload\n"
     ]
    }
   ],
   "source": [
    "%matplotlib inline\n",
    "import api\n",
    "import helpers\n",
    "import evaluation\n",
    "import implementations\n",
    "import split\n",
    "\n",
    "import numpy as np\n",
    "import pandas as pd\n",
    "import matplotlib.pyplot as plt\n",
    "%load_ext autoreload\n",
    "%autoreload 2"
   ]
  },
  {
   "cell_type": "markdown",
   "metadata": {},
   "source": [
    "# Models comparison\n",
    "\n",
    "Let's compare 6 differents models to have a basic score allowing to compare them."
   ]
  },
  {
   "cell_type": "code",
   "execution_count": 56,
   "metadata": {
    "collapsed": false
   },
   "outputs": [],
   "source": [
    "# load train set\n",
    "\n",
    "# scaled between -1 (background) and 1 (Higgs)\n",
    "y, x, _ = helpers.load_csv_data('data/train.csv', sub_sample = True, background_value = -1)\n",
    "\n",
    "# scaled between 0 (background) and 1 (Higgs)\n",
    "# used in logistic regression\n",
    "y_rescaled, x_rescaled, _ = helpers.load_csv_data('data/train.csv', sub_sample = True, background_value = 0)"
   ]
  },
  {
   "cell_type": "code",
   "execution_count": 73,
   "metadata": {
    "collapsed": false
   },
   "outputs": [
    {
     "name": "stdout",
     "output_type": "stream",
     "text": [
      "-------------------------\n",
      "Least squares: \n",
      "te_loss = 0.8122\n",
      "accuracy = 0.7516\n",
      "-------------------------\n",
      "Least squares GD: \n",
      "te_loss = 0.8430\n",
      "accuracy = 0.7270\n",
      "-------------------------\n",
      "Least squares SGD: \n",
      "te_loss = 0.8305\n",
      "accuracy = 0.7354\n",
      "-------------------------\n",
      "Ridge Regression: \n",
      "te_loss = 0.8181\n",
      "accuracy = 0.7488\n",
      "-------------------------\n",
      "Logistic Regression: \n",
      "te_loss = 666.4154\n",
      "accuracy = 0.7214\n",
      "-------------------------\n",
      "Logistic Regression: \n",
      "te_loss = 666.4154\n",
      "accuracy = 0.7214\n"
     ]
    }
   ],
   "source": [
    "# test all the models\n",
    "\n",
    "# least square\n",
    "cv_least_squares = api.train(y, x, poly=0, split_method=None, replace=None, cv=True, cut=0., \\\n",
    "              model_func=implementations.least_squares)\n",
    "\n",
    "print(\"-------------------------\")\n",
    "print(\"Least squares: \")\n",
    "print(\"te_loss = %.4f\" % cv_least_squares[2])\n",
    "print(\"accuracy = %.4f\" % cv_least_squares[3])\n",
    "\n",
    "# least squares GD\n",
    "cv_least_squares_GD = api.train(y, x, poly=0, split_method=None, replace=None, cv=True, cut=0., \\\n",
    "              model_func=implementations.least_squares_GD, max_iters = 10000, gamma = 0.01)\n",
    "\n",
    "print(\"-------------------------\")\n",
    "print(\"Least squares GD: \")\n",
    "print(\"te_loss = %.4f\" % cv_least_squares_GD[2])\n",
    "print(\"accuracy = %.4f\" % cv_least_squares_GD[3])\n",
    "\n",
    "# least squares Stochastic GD\n",
    "cv_least_squares_SGD = api.train(y, x, poly=0, split_method=None, replace=None, cv=True, cut=0., \\\n",
    "              model_func=implementations.least_squares_SGD, max_iters = 10000, gamma = 0.1)\n",
    "\n",
    "print(\"-------------------------\")\n",
    "print(\"Least squares SGD: \")\n",
    "print(\"te_loss = %.4f\" % cv_least_squares_SGD[2])\n",
    "print(\"accuracy = %.4f\" % cv_least_squares_SGD[3])\n",
    "\n",
    "# RR\n",
    "cv_ridge_regression = api.train(y, x, poly=0, split_method=None, replace=None, cv=True, cut=0., \\\n",
    "              model_func=implementations.ridge_regression, lambda_ = 0.00000001)\n",
    "\n",
    "print(\"-------------------------\")\n",
    "print(\"Ridge Regression: \")\n",
    "print(\"te_loss = %.4f\" % cv_ridge_regression[2])\n",
    "print(\"accuracy = %.4f\" % cv_ridge_regression[3])\n",
    "\n",
    "# LR\n",
    "cv_logistic_regression = api.train(y_rescaled, x_rescaled, poly=0, split_method=None, replace=None, cv=True, cut=0.5, \\\n",
    "              model_func=implementations.logistic_regression, max_iters = 10000, gamma = 0.00001)\n",
    "\n",
    "print(\"-------------------------\")\n",
    "print(\"Logistic Regression: \")\n",
    "print(\"te_loss = %.4f\" % cv_logistic_regression[2])\n",
    "print(\"accuracy = %.4f\" % cv_logistic_regression[3])\n",
    "\n",
    "# Regularized LR\n",
    "cv_reg_logistic_regression = api.train(y_rescaled, x_rescaled, poly=0, split_method=None, replace=None, cv=True, cut=0.5, \\\n",
    "              model_func=implementations.reg_logistic_regression, lambda_ = 0.1, max_iters = 10000, gamma = 0.00001)\n",
    "\n",
    "print(\"-------------------------\")\n",
    "print(\"Logistic Regression: \")\n",
    "print(\"te_loss = %.4f\" % cv_reg_logistic_regression[2])\n",
    "print(\"accuracy = %.4f\" % cv_reg_logistic_regression[3])"
   ]
  },
  {
   "cell_type": "code",
   "execution_count": null,
   "metadata": {
    "collapsed": true
   },
   "outputs": [],
   "source": []
  }
 ],
 "metadata": {
  "anaconda-cloud": {},
  "kernelspec": {
   "display_name": "Python [Root]",
   "language": "python",
   "name": "Python [Root]"
  },
  "language_info": {
   "codemirror_mode": {
    "name": "ipython",
    "version": 3
   },
   "file_extension": ".py",
   "mimetype": "text/x-python",
   "name": "python",
   "nbconvert_exporter": "python",
   "pygments_lexer": "ipython3",
   "version": "3.5.2"
  }
 },
 "nbformat": 4,
 "nbformat_minor": 1
}
