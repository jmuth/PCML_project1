{
 "cells": [
  {
   "cell_type": "code",
   "execution_count": 1,
   "metadata": {
    "collapsed": false
   },
   "outputs": [],
   "source": [
    "%matplotlib inline\n",
    "import api\n",
    "import helpers\n",
    "import evaluation\n",
    "import implementations\n",
    "import split\n",
    "\n",
    "import numpy as np\n",
    "import pandas as pd\n",
    "import matplotlib.pyplot as plt\n",
    "%load_ext autoreload\n",
    "%autoreload 2"
   ]
  },
  {
   "cell_type": "markdown",
   "metadata": {},
   "source": [
    "# Models comparison\n",
    "\n",
    "Let's compare 6 differents models to have a basic score allowing to compare them."
   ]
  },
  {
   "cell_type": "code",
   "execution_count": 2,
   "metadata": {
    "collapsed": false
   },
   "outputs": [],
   "source": [
    "# load train set\n",
    "\n",
    "# scaled between -1 (background) and 1 (Higgs)\n",
    "y, x, _ = helpers.load_csv_data('data/train.csv', sub_sample = True, background_value = -1)\n",
    "\n",
    "# scaled between 0 (background) and 1 (Higgs)\n",
    "# used in logistic regression\n",
    "y_rescaled, x_rescaled, _ = helpers.load_csv_data('data/train.csv', sub_sample = True, background_value = 0)\n",
    "x_rescaled,_ , _ = helpers.standardize(x_rescaled)"
   ]
  },
  {
   "cell_type": "code",
   "execution_count": 3,
   "metadata": {
    "collapsed": false
   },
   "outputs": [
    {
     "name": "stdout",
     "output_type": "stream",
     "text": [
      "-------------------------\n",
      "Least Square\n",
      "te_loss = 0.8122\n",
      "accuracy = 0.6978\n",
      "-------------------------\n",
      "Least squares GD\n",
      "te_loss = 0.8292\n",
      "accuracy = 0.6894\n",
      "-------------------------\n",
      "Least squares SGD\n",
      "te_loss = 4.3905\n",
      "accuracy = 0.3286\n",
      "-------------------------\n",
      "Ridge Regression\n",
      "te_loss = 0.8181\n",
      "accuracy = 0.6966\n",
      "-------------------------\n",
      "Logistic Regression\n",
      "te_loss = 753.2587\n",
      "accuracy = 0.6756\n",
      "-------------------------\n",
      "Regularized Logistic Regression\n",
      "te_loss = 753.2587\n",
      "accuracy = 0.6756\n"
     ]
    },
    {
     "data": {
      "text/plain": [
       "(0.13382082511229884,\n",
       " 2254.330633900739,\n",
       " 753.25868435492987,\n",
       " 0.67559999999999998)"
      ]
     },
     "execution_count": 3,
     "metadata": {},
     "output_type": "execute_result"
    }
   ],
   "source": [
    "\n",
    "def choose_best(cv, best):\n",
    "    if cv[2] < best[2]:\n",
    "        return cv\n",
    "    else:\n",
    "        return best\n",
    "    \n",
    "    \n",
    "def cross_validate_parameters(y, x, function_name, method_name,cut=0.5, gammas=None, lambdas=None, *args, **kwargs):\n",
    "    best = 0,0, float('inf'), 0\n",
    "    \n",
    "    if (lambdas is None) and (gammas is not None):\n",
    "        for i in gammas:\n",
    "            cv = api.train(y, x, poly=0, split_method=None, replace=None, cv=True, cut=cut, \\\n",
    "                           model_func=method_name, gamma = i, *args)\n",
    "            best = choose_best(cv, best)\n",
    "            \n",
    "    elif (gammas is None) and (lambdas is not None):\n",
    "        for i in lambdas:\n",
    "            cv = api.train(y, x, poly=0, split_method=None, replace=None, cv=True, cut=cut, \\\n",
    "                           model_func=method_name, lambda_ = i, *args)\n",
    "            best = choose_best(cv, best)\n",
    "            \n",
    "    elif (gammas is not None) and (lambdas is not None):\n",
    "        for i in gammas:\n",
    "            for j in lambdas:\n",
    "                cv = api.train(y, x, poly=0, split_method=None, replace=None, cv=True, cut=cut, \\\n",
    "                               model_func=method_name, gamma = i, lambda_ = j, *args)\n",
    "                best = choose_best(cv, best)\n",
    "                \n",
    "    else:\n",
    "        best = api.train(y, x, poly=0, split_method=None, replace=None, cv=True, cut=cut, \\\n",
    "                               model_func=method_name, *args)\n",
    "        \n",
    "    print(\"-------------------------\")\n",
    "    print(function_name)\n",
    "    print(\"te_loss = %.4f\" % best[2])\n",
    "    print(\"accuracy = %.4f\" % best[3])\n",
    "\n",
    "    return best\n",
    "\n",
    "\n",
    "# load train set\n",
    "\n",
    "# scaled between -1 (background) and 1 (Higgs)\n",
    "y, x, _ = helpers.load_csv_data('data/train.csv', sub_sample = True, background_value = -1)\n",
    "\n",
    "# scaled between 0 (background) and 1 (Higgs)\n",
    "# used in logistic regression\n",
    "y_rescaled, x_rescaled, _ = helpers.load_csv_data('data/train.csv', sub_sample = True, background_value = 0)\n",
    "x_rescaled, _, _ = helpers.standardize(x_rescaled)\n",
    "\n",
    "\n",
    "# range parameter\n",
    "gammas = np.linspace(start=0.00001, stop=1, num=10)\n",
    "lambdas = np.logspace(start=-8, stop=0, num=10)\n",
    "max_iters = 10000\n",
    "\n",
    "\n",
    "# least squares\n",
    "cross_validate_parameters(y, x, 'Least Square', implementations.least_squares)\n",
    "\n",
    "# least squares GD\n",
    "cross_validate_parameters(y, x,'Least squares GD',  implementations.least_squares_GD, \\\n",
    "                                              gammas = gammas, max_iters = max_iters)\n",
    "\n",
    "# least squares Stochastic GD\n",
    "cross_validate_parameters(y, x,'Least squares SGD', implementations.least_squares_SGD, \\\n",
    "                                               gammas = gammas, max_iters = max_iters)\n",
    "\n",
    "# RR\n",
    "cross_validate_parameters(y, x, 'Ridge Regression', implementations.ridge_regression, lambdas = lambdas)\n",
    "\n",
    "\n",
    "# LR\n",
    "cross_validate_parameters(y_rescaled, x_rescaled,'Logistic Regression', implementations.logistic_regression, \\\n",
    "                                                cut = 0.5, gammas = gammas, max_iters = max_iters)\n",
    "\n",
    "# RLR\n",
    "cross_validate_parameters(y_rescaled, x_rescaled, 'Regularized Logistic Regression', \\\n",
    "                        implementations.reg_logistic_regression, cut = 0.5, gammas = gammas, \\\n",
    "                        lambdas = lambdas, max_iters = max_iters)\n"
   ]
  },
  {
   "cell_type": "code",
   "execution_count": null,
   "metadata": {
    "collapsed": true
   },
   "outputs": [],
   "source": []
  }
 ],
 "metadata": {
  "anaconda-cloud": {},
  "kernelspec": {
   "display_name": "Python [Root]",
   "language": "python",
   "name": "Python [Root]"
  },
  "language_info": {
   "codemirror_mode": {
    "name": "ipython",
    "version": 3
   },
   "file_extension": ".py",
   "mimetype": "text/x-python",
   "name": "python",
   "nbconvert_exporter": "python",
   "pygments_lexer": "ipython3",
   "version": "3.5.2"
  }
 },
 "nbformat": 4,
 "nbformat_minor": 1
}
